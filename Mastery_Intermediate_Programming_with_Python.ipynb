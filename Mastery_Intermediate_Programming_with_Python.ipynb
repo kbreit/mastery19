{
  "nbformat": 4,
  "nbformat_minor": 0,
  "metadata": {
    "colab": {
      "name": "Mastery - Intermediate Programming with Python.ipynb",
      "version": "0.3.2",
      "provenance": [],
      "collapsed_sections": [],
      "toc_visible": true,
      "include_colab_link": true
    },
    "kernelspec": {
      "name": "python3",
      "display_name": "Python 3"
    }
  },
  "cells": [
    {
      "cell_type": "markdown",
      "metadata": {
        "id": "view-in-github",
        "colab_type": "text"
      },
      "source": [
        "<a href=\"https://colab.research.google.com/github/kbreit/mastery19/blob/master/Mastery_Intermediate_Programming_with_Python.ipynb\" target=\"_parent\"><img src=\"https://colab.research.google.com/assets/colab-badge.svg\" alt=\"Open In Colab\"/></a>"
      ]
    },
    {
      "cell_type": "markdown",
      "metadata": {
        "id": "ilX_bqTvypqY",
        "colab_type": "text"
      },
      "source": [
        "<center><img src=\"https://www.insight.com/content/dam/insight-web/logos/global-nav.svg\" width='400'></center>\n",
        "<br>\n",
        "<font color='#544640'>\n",
        "<center><i>Mastery 2019</i></center>\n",
        "<center><i>Scottsdale, Arizona</i></center></font>\n",
        "  \n",
        "  <br>\n",
        "<center><i><font color='#544640' size='1'>Authors: <br>\n",
        "  \n",
        "Kevin Breit</font></i></center>\n",
        "\n",
        "<center><i><font color='#B81590' size='1'>kevin.breit@insight.com</font></i></center><br>\n",
        "    \n",
        "<center><i><font color='#544640' size='1'>Victor Aranda</font></i></center>\n",
        "\n",
        "<center><i><font color='#B81590' size='1'>victor.aranda@insight.com</font></i></center>"
      ]
    },
    {
      "cell_type": "markdown",
      "metadata": {
        "id": "fya744P_lD2_",
        "colab_type": "text"
      },
      "source": [
        "\n",
        "\n",
        "\n",
        "---\n",
        "\n",
        "\n",
        "\n",
        "\n",
        "\n",
        "# Objective of Course\n",
        "\n"
      ]
    },
    {
      "cell_type": "markdown",
      "metadata": {
        "id": "-_RX8qpL2hTm",
        "colab_type": "text"
      },
      "source": [
        "* Apply Python concepts to real world application development"
      ]
    },
    {
      "cell_type": "markdown",
      "metadata": {
        "id": "HDegPGoilFuo",
        "colab_type": "text"
      },
      "source": [
        "\n",
        "\n",
        "---\n",
        "\n",
        "\n",
        "\n",
        "# Application Level Components\n"
      ]
    },
    {
      "cell_type": "markdown",
      "metadata": {
        "id": "73LvVFyc2kOc",
        "colab_type": "text"
      },
      "source": [
        "\n",
        "* User interface\n",
        "* Data storage\n",
        "* Connectivity\n",
        "* Main logic\n",
        "* Testing frameworks"
      ]
    },
    {
      "cell_type": "markdown",
      "metadata": {
        "id": "QyXuBFtQ3AP-",
        "colab_type": "text"
      },
      "source": [
        "## User Interface"
      ]
    },
    {
      "cell_type": "markdown",
      "metadata": {
        "id": "3rMgpdjRlts5",
        "colab_type": "text"
      },
      "source": [
        "\n",
        "\n",
        "An application doesn't necessarily need a graphical user interface (GUI). It can be run automatically at certain times or under certain conditions. For example this can run at 3 AM.\n",
        "\n",
        "`cleanup_tmp_files.py --location /tmp`\n",
        "\n",
        "Alternatively, it can be a command line interface similar to the Python interpreter.\n",
        "\n",
        "```\n",
        "todo.py\n",
        "Enter your task: Clean the dishes\n",
        "Task created\n",
        "```\n",
        "\n",
        "For graphical interfaces, Python can use `Tkniter`, `wxPython`, or many other graphical interface frameworks.\n",
        "\n",
        "This presentation will be based on the first example, which may be run automatically."
      ]
    },
    {
      "cell_type": "markdown",
      "metadata": {
        "id": "hfBrVFW83Hry",
        "colab_type": "text"
      },
      "source": [
        "## Data Storage\n"
      ]
    },
    {
      "cell_type": "markdown",
      "metadata": {
        "id": "s4TP19WH3sGu",
        "colab_type": "text"
      },
      "source": [
        "Data storage can be in a database, flat files, or even an Excel file.\n"
      ]
    },
    {
      "cell_type": "markdown",
      "metadata": {
        "id": "nuHR7u4L3tmc",
        "colab_type": "text"
      },
      "source": [
        "### Excel Files\n"
      ]
    },
    {
      "cell_type": "markdown",
      "metadata": {
        "id": "mIj6mq_ODoR8",
        "colab_type": "text"
      },
      "source": [
        "\n",
        "\n",
        "<font color='#544640'>We'll open an Excel (.xlsx) containing some stock ticker symbols with prices.\n",
        "\n",
        "We're going to use `pandas`, a very powerful data science and data manipulation library that can handle large amounts of multidimensional \"panel data\" (hence the name) efficiently. It is generally used for data science and computing applications.\n",
        "\n",
        "It's also convenient for accessing and handling tabular data. There are *many* libraries that can handle Excel files, `pandas` is only one. `pandas` comes with some caveats (and limitations) that we won't go into here, related to it's original intended use; i.e. it is definitely not just a 'excel reader' library!\n",
        "\n",
        "Side note: `pandas` objects are called `dataframes`, much like R's native data structure and are very similar.\n",
        "\n",
        "For our purposes, here is the relevant doc:\n",
        "\n",
        "https://pandas.pydata.org/pandas-docs/stable/reference/api/pandas.read_excel.html</font>"
      ]
    },
    {
      "cell_type": "code",
      "metadata": {
        "id": "2UlfPzsB2eH6",
        "colab_type": "code",
        "colab": {}
      },
      "source": [
        "# environment setup\n",
        "import os\n",
        "import pandas as pd"
      ],
      "execution_count": 0,
      "outputs": []
    },
    {
      "cell_type": "markdown",
      "metadata": {
        "id": "NNRQ2boB4NCL",
        "colab_type": "text"
      },
      "source": [
        "First we will import the data from the spreadsheet into Python and Pandas."
      ]
    },
    {
      "cell_type": "code",
      "metadata": {
        "id": "sbYfR0tt4TtI",
        "colab_type": "code",
        "colab": {}
      },
      "source": [
        "data = pd.read_excel('https://github.com/kbreit/mastery19/raw/master/Ticker%20Symbols.xlsx', sheet_name = None)"
      ],
      "execution_count": 0,
      "outputs": []
    },
    {
      "cell_type": "markdown",
      "metadata": {
        "id": "tmaxYjhp4y3o",
        "colab_type": "text"
      },
      "source": [
        "<font color='#544640'>That was easy. When we specify sheet_name, we can do so using  `pd.read_excel` returns a `dict` whose key values are the names of the sheets in the `xlsx` document.</font>\n"
      ]
    },
    {
      "cell_type": "code",
      "metadata": {
        "id": "L6zYnmAE44Aj",
        "colab_type": "code",
        "outputId": "ee16fb84-f54b-4e83-c9e9-caf536e12492",
        "colab": {
          "base_uri": "https://localhost:8080/",
          "height": 34
        }
      },
      "source": [
        "list(data.keys())"
      ],
      "execution_count": 0,
      "outputs": [
        {
          "output_type": "execute_result",
          "data": {
            "text/plain": [
              "['Stocks']"
            ]
          },
          "metadata": {
            "tags": []
          },
          "execution_count": 4
        }
      ]
    },
    {
      "cell_type": "markdown",
      "metadata": {
        "id": "K6gvjwsl5HDJ",
        "colab_type": "text"
      },
      "source": [
        "Notice the list above shows the worksheet from the spreadsheet. Now we can list the stocks we want to pull the price for."
      ]
    },
    {
      "cell_type": "code",
      "metadata": {
        "id": "84APntb_5Zik",
        "colab_type": "code",
        "outputId": "5bbfb139-86cb-45e3-e5c3-bd683f66e725",
        "colab": {
          "base_uri": "https://localhost:8080/",
          "height": 102
        }
      },
      "source": [
        "dataframe = data['Stocks']\n",
        "dataframe['Ticker']"
      ],
      "execution_count": 0,
      "outputs": [
        {
          "output_type": "execute_result",
          "data": {
            "text/plain": [
              "0    NSIT\n",
              "1    MSFT\n",
              "2    CSCO\n",
              "3    AAPL\n",
              "Name: Ticker, dtype: object"
            ]
          },
          "metadata": {
            "tags": []
          },
          "execution_count": 5
        }
      ]
    },
    {
      "cell_type": "markdown",
      "metadata": {
        "id": "kxj5vvWq5wsG",
        "colab_type": "text"
      },
      "source": [
        "Very cool. We now have a list of ticker symbols we want to retrieve stock prices for."
      ]
    },
    {
      "cell_type": "markdown",
      "metadata": {
        "id": "whJddCSJdJGh",
        "colab_type": "text"
      },
      "source": [
        "## Screen Scraping\n"
      ]
    },
    {
      "cell_type": "markdown",
      "metadata": {
        "id": "vhHM-lekdpS8",
        "colab_type": "text"
      },
      "source": [
        "\n",
        "In this simple example we're going to do some very basic web scraping.\n",
        "\n",
        "Please note the random pause/wait time introduced in the loops in this example. It's important not to get yourself into trouble by sending too many requests too frequently to the site you are accessing. Your computer will basically try to (mini-)DoS a target host if you aren't careful."
      ]
    },
    {
      "cell_type": "markdown",
      "metadata": {
        "id": "ifS1Yijwdxtl",
        "colab_type": "text"
      },
      "source": [
        "### Libraries Used:\n"
      ]
    },
    {
      "cell_type": "markdown",
      "metadata": {
        "id": "35UBZiYEdthM",
        "colab_type": "text"
      },
      "source": [
        "\n",
        "* `BeautifulSoup4`: https://readthedocs.org/projects/beautiful-soup-4/\n",
        "* `requests`: http://docs.python-requests.org/en/master/\n",
        "* `re`: https://docs.python.org/3/howto/regex.html"
      ]
    },
    {
      "cell_type": "code",
      "metadata": {
        "id": "t6_KCYAedqWU",
        "colab_type": "code",
        "colab": {}
      },
      "source": [
        "# set up environment\n",
        "import bs4 as bs\n",
        "from bs4 import BeautifulSoup\n",
        "from bs4.element import Comment\n",
        "import re\n",
        "from json import loads\n",
        "from pprint import pprint as pp\n",
        "\n",
        "\n",
        "# these two packages do almost the same thing\n",
        "# used one for one example and one for another\n",
        "import urllib.request\n",
        "import requests"
      ],
      "execution_count": 0,
      "outputs": []
    },
    {
      "cell_type": "markdown",
      "metadata": {
        "id": "CRwk9ezWeMDo",
        "colab_type": "text"
      },
      "source": [
        "### Get All Links on a Page:"
      ]
    },
    {
      "cell_type": "markdown",
      "metadata": {
        "id": "eihLKgRDeSDM",
        "colab_type": "text"
      },
      "source": [
        "You can easily write a custom web-crawler/scraper by traversing links one by one through a domain. Use at your own risk - don't say I didn't warn you. :)"
      ]
    },
    {
      "cell_type": "code",
      "metadata": {
        "id": "Xrdf0alDeVQu",
        "colab_type": "code",
        "outputId": "3d43fa08-9e42-4a86-ee98-b57e763e07fd",
        "colab": {
          "base_uri": "https://localhost:8080/",
          "height": 136
        }
      },
      "source": [
        "target_page = 'https://finance.yahoo.com/quote/AAPL/profile?p=AAPL'\n",
        "\n",
        "page_data = requests.get(target_page)\n",
        "\n",
        "# use this regular expression to strip out HTML tags, if needed\n",
        "# re.sub('<[^<]+?>', '', page_data.text)\n",
        "\n",
        "soup = bs.BeautifulSoup(page_data.text, 'html.parser')\n",
        "\n",
        "links = soup.find_all('a', attrs={'href': re.compile('^http://')})\n",
        "\n",
        "for link in links[:10]:\n",
        "    print(link.get('href'))"
      ],
      "execution_count": 0,
      "outputs": [
        {
          "output_type": "stream",
          "text": [
            "http://www.apple.com\n",
            "http://info.yahoo.com/privacy/us/yahoo/\n",
            "http://info.yahoo.com/relevantads/\n",
            "http://info.yahoo.com/legal/us/yahoo/utos/utos-173.html\n",
            "http://twitter.com/YahooFinance\n",
            "http://facebook.com/yahoofinance\n",
            "http://yahoofinance.tumblr.com\n"
          ],
          "name": "stdout"
        }
      ]
    },
    {
      "cell_type": "markdown",
      "metadata": {
        "id": "APS9pCmjegpa",
        "colab_type": "text"
      },
      "source": [
        "### Find Specific Text on a Page:"
      ]
    },
    {
      "cell_type": "code",
      "metadata": {
        "id": "4cgUcjQaerv-",
        "colab_type": "code",
        "outputId": "0ec33581-08db-4d8c-bab1-1a7c63719437",
        "colab": {
          "base_uri": "https://localhost:8080/",
          "height": 34
        }
      },
      "source": [
        "# wonderful example from https://stackoverflow.com/questions/1936466/beautifulsoup-grab-visible-webpage-text\n",
        "\n",
        "def tag_visible(element):\n",
        "    if element.parent.name in ['style', 'script', 'head', 'title', 'meta', '[document]']:\n",
        "        return False\n",
        "    if isinstance(element, Comment):\n",
        "        return False\n",
        "    return True\n",
        "\n",
        "def get_ceo(ticker):\n",
        "    soup = BeautifulSoup(requests.get('http://finance.yahoo.com/quote/{0}/profile?p={0}'.format(ticker)).content)\n",
        "    script = soup.find('script',text=re.compile('root.App.main')).text\n",
        "    data = loads(re.search('root.App.main\\s+=\\s+(\\{.*\\})', script).group(1))\n",
        "#     pp(data[\"context\"][\"dispatcher\"][\"stores\"][u'QuoteSummaryStore']['assetProfile']['companyOfficers'])\n",
        "    executive_json = data[\"context\"][\"dispatcher\"][\"stores\"][u'QuoteSummaryStore']['assetProfile']['companyOfficers']\n",
        "    for exec in executive_json:\n",
        "        if 'CEO' in exec['title']:\n",
        "            return exec['name']\n",
        "\n",
        "ceo = get_ceo('AAPL')\n",
        "print(ceo)"
      ],
      "execution_count": 0,
      "outputs": [
        {
          "output_type": "stream",
          "text": [
            "Mr. Timothy D. Cook\n"
          ],
          "name": "stdout"
        }
      ]
    },
    {
      "cell_type": "markdown",
      "metadata": {
        "id": "_Lg3ZGpC4R7I",
        "colab_type": "text"
      },
      "source": [
        "## Connectivity\n"
      ]
    },
    {
      "cell_type": "markdown",
      "metadata": {
        "id": "MwgAeZ0n6c9I",
        "colab_type": "text"
      },
      "source": [
        "\n",
        "Connectivity can mean a lot of things. It can be connecting to a database for your data storage retrieval. Today's example will require us to retrieve the stock prices for the tickers in the Excel spreadsheet.\n",
        "\n",
        "`requests` is a very common library for HTTP requests in Python. `requests` will communicate with Alpha Vantage's API (https://www.alphavantage.co/) for stock price lookups.\n",
        "\n",
        "First, we need to import requests."
      ]
    },
    {
      "cell_type": "markdown",
      "metadata": {
        "id": "OHowDPZi7Kb5",
        "colab_type": "text"
      },
      "source": [
        "First, we need to construct our URL based on the API documentation (https://www.alphavantage.co/documentation/)."
      ]
    },
    {
      "cell_type": "code",
      "metadata": {
        "id": "yc2yDSjt7PbW",
        "colab_type": "code",
        "outputId": "97be0a01-db59-4901-a230-0d58c62c4740",
        "colab": {
          "base_uri": "https://localhost:8080/",
          "height": 34
        }
      },
      "source": [
        "import requests\n",
        "\n",
        "API_KEY=\"\"\n",
        "params = {'function': 'TIME_SERIES_DAILY',\n",
        "          'symbol': 'MSFT',\n",
        "          'apikey': API_KEY}\n",
        "response = requests.get('https://www.alphavantage.co/query', params=params)\n",
        "response.url"
      ],
      "execution_count": 0,
      "outputs": [
        {
          "output_type": "execute_result",
          "data": {
            "text/plain": [
              "'https://www.alphavantage.co/query?function=TIME_SERIES_DAILY&symbol=MSFT&apikey=NWL4TGYBVPSU0QHW'"
            ]
          },
          "metadata": {
            "tags": []
          },
          "execution_count": 10
        }
      ]
    },
    {
      "cell_type": "markdown",
      "metadata": {
        "id": "gFwGRWb376nq",
        "colab_type": "text"
      },
      "source": [
        "Notice the URL has the keys and values in the dictionary I specified. What did Alpha Advantage return to us? Lets see in JSON format."
      ]
    },
    {
      "cell_type": "code",
      "metadata": {
        "id": "Bg3Ib6Ua8Ds9",
        "colab_type": "code",
        "outputId": "f0f0dbfc-5a1f-4126-f248-79507ea707e1",
        "colab": {
          "base_uri": "https://localhost:8080/",
          "height": 1000
        }
      },
      "source": [
        "response.json()"
      ],
      "execution_count": 0,
      "outputs": [
        {
          "output_type": "execute_result",
          "data": {
            "text/plain": [
              "{'Meta Data': {'1. Information': 'Daily Prices (open, high, low, close) and Volumes',\n",
              "  '2. Symbol': 'MSFT',\n",
              "  '3. Last Refreshed': '2019-08-09 09:35:27',\n",
              "  '4. Output Size': 'Compact',\n",
              "  '5. Time Zone': 'US/Eastern'},\n",
              " 'Time Series (Daily)': {'2019-03-20': {'1. open': '117.3900',\n",
              "   '2. high': '118.7500',\n",
              "   '3. low': '116.7100',\n",
              "   '4. close': '117.5200',\n",
              "   '5. volume': '28113300'},\n",
              "  '2019-03-21': {'1. open': '117.1400',\n",
              "   '2. high': '120.8200',\n",
              "   '3. low': '117.0900',\n",
              "   '4. close': '120.2200',\n",
              "   '5. volume': '29854400'},\n",
              "  '2019-03-22': {'1. open': '119.5000',\n",
              "   '2. high': '119.5900',\n",
              "   '3. low': '117.0400',\n",
              "   '4. close': '117.0500',\n",
              "   '5. volume': '33624500'},\n",
              "  '2019-03-25': {'1. open': '116.5600',\n",
              "   '2. high': '118.0100',\n",
              "   '3. low': '116.3200',\n",
              "   '4. close': '117.6600',\n",
              "   '5. volume': '27067100'},\n",
              "  '2019-03-26': {'1. open': '118.6200',\n",
              "   '2. high': '118.7100',\n",
              "   '3. low': '116.8500',\n",
              "   '4. close': '117.9100',\n",
              "   '5. volume': '26097700'},\n",
              "  '2019-03-27': {'1. open': '117.8800',\n",
              "   '2. high': '118.2100',\n",
              "   '3. low': '115.5200',\n",
              "   '4. close': '116.7700',\n",
              "   '5. volume': '22733400'},\n",
              "  '2019-03-28': {'1. open': '117.4400',\n",
              "   '2. high': '117.5800',\n",
              "   '3. low': '116.1300',\n",
              "   '4. close': '116.9300',\n",
              "   '5. volume': '18334800'},\n",
              "  '2019-03-29': {'1. open': '118.0700',\n",
              "   '2. high': '118.3200',\n",
              "   '3. low': '116.9600',\n",
              "   '4. close': '117.9400',\n",
              "   '5. volume': '25399800'},\n",
              "  '2019-04-01': {'1. open': '118.9500',\n",
              "   '2. high': '119.1100',\n",
              "   '3. low': '118.1000',\n",
              "   '4. close': '119.0200',\n",
              "   '5. volume': '22789100'},\n",
              "  '2019-04-02': {'1. open': '119.0600',\n",
              "   '2. high': '119.4800',\n",
              "   '3. low': '118.5200',\n",
              "   '4. close': '119.1900',\n",
              "   '5. volume': '18142300'},\n",
              "  '2019-04-03': {'1. open': '119.8600',\n",
              "   '2. high': '120.4300',\n",
              "   '3. low': '119.1500',\n",
              "   '4. close': '119.9700',\n",
              "   '5. volume': '22860700'},\n",
              "  '2019-04-04': {'1. open': '120.1000',\n",
              "   '2. high': '120.2300',\n",
              "   '3. low': '118.3800',\n",
              "   '4. close': '119.3600',\n",
              "   '5. volume': '20112800'},\n",
              "  '2019-04-05': {'1. open': '119.3900',\n",
              "   '2. high': '120.2300',\n",
              "   '3. low': '119.3700',\n",
              "   '4. close': '119.8900',\n",
              "   '5. volume': '15826200'},\n",
              "  '2019-04-08': {'1. open': '119.8100',\n",
              "   '2. high': '120.0200',\n",
              "   '3. low': '118.6400',\n",
              "   '4. close': '119.9300',\n",
              "   '5. volume': '15116200'},\n",
              "  '2019-04-09': {'1. open': '118.6300',\n",
              "   '2. high': '119.5400',\n",
              "   '3. low': '118.5800',\n",
              "   '4. close': '119.2800',\n",
              "   '5. volume': '17612000'},\n",
              "  '2019-04-10': {'1. open': '119.7600',\n",
              "   '2. high': '120.3500',\n",
              "   '3. low': '119.5400',\n",
              "   '4. close': '120.1900',\n",
              "   '5. volume': '16477200'},\n",
              "  '2019-04-11': {'1. open': '120.5400',\n",
              "   '2. high': '120.8500',\n",
              "   '3. low': '119.9200',\n",
              "   '4. close': '120.3300',\n",
              "   '5. volume': '14209100'},\n",
              "  '2019-04-12': {'1. open': '120.6400',\n",
              "   '2. high': '120.9800',\n",
              "   '3. low': '120.3700',\n",
              "   '4. close': '120.9500',\n",
              "   '5. volume': '19745100'},\n",
              "  '2019-04-15': {'1. open': '120.9400',\n",
              "   '2. high': '121.5800',\n",
              "   '3. low': '120.5700',\n",
              "   '4. close': '121.0500',\n",
              "   '5. volume': '15792600'},\n",
              "  '2019-04-16': {'1. open': '121.6400',\n",
              "   '2. high': '121.6500',\n",
              "   '3. low': '120.1000',\n",
              "   '4. close': '120.7700',\n",
              "   '5. volume': '14071800'},\n",
              "  '2019-04-17': {'1. open': '121.2400',\n",
              "   '2. high': '121.8500',\n",
              "   '3. low': '120.5400',\n",
              "   '4. close': '121.7700',\n",
              "   '5. volume': '19300900'},\n",
              "  '2019-04-18': {'1. open': '122.1900',\n",
              "   '2. high': '123.5200',\n",
              "   '3. low': '121.3000',\n",
              "   '4. close': '123.3700',\n",
              "   '5. volume': '27991000'},\n",
              "  '2019-04-22': {'1. open': '122.6200',\n",
              "   '2. high': '124.0000',\n",
              "   '3. low': '122.5700',\n",
              "   '4. close': '123.7600',\n",
              "   '5. volume': '15648700'},\n",
              "  '2019-04-23': {'1. open': '124.1000',\n",
              "   '2. high': '125.5800',\n",
              "   '3. low': '123.8300',\n",
              "   '4. close': '125.4400',\n",
              "   '5. volume': '24025500'},\n",
              "  '2019-04-24': {'1. open': '125.7900',\n",
              "   '2. high': '125.8500',\n",
              "   '3. low': '124.5200',\n",
              "   '4. close': '125.0100',\n",
              "   '5. volume': '31257000'},\n",
              "  '2019-04-25': {'1. open': '130.0600',\n",
              "   '2. high': '131.3700',\n",
              "   '3. low': '128.8300',\n",
              "   '4. close': '129.1500',\n",
              "   '5. volume': '38033900'},\n",
              "  '2019-04-26': {'1. open': '129.7000',\n",
              "   '2. high': '130.5200',\n",
              "   '3. low': '129.0200',\n",
              "   '4. close': '129.8900',\n",
              "   '5. volume': '23654900'},\n",
              "  '2019-04-29': {'1. open': '129.9000',\n",
              "   '2. high': '130.1800',\n",
              "   '3. low': '129.3500',\n",
              "   '4. close': '129.7700',\n",
              "   '5. volume': '16324200'},\n",
              "  '2019-04-30': {'1. open': '129.8100',\n",
              "   '2. high': '130.7000',\n",
              "   '3. low': '129.3900',\n",
              "   '4. close': '130.6000',\n",
              "   '5. volume': '24166500'},\n",
              "  '2019-05-01': {'1. open': '130.5300',\n",
              "   '2. high': '130.6500',\n",
              "   '3. low': '127.7000',\n",
              "   '4. close': '127.8800',\n",
              "   '5. volume': '26821700'},\n",
              "  '2019-05-02': {'1. open': '127.9800',\n",
              "   '2. high': '128.0000',\n",
              "   '3. low': '125.5200',\n",
              "   '4. close': '126.2100',\n",
              "   '5. volume': '27350200'},\n",
              "  '2019-05-03': {'1. open': '127.3600',\n",
              "   '2. high': '129.4300',\n",
              "   '3. low': '127.2500',\n",
              "   '4. close': '128.9000',\n",
              "   '5. volume': '24911100'},\n",
              "  '2019-05-06': {'1. open': '126.3900',\n",
              "   '2. high': '128.5600',\n",
              "   '3. low': '126.1100',\n",
              "   '4. close': '128.1500',\n",
              "   '5. volume': '24239800'},\n",
              "  '2019-05-07': {'1. open': '126.4600',\n",
              "   '2. high': '127.1800',\n",
              "   '3. low': '124.2200',\n",
              "   '4. close': '125.5200',\n",
              "   '5. volume': '36017700'},\n",
              "  '2019-05-08': {'1. open': '125.4400',\n",
              "   '2. high': '126.3700',\n",
              "   '3. low': '124.7500',\n",
              "   '4. close': '125.5100',\n",
              "   '5. volume': '28419000'},\n",
              "  '2019-05-09': {'1. open': '124.2900',\n",
              "   '2. high': '125.7900',\n",
              "   '3. low': '123.5700',\n",
              "   '4. close': '125.5000',\n",
              "   '5. volume': '27235800'},\n",
              "  '2019-05-10': {'1. open': '124.9100',\n",
              "   '2. high': '127.9300',\n",
              "   '3. low': '123.8200',\n",
              "   '4. close': '127.1300',\n",
              "   '5. volume': '30915100'},\n",
              "  '2019-05-13': {'1. open': '124.1100',\n",
              "   '2. high': '125.5500',\n",
              "   '3. low': '123.0400',\n",
              "   '4. close': '123.3500',\n",
              "   '5. volume': '33944900'},\n",
              "  '2019-05-14': {'1. open': '123.8700',\n",
              "   '2. high': '125.8800',\n",
              "   '3. low': '123.7000',\n",
              "   '4. close': '124.7300',\n",
              "   '5. volume': '25266300'},\n",
              "  '2019-05-15': {'1. open': '124.2600',\n",
              "   '2. high': '126.7100',\n",
              "   '3. low': '123.7000',\n",
              "   '4. close': '126.0200',\n",
              "   '5. volume': '24722700'},\n",
              "  '2019-05-16': {'1. open': '126.7500',\n",
              "   '2. high': '129.3800',\n",
              "   '3. low': '126.4600',\n",
              "   '4. close': '128.9300',\n",
              "   '5. volume': '30112200'},\n",
              "  '2019-05-17': {'1. open': '128.3100',\n",
              "   '2. high': '130.4600',\n",
              "   '3. low': '127.9200',\n",
              "   '4. close': '128.0700',\n",
              "   '5. volume': '25770500'},\n",
              "  '2019-05-20': {'1. open': '126.5200',\n",
              "   '2. high': '127.5900',\n",
              "   '3. low': '125.7600',\n",
              "   '4. close': '126.2200',\n",
              "   '5. volume': '23706900'},\n",
              "  '2019-05-21': {'1. open': '127.4300',\n",
              "   '2. high': '127.5300',\n",
              "   '3. low': '126.5800',\n",
              "   '4. close': '126.9000',\n",
              "   '5. volume': '15293300'},\n",
              "  '2019-05-22': {'1. open': '126.6200',\n",
              "   '2. high': '128.2400',\n",
              "   '3. low': '126.5200',\n",
              "   '4. close': '127.6700',\n",
              "   '5. volume': '15396500'},\n",
              "  '2019-05-23': {'1. open': '126.2000',\n",
              "   '2. high': '126.2900',\n",
              "   '3. low': '124.7400',\n",
              "   '4. close': '126.1800',\n",
              "   '5. volume': '23603800'},\n",
              "  '2019-05-24': {'1. open': '126.9100',\n",
              "   '2. high': '127.4200',\n",
              "   '3. low': '125.9700',\n",
              "   '4. close': '126.2400',\n",
              "   '5. volume': '14123400'},\n",
              "  '2019-05-28': {'1. open': '126.9800',\n",
              "   '2. high': '128.0000',\n",
              "   '3. low': '126.0500',\n",
              "   '4. close': '126.1600',\n",
              "   '5. volume': '23128400'},\n",
              "  '2019-05-29': {'1. open': '125.3800',\n",
              "   '2. high': '125.3900',\n",
              "   '3. low': '124.0400',\n",
              "   '4. close': '124.9400',\n",
              "   '5. volume': '22763100'},\n",
              "  '2019-05-30': {'1. open': '125.2600',\n",
              "   '2. high': '125.7600',\n",
              "   '3. low': '124.7800',\n",
              "   '4. close': '125.7300',\n",
              "   '5. volume': '16829600'},\n",
              "  '2019-05-31': {'1. open': '124.2300',\n",
              "   '2. high': '124.6200',\n",
              "   '3. low': '123.3200',\n",
              "   '4. close': '123.6800',\n",
              "   '5. volume': '26646800'},\n",
              "  '2019-06-03': {'1. open': '123.8500',\n",
              "   '2. high': '124.3700',\n",
              "   '3. low': '119.0100',\n",
              "   '4. close': '119.8400',\n",
              "   '5. volume': '37983600'},\n",
              "  '2019-06-04': {'1. open': '121.2800',\n",
              "   '2. high': '123.2800',\n",
              "   '3. low': '120.6500',\n",
              "   '4. close': '123.1600',\n",
              "   '5. volume': '29382600'},\n",
              "  '2019-06-05': {'1. open': '124.9500',\n",
              "   '2. high': '125.8700',\n",
              "   '3. low': '124.2100',\n",
              "   '4. close': '125.8300',\n",
              "   '5. volume': '24926100'},\n",
              "  '2019-06-06': {'1. open': '126.4400',\n",
              "   '2. high': '127.9700',\n",
              "   '3. low': '125.6000',\n",
              "   '4. close': '127.8200',\n",
              "   '5. volume': '21459000'},\n",
              "  '2019-06-07': {'1. open': '129.1900',\n",
              "   '2. high': '132.2500',\n",
              "   '3. low': '128.2600',\n",
              "   '4. close': '131.4000',\n",
              "   '5. volume': '33885600'},\n",
              "  '2019-06-10': {'1. open': '132.4000',\n",
              "   '2. high': '134.0800',\n",
              "   '3. low': '132.0000',\n",
              "   '4. close': '132.6000',\n",
              "   '5. volume': '26477100'},\n",
              "  '2019-06-11': {'1. open': '133.8800',\n",
              "   '2. high': '134.2400',\n",
              "   '3. low': '131.2800',\n",
              "   '4. close': '132.1000',\n",
              "   '5. volume': '23913700'},\n",
              "  '2019-06-12': {'1. open': '131.4000',\n",
              "   '2. high': '131.9700',\n",
              "   '3. low': '130.7100',\n",
              "   '4. close': '131.4900',\n",
              "   '5. volume': '17092500'},\n",
              "  '2019-06-13': {'1. open': '131.9800',\n",
              "   '2. high': '133.0000',\n",
              "   '3. low': '131.5600',\n",
              "   '4. close': '132.3200',\n",
              "   '5. volume': '17200800'},\n",
              "  '2019-06-14': {'1. open': '132.2600',\n",
              "   '2. high': '133.7900',\n",
              "   '3. low': '131.6400',\n",
              "   '4. close': '132.4500',\n",
              "   '5. volume': '17821700'},\n",
              "  '2019-06-17': {'1. open': '132.6300',\n",
              "   '2. high': '133.7300',\n",
              "   '3. low': '132.5300',\n",
              "   '4. close': '132.8500',\n",
              "   '5. volume': '14517800'},\n",
              "  '2019-06-18': {'1. open': '134.1900',\n",
              "   '2. high': '135.2400',\n",
              "   '3. low': '133.5700',\n",
              "   '4. close': '135.1600',\n",
              "   '5. volume': '25934500'},\n",
              "  '2019-06-19': {'1. open': '135.0000',\n",
              "   '2. high': '135.9300',\n",
              "   '3. low': '133.8100',\n",
              "   '4. close': '135.6900',\n",
              "   '5. volume': '23744400'},\n",
              "  '2019-06-20': {'1. open': '137.4500',\n",
              "   '2. high': '137.6600',\n",
              "   '3. low': '135.7200',\n",
              "   '4. close': '136.9500',\n",
              "   '5. volume': '33042600'},\n",
              "  '2019-06-21': {'1. open': '136.5800',\n",
              "   '2. high': '137.7300',\n",
              "   '3. low': '136.4600',\n",
              "   '4. close': '136.9700',\n",
              "   '5. volume': '36727900'},\n",
              "  '2019-06-24': {'1. open': '137.0000',\n",
              "   '2. high': '138.4000',\n",
              "   '3. low': '137.0000',\n",
              "   '4. close': '137.7800',\n",
              "   '5. volume': '20628800'},\n",
              "  '2019-06-25': {'1. open': '137.2500',\n",
              "   '2. high': '137.5900',\n",
              "   '3. low': '132.7300',\n",
              "   '4. close': '133.4300',\n",
              "   '5. volume': '33327400'},\n",
              "  '2019-06-26': {'1. open': '134.3500',\n",
              "   '2. high': '135.7400',\n",
              "   '3. low': '133.6000',\n",
              "   '4. close': '133.9300',\n",
              "   '5. volume': '23657700'},\n",
              "  '2019-06-27': {'1. open': '134.1400',\n",
              "   '2. high': '134.7100',\n",
              "   '3. low': '133.5100',\n",
              "   '4. close': '134.1500',\n",
              "   '5. volume': '16557500'},\n",
              "  '2019-06-28': {'1. open': '134.5700',\n",
              "   '2. high': '134.6000',\n",
              "   '3. low': '133.1600',\n",
              "   '4. close': '133.9600',\n",
              "   '5. volume': '30043000'},\n",
              "  '2019-07-01': {'1. open': '136.6300',\n",
              "   '2. high': '136.7000',\n",
              "   '3. low': '134.9700',\n",
              "   '4. close': '135.6800',\n",
              "   '5. volume': '22654200'},\n",
              "  '2019-07-02': {'1. open': '136.1200',\n",
              "   '2. high': '136.5900',\n",
              "   '3. low': '135.3400',\n",
              "   '4. close': '136.5800',\n",
              "   '5. volume': '15237800'},\n",
              "  '2019-07-03': {'1. open': '136.8000',\n",
              "   '2. high': '137.7400',\n",
              "   '3. low': '136.2900',\n",
              "   '4. close': '137.4600',\n",
              "   '5. volume': '13629300'},\n",
              "  '2019-07-05': {'1. open': '135.9400',\n",
              "   '2. high': '137.3300',\n",
              "   '3. low': '135.7200',\n",
              "   '4. close': '137.0600',\n",
              "   '5. volume': '18141100'},\n",
              "  '2019-07-08': {'1. open': '136.4000',\n",
              "   '2. high': '137.1000',\n",
              "   '3. low': '135.3700',\n",
              "   '4. close': '136.9600',\n",
              "   '5. volume': '16779700'},\n",
              "  '2019-07-09': {'1. open': '136.0000',\n",
              "   '2. high': '136.9700',\n",
              "   '3. low': '135.8000',\n",
              "   '4. close': '136.4600',\n",
              "   '5. volume': '19953100'},\n",
              "  '2019-07-10': {'1. open': '137.1300',\n",
              "   '2. high': '138.5800',\n",
              "   '3. low': '137.0200',\n",
              "   '4. close': '137.8500',\n",
              "   '5. volume': '24204400'},\n",
              "  '2019-07-11': {'1. open': '138.2000',\n",
              "   '2. high': '139.2200',\n",
              "   '3. low': '137.8700',\n",
              "   '4. close': '138.4000',\n",
              "   '5. volume': '22327900'},\n",
              "  '2019-07-12': {'1. open': '138.8500',\n",
              "   '2. high': '139.1300',\n",
              "   '3. low': '138.0100',\n",
              "   '4. close': '138.9000',\n",
              "   '5. volume': '18936800'},\n",
              "  '2019-07-15': {'1. open': '139.4400',\n",
              "   '2. high': '139.5400',\n",
              "   '3. low': '138.4600',\n",
              "   '4. close': '138.9000',\n",
              "   '5. volume': '16651500'},\n",
              "  '2019-07-16': {'1. open': '138.9600',\n",
              "   '2. high': '139.0500',\n",
              "   '3. low': '136.5200',\n",
              "   '4. close': '137.0800',\n",
              "   '5. volume': '22726100'},\n",
              "  '2019-07-17': {'1. open': '137.7000',\n",
              "   '2. high': '137.9300',\n",
              "   '3. low': '136.2200',\n",
              "   '4. close': '136.2700',\n",
              "   '5. volume': '20211000'},\n",
              "  '2019-07-18': {'1. open': '135.5500',\n",
              "   '2. high': '136.6200',\n",
              "   '3. low': '134.6700',\n",
              "   '4. close': '136.4200',\n",
              "   '5. volume': '30808700'},\n",
              "  '2019-07-19': {'1. open': '140.2200',\n",
              "   '2. high': '140.6700',\n",
              "   '3. low': '136.4500',\n",
              "   '4. close': '136.6200',\n",
              "   '5. volume': '48992400'},\n",
              "  '2019-07-22': {'1. open': '137.4100',\n",
              "   '2. high': '139.1900',\n",
              "   '3. low': '137.3300',\n",
              "   '4. close': '138.4300',\n",
              "   '5. volume': '25074900'},\n",
              "  '2019-07-23': {'1. open': '139.7600',\n",
              "   '2. high': '139.9900',\n",
              "   '3. low': '138.0300',\n",
              "   '4. close': '139.2900',\n",
              "   '5. volume': '18034600'},\n",
              "  '2019-07-24': {'1. open': '138.9000',\n",
              "   '2. high': '140.7400',\n",
              "   '3. low': '138.8500',\n",
              "   '4. close': '140.7200',\n",
              "   '5. volume': '20738300'},\n",
              "  '2019-07-25': {'1. open': '140.4300',\n",
              "   '2. high': '140.6100',\n",
              "   '3. low': '139.3200',\n",
              "   '4. close': '140.1900',\n",
              "   '5. volume': '18356900'},\n",
              "  '2019-07-26': {'1. open': '140.3700',\n",
              "   '2. high': '141.6800',\n",
              "   '3. low': '140.3000',\n",
              "   '4. close': '141.3400',\n",
              "   '5. volume': '19037600'},\n",
              "  '2019-07-29': {'1. open': '141.5000',\n",
              "   '2. high': '141.5100',\n",
              "   '3. low': '139.3700',\n",
              "   '4. close': '141.0300',\n",
              "   '5. volume': '16605900'},\n",
              "  '2019-07-30': {'1. open': '140.1400',\n",
              "   '2. high': '141.2200',\n",
              "   '3. low': '139.8000',\n",
              "   '4. close': '140.3500',\n",
              "   '5. volume': '16846500'},\n",
              "  '2019-07-31': {'1. open': '140.3300',\n",
              "   '2. high': '140.4900',\n",
              "   '3. low': '135.0800',\n",
              "   '4. close': '136.2700',\n",
              "   '5. volume': '38598800'},\n",
              "  '2019-08-01': {'1. open': '137.0000',\n",
              "   '2. high': '140.9400',\n",
              "   '3. low': '136.9300',\n",
              "   '4. close': '138.0600',\n",
              "   '5. volume': '40557500'},\n",
              "  '2019-08-02': {'1. open': '138.0900',\n",
              "   '2. high': '138.3200',\n",
              "   '3. low': '135.2600',\n",
              "   '4. close': '136.9000',\n",
              "   '5. volume': '30791600'},\n",
              "  '2019-08-05': {'1. open': '133.3000',\n",
              "   '2. high': '133.9300',\n",
              "   '3. low': '130.7800',\n",
              "   '4. close': '132.2100',\n",
              "   '5. volume': '42749600'},\n",
              "  '2019-08-06': {'1. open': '133.8000',\n",
              "   '2. high': '135.6800',\n",
              "   '3. low': '133.2100',\n",
              "   '4. close': '134.6900',\n",
              "   '5. volume': '32696700'},\n",
              "  '2019-08-07': {'1. open': '133.7900',\n",
              "   '2. high': '135.6500',\n",
              "   '3. low': '131.8300',\n",
              "   '4. close': '135.2800',\n",
              "   '5. volume': '30745600'},\n",
              "  '2019-08-08': {'1. open': '136.6000',\n",
              "   '2. high': '138.9800',\n",
              "   '3. low': '135.9300',\n",
              "   '4. close': '138.8900',\n",
              "   '5. volume': '21140017'},\n",
              "  '2019-08-09': {'1. open': '136.6000',\n",
              "   '2. high': '139.1100',\n",
              "   '3. low': '138.4700',\n",
              "   '4. close': '139.0800',\n",
              "   '5. volume': '939991'}}}"
            ]
          },
          "metadata": {
            "tags": []
          },
          "execution_count": 11
        }
      ]
    },
    {
      "cell_type": "markdown",
      "metadata": {
        "id": "9e_8oIXr8QR4",
        "colab_type": "text"
      },
      "source": [
        "That's a lot. 100 days of data to be precise. What about today's opening price?"
      ]
    },
    {
      "cell_type": "code",
      "metadata": {
        "id": "B0eOys1F8U3C",
        "colab_type": "code",
        "outputId": "44e6b302-ef63-4bc8-adc9-890fa9f4cfed",
        "colab": {
          "base_uri": "https://localhost:8080/",
          "height": 34
        }
      },
      "source": [
        "from datetime import datetime\n",
        "\n",
        "current = datetime.today().strftime('%Y-%m-%d')\n",
        "prices = response.json()\n",
        "prices['Time Series (Daily)'][current]['1. open']"
      ],
      "execution_count": 0,
      "outputs": [
        {
          "output_type": "execute_result",
          "data": {
            "text/plain": [
              "'136.6000'"
            ]
          },
          "metadata": {
            "tags": []
          },
          "execution_count": 12
        }
      ]
    },
    {
      "cell_type": "markdown",
      "metadata": {
        "id": "e-ufKeFroTl8",
        "colab_type": "text"
      },
      "source": [
        "We have the proper components ready to go for this example. Data storage via Excel. Connectivity over a RESTful API using requests. Lets tie it together."
      ]
    },
    {
      "cell_type": "markdown",
      "metadata": {
        "id": "Uffg7buX4Tas",
        "colab_type": "text"
      },
      "source": [
        "## Main Logic\n"
      ]
    },
    {
      "cell_type": "markdown",
      "metadata": {
        "id": "Cz0vLrKRoznG",
        "colab_type": "text"
      },
      "source": [
        "\n",
        "The main logic of the program is really what controls everything. It's the glue that brings your Lego pieces together. Don't be that guy. Don't use glue on your Lego pieces.\n",
        "\n",
        "First, we should move the components into functions."
      ]
    },
    {
      "cell_type": "code",
      "metadata": {
        "id": "lhzHyVicpiF-",
        "colab_type": "code",
        "colab": {}
      },
      "source": [
        "def get_stock_opening_price(symbol):\n",
        "    params = {'function': 'TIME_SERIES_DAILY',\n",
        "              'symbol': symbol,\n",
        "              'apikey': API_KEY}\n",
        "    response = requests.get('https://www.alphavantage.co/query', params=params)\n",
        "    response_json = response.json()\n",
        "    return response_json['Time Series (Daily)'][current]['1. open']\n",
        "\n",
        "def read_from_excel(filename):\n",
        "    return pd.read_excel(filename, sheet_name=None)"
      ],
      "execution_count": 0,
      "outputs": []
    },
    {
      "cell_type": "markdown",
      "metadata": {
        "id": "SmYPBT7jqW98",
        "colab_type": "text"
      },
      "source": [
        "Next, we will call `read_from_excel()` to get a `list`\n",
        " of stock symbols to query.\n"
      ]
    },
    {
      "cell_type": "code",
      "metadata": {
        "id": "4vFAClxBqmOo",
        "colab_type": "code",
        "outputId": "7059bbde-818d-4dc1-d4ba-8a3dee2430f8",
        "colab": {
          "base_uri": "https://localhost:8080/",
          "height": 395
        }
      },
      "source": [
        "data = read_from_excel('/Ticker Symbols.xlsx')\n",
        "dataframe = data['Stocks']\n",
        "for index, row in dataframe.iterrows():\n",
        "    dataframe.loc[index, \"Price\"] = get_stock_opening_price(row['Ticker'])\n",
        "    dataframe.loc[index, \"CEO\"] = get_ceo(row['Ticker'])\n",
        "print(dataframe)\n"
      ],
      "execution_count": 0,
      "outputs": [
        {
          "output_type": "error",
          "ename": "FileNotFoundError",
          "evalue": "ignored",
          "traceback": [
            "\u001b[0;31m---------------------------------------------------------------------------\u001b[0m",
            "\u001b[0;31mFileNotFoundError\u001b[0m                         Traceback (most recent call last)",
            "\u001b[0;32m<ipython-input-15-3055da9d51f7>\u001b[0m in \u001b[0;36m<module>\u001b[0;34m()\u001b[0m\n\u001b[0;32m----> 1\u001b[0;31m \u001b[0mdata\u001b[0m \u001b[0;34m=\u001b[0m \u001b[0mread_from_excel\u001b[0m\u001b[0;34m(\u001b[0m\u001b[0;34m'/Ticker Symbols.xlsx'\u001b[0m\u001b[0;34m)\u001b[0m\u001b[0;34m\u001b[0m\u001b[0;34m\u001b[0m\u001b[0m\n\u001b[0m\u001b[1;32m      2\u001b[0m \u001b[0mdataframe\u001b[0m \u001b[0;34m=\u001b[0m \u001b[0mdata\u001b[0m\u001b[0;34m[\u001b[0m\u001b[0;34m'Stocks'\u001b[0m\u001b[0;34m]\u001b[0m\u001b[0;34m\u001b[0m\u001b[0;34m\u001b[0m\u001b[0m\n\u001b[1;32m      3\u001b[0m \u001b[0;32mfor\u001b[0m \u001b[0mindex\u001b[0m\u001b[0;34m,\u001b[0m \u001b[0mrow\u001b[0m \u001b[0;32min\u001b[0m \u001b[0mdataframe\u001b[0m\u001b[0;34m.\u001b[0m\u001b[0miterrows\u001b[0m\u001b[0;34m(\u001b[0m\u001b[0;34m)\u001b[0m\u001b[0;34m:\u001b[0m\u001b[0;34m\u001b[0m\u001b[0;34m\u001b[0m\u001b[0m\n\u001b[1;32m      4\u001b[0m     \u001b[0mdataframe\u001b[0m\u001b[0;34m.\u001b[0m\u001b[0mloc\u001b[0m\u001b[0;34m[\u001b[0m\u001b[0mindex\u001b[0m\u001b[0;34m,\u001b[0m \u001b[0;34m\"Price\"\u001b[0m\u001b[0;34m]\u001b[0m \u001b[0;34m=\u001b[0m \u001b[0mget_stock_opening_price\u001b[0m\u001b[0;34m(\u001b[0m\u001b[0mrow\u001b[0m\u001b[0;34m[\u001b[0m\u001b[0;34m'Ticker'\u001b[0m\u001b[0;34m]\u001b[0m\u001b[0;34m)\u001b[0m\u001b[0;34m\u001b[0m\u001b[0;34m\u001b[0m\u001b[0m\n\u001b[1;32m      5\u001b[0m     \u001b[0mdataframe\u001b[0m\u001b[0;34m.\u001b[0m\u001b[0mloc\u001b[0m\u001b[0;34m[\u001b[0m\u001b[0mindex\u001b[0m\u001b[0;34m,\u001b[0m \u001b[0;34m\"CEO\"\u001b[0m\u001b[0;34m]\u001b[0m \u001b[0;34m=\u001b[0m \u001b[0mget_ceo\u001b[0m\u001b[0;34m(\u001b[0m\u001b[0mrow\u001b[0m\u001b[0;34m[\u001b[0m\u001b[0;34m'Ticker'\u001b[0m\u001b[0;34m]\u001b[0m\u001b[0;34m)\u001b[0m\u001b[0;34m\u001b[0m\u001b[0;34m\u001b[0m\u001b[0m\n",
            "\u001b[0;32m<ipython-input-14-f7e55fb6a3cb>\u001b[0m in \u001b[0;36mread_from_excel\u001b[0;34m(filename)\u001b[0m\n\u001b[1;32m      8\u001b[0m \u001b[0;34m\u001b[0m\u001b[0m\n\u001b[1;32m      9\u001b[0m \u001b[0;32mdef\u001b[0m \u001b[0mread_from_excel\u001b[0m\u001b[0;34m(\u001b[0m\u001b[0mfilename\u001b[0m\u001b[0;34m)\u001b[0m\u001b[0;34m:\u001b[0m\u001b[0;34m\u001b[0m\u001b[0;34m\u001b[0m\u001b[0m\n\u001b[0;32m---> 10\u001b[0;31m     \u001b[0;32mreturn\u001b[0m \u001b[0mpd\u001b[0m\u001b[0;34m.\u001b[0m\u001b[0mread_excel\u001b[0m\u001b[0;34m(\u001b[0m\u001b[0mfilename\u001b[0m\u001b[0;34m,\u001b[0m \u001b[0msheet_name\u001b[0m\u001b[0;34m=\u001b[0m\u001b[0;32mNone\u001b[0m\u001b[0;34m)\u001b[0m\u001b[0;34m\u001b[0m\u001b[0;34m\u001b[0m\u001b[0m\n\u001b[0m",
            "\u001b[0;32m/usr/local/lib/python3.6/dist-packages/pandas/util/_decorators.py\u001b[0m in \u001b[0;36mwrapper\u001b[0;34m(*args, **kwargs)\u001b[0m\n\u001b[1;32m    186\u001b[0m                 \u001b[0;32melse\u001b[0m\u001b[0;34m:\u001b[0m\u001b[0;34m\u001b[0m\u001b[0;34m\u001b[0m\u001b[0m\n\u001b[1;32m    187\u001b[0m                     \u001b[0mkwargs\u001b[0m\u001b[0;34m[\u001b[0m\u001b[0mnew_arg_name\u001b[0m\u001b[0;34m]\u001b[0m \u001b[0;34m=\u001b[0m \u001b[0mnew_arg_value\u001b[0m\u001b[0;34m\u001b[0m\u001b[0;34m\u001b[0m\u001b[0m\n\u001b[0;32m--> 188\u001b[0;31m             \u001b[0;32mreturn\u001b[0m \u001b[0mfunc\u001b[0m\u001b[0;34m(\u001b[0m\u001b[0;34m*\u001b[0m\u001b[0margs\u001b[0m\u001b[0;34m,\u001b[0m \u001b[0;34m**\u001b[0m\u001b[0mkwargs\u001b[0m\u001b[0;34m)\u001b[0m\u001b[0;34m\u001b[0m\u001b[0;34m\u001b[0m\u001b[0m\n\u001b[0m\u001b[1;32m    189\u001b[0m         \u001b[0;32mreturn\u001b[0m \u001b[0mwrapper\u001b[0m\u001b[0;34m\u001b[0m\u001b[0;34m\u001b[0m\u001b[0m\n\u001b[1;32m    190\u001b[0m     \u001b[0;32mreturn\u001b[0m \u001b[0m_deprecate_kwarg\u001b[0m\u001b[0;34m\u001b[0m\u001b[0;34m\u001b[0m\u001b[0m\n",
            "\u001b[0;32m/usr/local/lib/python3.6/dist-packages/pandas/util/_decorators.py\u001b[0m in \u001b[0;36mwrapper\u001b[0;34m(*args, **kwargs)\u001b[0m\n\u001b[1;32m    186\u001b[0m                 \u001b[0;32melse\u001b[0m\u001b[0;34m:\u001b[0m\u001b[0;34m\u001b[0m\u001b[0;34m\u001b[0m\u001b[0m\n\u001b[1;32m    187\u001b[0m                     \u001b[0mkwargs\u001b[0m\u001b[0;34m[\u001b[0m\u001b[0mnew_arg_name\u001b[0m\u001b[0;34m]\u001b[0m \u001b[0;34m=\u001b[0m \u001b[0mnew_arg_value\u001b[0m\u001b[0;34m\u001b[0m\u001b[0;34m\u001b[0m\u001b[0m\n\u001b[0;32m--> 188\u001b[0;31m             \u001b[0;32mreturn\u001b[0m \u001b[0mfunc\u001b[0m\u001b[0;34m(\u001b[0m\u001b[0;34m*\u001b[0m\u001b[0margs\u001b[0m\u001b[0;34m,\u001b[0m \u001b[0;34m**\u001b[0m\u001b[0mkwargs\u001b[0m\u001b[0;34m)\u001b[0m\u001b[0;34m\u001b[0m\u001b[0;34m\u001b[0m\u001b[0m\n\u001b[0m\u001b[1;32m    189\u001b[0m         \u001b[0;32mreturn\u001b[0m \u001b[0mwrapper\u001b[0m\u001b[0;34m\u001b[0m\u001b[0;34m\u001b[0m\u001b[0m\n\u001b[1;32m    190\u001b[0m     \u001b[0;32mreturn\u001b[0m \u001b[0m_deprecate_kwarg\u001b[0m\u001b[0;34m\u001b[0m\u001b[0;34m\u001b[0m\u001b[0m\n",
            "\u001b[0;32m/usr/local/lib/python3.6/dist-packages/pandas/io/excel.py\u001b[0m in \u001b[0;36mread_excel\u001b[0;34m(io, sheet_name, header, names, index_col, parse_cols, usecols, squeeze, dtype, engine, converters, true_values, false_values, skiprows, nrows, na_values, keep_default_na, verbose, parse_dates, date_parser, thousands, comment, skip_footer, skipfooter, convert_float, mangle_dupe_cols, **kwds)\u001b[0m\n\u001b[1;32m    348\u001b[0m \u001b[0;34m\u001b[0m\u001b[0m\n\u001b[1;32m    349\u001b[0m     \u001b[0;32mif\u001b[0m \u001b[0;32mnot\u001b[0m \u001b[0misinstance\u001b[0m\u001b[0;34m(\u001b[0m\u001b[0mio\u001b[0m\u001b[0;34m,\u001b[0m \u001b[0mExcelFile\u001b[0m\u001b[0;34m)\u001b[0m\u001b[0;34m:\u001b[0m\u001b[0;34m\u001b[0m\u001b[0;34m\u001b[0m\u001b[0m\n\u001b[0;32m--> 350\u001b[0;31m         \u001b[0mio\u001b[0m \u001b[0;34m=\u001b[0m \u001b[0mExcelFile\u001b[0m\u001b[0;34m(\u001b[0m\u001b[0mio\u001b[0m\u001b[0;34m,\u001b[0m \u001b[0mengine\u001b[0m\u001b[0;34m=\u001b[0m\u001b[0mengine\u001b[0m\u001b[0;34m)\u001b[0m\u001b[0;34m\u001b[0m\u001b[0;34m\u001b[0m\u001b[0m\n\u001b[0m\u001b[1;32m    351\u001b[0m \u001b[0;34m\u001b[0m\u001b[0m\n\u001b[1;32m    352\u001b[0m     return io.parse(\n",
            "\u001b[0;32m/usr/local/lib/python3.6/dist-packages/pandas/io/excel.py\u001b[0m in \u001b[0;36m__init__\u001b[0;34m(self, io, engine)\u001b[0m\n\u001b[1;32m    651\u001b[0m         \u001b[0mself\u001b[0m\u001b[0;34m.\u001b[0m\u001b[0m_io\u001b[0m \u001b[0;34m=\u001b[0m \u001b[0m_stringify_path\u001b[0m\u001b[0;34m(\u001b[0m\u001b[0mio\u001b[0m\u001b[0;34m)\u001b[0m\u001b[0;34m\u001b[0m\u001b[0;34m\u001b[0m\u001b[0m\n\u001b[1;32m    652\u001b[0m \u001b[0;34m\u001b[0m\u001b[0m\n\u001b[0;32m--> 653\u001b[0;31m         \u001b[0mself\u001b[0m\u001b[0;34m.\u001b[0m\u001b[0m_reader\u001b[0m \u001b[0;34m=\u001b[0m \u001b[0mself\u001b[0m\u001b[0;34m.\u001b[0m\u001b[0m_engines\u001b[0m\u001b[0;34m[\u001b[0m\u001b[0mengine\u001b[0m\u001b[0;34m]\u001b[0m\u001b[0;34m(\u001b[0m\u001b[0mself\u001b[0m\u001b[0;34m.\u001b[0m\u001b[0m_io\u001b[0m\u001b[0;34m)\u001b[0m\u001b[0;34m\u001b[0m\u001b[0;34m\u001b[0m\u001b[0m\n\u001b[0m\u001b[1;32m    654\u001b[0m \u001b[0;34m\u001b[0m\u001b[0m\n\u001b[1;32m    655\u001b[0m     \u001b[0;32mdef\u001b[0m \u001b[0m__fspath__\u001b[0m\u001b[0;34m(\u001b[0m\u001b[0mself\u001b[0m\u001b[0;34m)\u001b[0m\u001b[0;34m:\u001b[0m\u001b[0;34m\u001b[0m\u001b[0;34m\u001b[0m\u001b[0m\n",
            "\u001b[0;32m/usr/local/lib/python3.6/dist-packages/pandas/io/excel.py\u001b[0m in \u001b[0;36m__init__\u001b[0;34m(self, filepath_or_buffer)\u001b[0m\n\u001b[1;32m    422\u001b[0m             \u001b[0mself\u001b[0m\u001b[0;34m.\u001b[0m\u001b[0mbook\u001b[0m \u001b[0;34m=\u001b[0m \u001b[0mxlrd\u001b[0m\u001b[0;34m.\u001b[0m\u001b[0mopen_workbook\u001b[0m\u001b[0;34m(\u001b[0m\u001b[0mfile_contents\u001b[0m\u001b[0;34m=\u001b[0m\u001b[0mdata\u001b[0m\u001b[0;34m)\u001b[0m\u001b[0;34m\u001b[0m\u001b[0;34m\u001b[0m\u001b[0m\n\u001b[1;32m    423\u001b[0m         \u001b[0;32melif\u001b[0m \u001b[0misinstance\u001b[0m\u001b[0;34m(\u001b[0m\u001b[0mfilepath_or_buffer\u001b[0m\u001b[0;34m,\u001b[0m \u001b[0mcompat\u001b[0m\u001b[0;34m.\u001b[0m\u001b[0mstring_types\u001b[0m\u001b[0;34m)\u001b[0m\u001b[0;34m:\u001b[0m\u001b[0;34m\u001b[0m\u001b[0;34m\u001b[0m\u001b[0m\n\u001b[0;32m--> 424\u001b[0;31m             \u001b[0mself\u001b[0m\u001b[0;34m.\u001b[0m\u001b[0mbook\u001b[0m \u001b[0;34m=\u001b[0m \u001b[0mxlrd\u001b[0m\u001b[0;34m.\u001b[0m\u001b[0mopen_workbook\u001b[0m\u001b[0;34m(\u001b[0m\u001b[0mfilepath_or_buffer\u001b[0m\u001b[0;34m)\u001b[0m\u001b[0;34m\u001b[0m\u001b[0;34m\u001b[0m\u001b[0m\n\u001b[0m\u001b[1;32m    425\u001b[0m         \u001b[0;32melse\u001b[0m\u001b[0;34m:\u001b[0m\u001b[0;34m\u001b[0m\u001b[0;34m\u001b[0m\u001b[0m\n\u001b[1;32m    426\u001b[0m             raise ValueError('Must explicitly set engine if not passing in'\n",
            "\u001b[0;32m/usr/local/lib/python3.6/dist-packages/xlrd/__init__.py\u001b[0m in \u001b[0;36mopen_workbook\u001b[0;34m(filename, logfile, verbosity, use_mmap, file_contents, encoding_override, formatting_info, on_demand, ragged_rows)\u001b[0m\n\u001b[1;32m    114\u001b[0m         \u001b[0mpeek\u001b[0m \u001b[0;34m=\u001b[0m \u001b[0mfile_contents\u001b[0m\u001b[0;34m[\u001b[0m\u001b[0;34m:\u001b[0m\u001b[0mpeeksz\u001b[0m\u001b[0;34m]\u001b[0m\u001b[0;34m\u001b[0m\u001b[0;34m\u001b[0m\u001b[0m\n\u001b[1;32m    115\u001b[0m     \u001b[0;32melse\u001b[0m\u001b[0;34m:\u001b[0m\u001b[0;34m\u001b[0m\u001b[0;34m\u001b[0m\u001b[0m\n\u001b[0;32m--> 116\u001b[0;31m         \u001b[0;32mwith\u001b[0m \u001b[0mopen\u001b[0m\u001b[0;34m(\u001b[0m\u001b[0mfilename\u001b[0m\u001b[0;34m,\u001b[0m \u001b[0;34m\"rb\"\u001b[0m\u001b[0;34m)\u001b[0m \u001b[0;32mas\u001b[0m \u001b[0mf\u001b[0m\u001b[0;34m:\u001b[0m\u001b[0;34m\u001b[0m\u001b[0;34m\u001b[0m\u001b[0m\n\u001b[0m\u001b[1;32m    117\u001b[0m             \u001b[0mpeek\u001b[0m \u001b[0;34m=\u001b[0m \u001b[0mf\u001b[0m\u001b[0;34m.\u001b[0m\u001b[0mread\u001b[0m\u001b[0;34m(\u001b[0m\u001b[0mpeeksz\u001b[0m\u001b[0;34m)\u001b[0m\u001b[0;34m\u001b[0m\u001b[0;34m\u001b[0m\u001b[0m\n\u001b[1;32m    118\u001b[0m     \u001b[0;32mif\u001b[0m \u001b[0mpeek\u001b[0m \u001b[0;34m==\u001b[0m \u001b[0;34mb\"PK\\x03\\x04\"\u001b[0m\u001b[0;34m:\u001b[0m \u001b[0;31m# a ZIP file\u001b[0m\u001b[0;34m\u001b[0m\u001b[0;34m\u001b[0m\u001b[0m\n",
            "\u001b[0;31mFileNotFoundError\u001b[0m: [Errno 2] No such file or directory: '/Ticker Symbols.xlsx'"
          ]
        }
      ]
    },
    {
      "cell_type": "markdown",
      "metadata": {
        "id": "AjE5MFrVtSMo",
        "colab_type": "text"
      },
      "source": [
        "Finally, we should write the information back to the Excel file."
      ]
    },
    {
      "cell_type": "code",
      "metadata": {
        "id": "-_I-63l-0nIF",
        "colab_type": "code",
        "colab": {}
      },
      "source": [
        "with pd.ExcelWriter('/Ticker Symbols.xlsx') as writer:\n",
        "    dataframe.to_excel(writer, sheet_name='Stocks', index=False)"
      ],
      "execution_count": 0,
      "outputs": []
    },
    {
      "cell_type": "markdown",
      "metadata": {
        "id": "hHy0aIQ64VIc",
        "colab_type": "text"
      },
      "source": [
        "## Testing Frameworks\n"
      ]
    },
    {
      "cell_type": "markdown",
      "metadata": {
        "id": "jl0d_TnCyY2S",
        "colab_type": "text"
      },
      "source": [
        "\n",
        "Any application that is more than just a simple script should have some automatible testing associated to it.\n",
        "\n",
        "There are three main types of tests - unit, integration, and validation.\n",
        "\n",
        "> In computer programming, **unit testing** is a software testing method by which individual units of source code, sets of one or more computer program modules together with associated control data, usage procedures, and operating procedures, are tested to determine whether they are fit for use. - https://en.wikipedia.org/wiki/Unit_testing\n",
        "\n",
        "> **Integration testing** (sometimes called integration and testing, abbreviated I&T) is the phase in software testing in which individual software modules are combined and tested as a group. Integration testing is conducted to evaluate the compliance of a system or component with specified functional requirements. It occurs after unit testing and before validation testing. Integration testing takes as its input modules that have been unit tested, groups them in larger aggregates, applies tests defined in an integration test plan to those aggregates, and delivers as its output the integrated system ready for system testing. - https://en.wikipedia.org/wiki/Integration_testing\n",
        "\n",
        "> In software project management, software testing, and software engineering, **verification and validation** (V&V) is the process of checking that a software system meets specifications and that it fulfills its intended purpose. It may also be referred to as software quality control. It is normally the responsibility of software testers as part of the software development lifecycle. In simple terms, software verification is: \"Assuming we should build X, does our software achieve its goals without any bugs or gaps?\" On the other hand, software validation is: \"Was X what we should have built? Does X meet the high level requirements?\"- https://en.wikipedia.org/wiki/Software_verification_and_validation\n",
        "\n",
        "Today we will mostly discuss unit testing and touch on integration tests."
      ]
    },
    {
      "cell_type": "markdown",
      "metadata": {
        "id": "MX_E4zJF4Xlr",
        "colab_type": "text"
      },
      "source": [
        "### Unit Testing\n"
      ]
    },
    {
      "cell_type": "markdown",
      "metadata": {
        "id": "Zv-4MaXpzgJ6",
        "colab_type": "text"
      },
      "source": [
        "\n",
        "Unit tests perform a test against a single piece of code. Each test case should be tested independently from other test cases."
      ]
    },
    {
      "cell_type": "code",
      "metadata": {
        "id": "j71srmahz9DN",
        "colab_type": "code",
        "colab": {}
      },
      "source": [
        "def add(a, b):\n",
        "    return a + b\n",
        "\n",
        "def subtract(a, b):\n",
        "    return a - b\n",
        "\n",
        "def multiply(a, b):\n",
        "    return a * b\n",
        "\n",
        "def divide(a, b):\n",
        "    return a / b"
      ],
      "execution_count": 0,
      "outputs": []
    },
    {
      "cell_type": "markdown",
      "metadata": {
        "id": "7PdSTsej0ENK",
        "colab_type": "text"
      },
      "source": [
        "The following class is using the built-in Python `unittest` module to perform unit tests against the functions."
      ]
    },
    {
      "cell_type": "code",
      "metadata": {
        "id": "kbX7cIzY00bP",
        "colab_type": "code",
        "outputId": "f9be84b9-7489-4562-9c11-49fb9bae4bce",
        "colab": {
          "base_uri": "https://localhost:8080/",
          "height": 121
        }
      },
      "source": [
        "import unittest\n",
        "\n",
        "class MasteryNotebook(unittest.TestCase):\n",
        "    def test_add(self):\n",
        "        self.assertEqual(add(1,2), 3)\n",
        "        self.assertEqual(add(0,1), 1)\n",
        "        self.assertEqual(add(-1,-1), -2)\n",
        "    def test_subtract(self):\n",
        "        self.assertEqual(subtract(2, 1), 1)\n",
        "        self.assertEqual(subtract(0, 1), -1)\n",
        "    def test_multiply(self):\n",
        "        self.assertEqual(multiply(2, 1), 2)\n",
        "        self.assertEqual(multiply(-1, 1), -1)        \n",
        "    def test_divide(self):\n",
        "        with self.assertRaises(ZeroDivisionError):\n",
        "            divide(1, 0)\n",
        "\n",
        "unittest.main(argv=[''], verbosity=1, exit=False)"
      ],
      "execution_count": 0,
      "outputs": [
        {
          "output_type": "stream",
          "text": [
            "....\n",
            "----------------------------------------------------------------------\n",
            "Ran 4 tests in 0.006s\n",
            "\n",
            "OK\n"
          ],
          "name": "stderr"
        },
        {
          "output_type": "execute_result",
          "data": {
            "text/plain": [
              "<unittest.main.TestProgram at 0x7f69daa4b160>"
            ]
          },
          "metadata": {
            "tags": []
          },
          "execution_count": 57
        }
      ]
    },
    {
      "cell_type": "markdown",
      "metadata": {
        "id": "vWyqNuor6QkP",
        "colab_type": "text"
      },
      "source": [
        "#### Mocks\n"
      ]
    },
    {
      "cell_type": "markdown",
      "metadata": {
        "id": "UMUo1OT85vuu",
        "colab_type": "text"
      },
      "source": [
        "\n",
        "Remember, a unit test is meant to test an isolated piece of code. What if your unit test requires another source, such as a local database or network connection?\n",
        "\n",
        "> In object-oriented programming, **mock objects** are simulated objects that mimic the behavior of real objects in controlled ways, most often as part of a software testing initiative. - https://en.wikipedia.org/wiki/Mock_object\n",
        "\n",
        "Mocks go beyond the content of this course. But they allow you to simulate an external response in a controlled manner. In other words, the mock pretends to be what you want it to be (ex. database call).\n",
        "\n",
        "*Note:* [Some people](http://arlobelshee.com/tag/no-mocks/) don't like mocks and think it means there is room for improvement with code structure. I'm not opinionated here. Do what accomplishes your task."
      ]
    },
    {
      "cell_type": "markdown",
      "metadata": {
        "id": "YhdSXnDk6Ok6",
        "colab_type": "text"
      },
      "source": [
        "### Integration Tests\n"
      ]
    },
    {
      "cell_type": "markdown",
      "metadata": {
        "id": "YzXfo2NN7WjI",
        "colab_type": "text"
      },
      "source": [
        "\n",
        "Integration testing is frequently accomplished using `tox`, which is a Python testing tool. You can also use a full Continuous Integration (CI) system such as TravisCI or Jenkins to run your tests. This is outside the scope of this presentation."
      ]
    },
    {
      "cell_type": "markdown",
      "metadata": {
        "id": "wcSddre86NVj",
        "colab_type": "text"
      },
      "source": [
        "### Coverage\n"
      ]
    },
    {
      "cell_type": "markdown",
      "metadata": {
        "id": "2sTNsPitTJyw",
        "colab_type": "text"
      },
      "source": [
        "\n",
        "Code coverage means how many lines of code are actually tested. But does that mean that as long as a line of code is tested it is properly tested? No. In the unit test example above, the `test_divide()` test suite only tests for the exception. I'd argue the test suite doesn't fully cover all the cases it should test for. Design your unit tests as well as you can and build-out over time. They won't be perfect day one."
      ]
    },
    {
      "cell_type": "markdown",
      "metadata": {
        "id": "54_wt8NZ43rb",
        "colab_type": "text"
      },
      "source": [
        "\n",
        "\n",
        "\n",
        "\n",
        "---\n",
        "\n",
        "\n",
        "\n",
        "\n",
        "# Resources\n"
      ]
    },
    {
      "cell_type": "markdown",
      "metadata": {
        "id": "dyovVB8dlsPi",
        "colab_type": "text"
      },
      "source": [
        "\n",
        "\n",
        "\n",
        "[wxPython](https://www.wxpython.org/)\n",
        "\n",
        "[Pandas](https://pandas.pydata.org/)\n",
        "\n",
        "[Python Context Managers and the \"with\" Statement](https://realpython.com/courses/python-context-managers-and-with-statement/)\n",
        "\n",
        "[Requests Library](https://2.python-requests.org/en/master/)\n",
        "\n",
        "[Getting Started With Testing in Python - Real Python](https://realpython.com/python-testing/)\n",
        "\n",
        "[Demystifying the Patch Function - Video](https://www.youtube.com/watch?v=ww1UsGZV8fQ)\n",
        "\n",
        "[Reading and Writing Files in Python](https://realpython.com/read-write-files-python/)\n",
        "\n",
        "[Automate the Boring Stuff with Python](https://automatetheboringstuff.com/)"
      ]
    }
  ]
}