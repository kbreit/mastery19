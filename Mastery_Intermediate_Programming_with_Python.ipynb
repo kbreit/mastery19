{
  "nbformat": 4,
  "nbformat_minor": 0,
  "metadata": {
    "colab": {
      "name": "Mastery - Intermediate Programming with Python.ipynb",
      "version": "0.3.2",
      "provenance": [],
      "collapsed_sections": [],
      "toc_visible": true,
      "include_colab_link": true
    },
    "kernelspec": {
      "name": "python3",
      "display_name": "Python 3"
    }
  },
  "cells": [
    {
      "cell_type": "markdown",
      "metadata": {
        "id": "view-in-github",
        "colab_type": "text"
      },
      "source": [
        "<a href=\"https://colab.research.google.com/github/kbreit/mastery19/blob/master/Mastery_Intermediate_Programming_with_Python.ipynb\" target=\"_parent\"><img src=\"https://colab.research.google.com/assets/colab-badge.svg\" alt=\"Open In Colab\"/></a>"
      ]
    },
    {
      "cell_type": "markdown",
      "metadata": {
        "id": "ilX_bqTvypqY",
        "colab_type": "text"
      },
      "source": [
        "<center><img src=\"https://www.insight.com/content/dam/insight-web/logos/global-nav.svg\" width='400'></center>\n",
        "<br>\n",
        "<font color='#544640'>\n",
        "<center><i>Mastery 2019</i></center>\n",
        "<center><i>Scottsdale, Arizona</i></center></font>\n",
        "  \n",
        "  <br>\n",
        "<center><i><font color='#544640' size='1'>Authors: <br>\n",
        "  \n",
        "Kevin Breit</font></i></center>\n",
        "\n",
        "<center><i><font color='#B81590' size='1'>kevin.breit@insight.com</font></i></center><br>\n",
        "    \n",
        "<center><i><font color='#544640' size='1'>Victor Aranda</font></i></center>\n",
        "\n",
        "<center><i><font color='#B81590' size='1'>victor.aranda@insight.com</font></i></center>"
      ]
    },
    {
      "cell_type": "markdown",
      "metadata": {
        "id": "fya744P_lD2_",
        "colab_type": "text"
      },
      "source": [
        "\n",
        "\n",
        "\n",
        "---\n",
        "\n",
        "\n",
        "\n",
        "\n",
        "\n",
        "# Objective of Course\n",
        "\n"
      ]
    },
    {
      "cell_type": "markdown",
      "metadata": {
        "id": "-_RX8qpL2hTm",
        "colab_type": "text"
      },
      "source": [
        "* Apply Python concepts to real world application development"
      ]
    },
    {
      "cell_type": "markdown",
      "metadata": {
        "id": "HDegPGoilFuo",
        "colab_type": "text"
      },
      "source": [
        "\n",
        "\n",
        "---\n",
        "\n",
        "\n",
        "\n",
        "# Application Level Components\n"
      ]
    },
    {
      "cell_type": "markdown",
      "metadata": {
        "id": "73LvVFyc2kOc",
        "colab_type": "text"
      },
      "source": [
        "\n",
        "* User interface\n",
        "* Data storage\n",
        "* Connectivity\n",
        "* Main logic\n",
        "* Testing frameworks"
      ]
    },
    {
      "cell_type": "markdown",
      "metadata": {
        "id": "QyXuBFtQ3AP-",
        "colab_type": "text"
      },
      "source": [
        "## User Interface"
      ]
    },
    {
      "cell_type": "markdown",
      "metadata": {
        "id": "3rMgpdjRlts5",
        "colab_type": "text"
      },
      "source": [
        "\n",
        "\n",
        "An application doesn't necessarily need a graphical user interface (GUI). It can be run automatically at certain times or under certain conditions. For example this can run at 3 AM.\n",
        "\n",
        "`cleanup_tmp_files.py --location /tmp`\n",
        "\n",
        "Alternatively, it can be a command line interface similar to the Python interpreter.\n",
        "\n",
        "```\n",
        "todo.py\n",
        "Enter your task: Clean the dishes\n",
        "Task created\n",
        "```\n",
        "\n",
        "For graphical interfaces, Python can use `Tkniter`, `wxPython`, or many other graphical interface frameworks.\n",
        "\n",
        "This presentation will be based on the first example, which may be run automatically."
      ]
    },
    {
      "cell_type": "markdown",
      "metadata": {
        "id": "hfBrVFW83Hry",
        "colab_type": "text"
      },
      "source": [
        "## Data Storage\n"
      ]
    },
    {
      "cell_type": "markdown",
      "metadata": {
        "id": "s4TP19WH3sGu",
        "colab_type": "text"
      },
      "source": [
        "Data storage can be in a database, flat files, or even an Excel file.\n"
      ]
    },
    {
      "cell_type": "markdown",
      "metadata": {
        "id": "nuHR7u4L3tmc",
        "colab_type": "text"
      },
      "source": [
        "### Excel Files\n"
      ]
    },
    {
      "cell_type": "markdown",
      "metadata": {
        "id": "mIj6mq_ODoR8",
        "colab_type": "text"
      },
      "source": [
        "\n",
        "\n",
        "<font color='#544640'>We'll open an Excel (.xlsx) containing some stock ticker symbols with prices.\n",
        "\n",
        "We're going to use `pandas`, a very powerful data science and data manipulation library that can handle large amounts of multidimensional \"panel data\" (hence the name) efficiently. It is generally used for data science and computing applications.\n",
        "\n",
        "It's also convenient for accessing and handling tabular data. There are *many* libraries that can handle Excel files, `pandas` is only one. `pandas` comes with some caveats (and limitations) that we won't go into here, related to it's original intended use; i.e. it is definitely not just a 'excel reader' library!\n",
        "\n",
        "Side note: `pandas` objects are called `dataframes`, much like R's native data structure and are very similar.\n",
        "\n",
        "For our purposes, here is the relevant doc:\n",
        "\n",
        "https://pandas.pydata.org/pandas-docs/stable/reference/api/pandas.read_excel.html</font>"
      ]
    },
    {
      "cell_type": "code",
      "metadata": {
        "id": "2UlfPzsB2eH6",
        "colab_type": "code",
        "colab": {}
      },
      "source": [
        "# environment setup\n",
        "import os\n",
        "import pandas as pd"
      ],
      "execution_count": 0,
      "outputs": []
    },
    {
      "cell_type": "markdown",
      "metadata": {
        "id": "NNRQ2boB4NCL",
        "colab_type": "text"
      },
      "source": [
        "First we will import the data from the spreadsheet into Python and Pandas."
      ]
    },
    {
      "cell_type": "code",
      "metadata": {
        "id": "sbYfR0tt4TtI",
        "colab_type": "code",
        "colab": {}
      },
      "source": [
        "data = pd.read_excel('https://github.com/kbreit/mastery19/raw/master/Ticker%20Symbols.xlsx', sheet_name = None)"
      ],
      "execution_count": 0,
      "outputs": []
    },
    {
      "cell_type": "markdown",
      "metadata": {
        "id": "tmaxYjhp4y3o",
        "colab_type": "text"
      },
      "source": [
        "<font color='#544640'>That was easy. When we specify sheet_name, we can do so using  `pd.read_excel` returns a `dict` whose key values are the names of the sheets in the `xlsx` document.</font>\n"
      ]
    },
    {
      "cell_type": "code",
      "metadata": {
        "id": "L6zYnmAE44Aj",
        "colab_type": "code",
        "outputId": "97039214-a117-451e-b5ea-eef0eb5d45f4",
        "colab": {
          "base_uri": "https://localhost:8080/",
          "height": 34
        }
      },
      "source": [
        "list(data.keys())"
      ],
      "execution_count": 3,
      "outputs": [
        {
          "output_type": "execute_result",
          "data": {
            "text/plain": [
              "['Stocks']"
            ]
          },
          "metadata": {
            "tags": []
          },
          "execution_count": 3
        }
      ]
    },
    {
      "cell_type": "markdown",
      "metadata": {
        "id": "K6gvjwsl5HDJ",
        "colab_type": "text"
      },
      "source": [
        "Notice the list above shows the worksheet from the spreadsheet. Now we can list the stocks we want to pull the price for."
      ]
    },
    {
      "cell_type": "code",
      "metadata": {
        "id": "84APntb_5Zik",
        "colab_type": "code",
        "outputId": "aeefc05d-c925-466a-9ee0-a5f32dd9e532",
        "colab": {
          "base_uri": "https://localhost:8080/",
          "height": 102
        }
      },
      "source": [
        "dataframe = data['Stocks']\n",
        "dataframe['Ticker']"
      ],
      "execution_count": 4,
      "outputs": [
        {
          "output_type": "execute_result",
          "data": {
            "text/plain": [
              "0    NSIT\n",
              "1    MSFT\n",
              "2    CSCO\n",
              "3    AAPL\n",
              "Name: Ticker, dtype: object"
            ]
          },
          "metadata": {
            "tags": []
          },
          "execution_count": 4
        }
      ]
    },
    {
      "cell_type": "markdown",
      "metadata": {
        "id": "kxj5vvWq5wsG",
        "colab_type": "text"
      },
      "source": [
        "Very cool. We now have a list of ticker symbols we want to retrieve stock prices for."
      ]
    },
    {
      "cell_type": "markdown",
      "metadata": {
        "id": "whJddCSJdJGh",
        "colab_type": "text"
      },
      "source": [
        "## Screen Scraping\n"
      ]
    },
    {
      "cell_type": "markdown",
      "metadata": {
        "id": "vhHM-lekdpS8",
        "colab_type": "text"
      },
      "source": [
        "\n",
        "In this simple example we're going to do some very basic web scraping.\n",
        "\n",
        "Please note the random pause/wait time introduced in the loops in this example. It's important not to get yourself into trouble by sending too many requests too frequently to the site you are accessing. Your computer will basically try to (mini-)DoS a target host if you aren't careful."
      ]
    },
    {
      "cell_type": "markdown",
      "metadata": {
        "id": "ifS1Yijwdxtl",
        "colab_type": "text"
      },
      "source": [
        "### Libraries Used:\n"
      ]
    },
    {
      "cell_type": "markdown",
      "metadata": {
        "id": "35UBZiYEdthM",
        "colab_type": "text"
      },
      "source": [
        "\n",
        "* `BeautifulSoup4`: https://readthedocs.org/projects/beautiful-soup-4/\n",
        "* `requests`: http://docs.python-requests.org/en/master/\n",
        "* `re`: https://docs.python.org/3/howto/regex.html"
      ]
    },
    {
      "cell_type": "code",
      "metadata": {
        "id": "t6_KCYAedqWU",
        "colab_type": "code",
        "colab": {}
      },
      "source": [
        "# set up environment\n",
        "import bs4 as bs\n",
        "from bs4 import BeautifulSoup\n",
        "from bs4.element import Comment\n",
        "import re\n",
        "from json import loads\n",
        "from pprint import pprint as pp\n",
        "\n",
        "\n",
        "# these two packages do almost the same thing\n",
        "# used one for one example and one for another\n",
        "import urllib.request\n",
        "import requests"
      ],
      "execution_count": 0,
      "outputs": []
    },
    {
      "cell_type": "markdown",
      "metadata": {
        "id": "CRwk9ezWeMDo",
        "colab_type": "text"
      },
      "source": [
        "### Get All Links on a Page:"
      ]
    },
    {
      "cell_type": "markdown",
      "metadata": {
        "id": "eihLKgRDeSDM",
        "colab_type": "text"
      },
      "source": [
        "You can easily write a custom web-crawler/scraper by traversing links one by one through a domain. Use at your own risk - don't say I didn't warn you. :)"
      ]
    },
    {
      "cell_type": "code",
      "metadata": {
        "id": "Xrdf0alDeVQu",
        "colab_type": "code",
        "outputId": "d0234f84-29e1-41ac-d253-796c19080491",
        "colab": {
          "base_uri": "https://localhost:8080/",
          "height": 136
        }
      },
      "source": [
        "target_page = 'https://finance.yahoo.com/quote/AAPL/profile?p=AAPL'\n",
        "\n",
        "page_data = requests.get(target_page)\n",
        "\n",
        "# use this regular expression to strip out HTML tags, if needed\n",
        "# re.sub('<[^<]+?>', '', page_data.text)\n",
        "\n",
        "soup = bs.BeautifulSoup(page_data.text, 'html.parser')\n",
        "\n",
        "links = soup.find_all('a', attrs={'href': re.compile('^http://')})\n",
        "\n",
        "for link in links[:10]:\n",
        "    print(link.get('href'))"
      ],
      "execution_count": 6,
      "outputs": [
        {
          "output_type": "stream",
          "text": [
            "http://www.apple.com\n",
            "http://info.yahoo.com/privacy/us/yahoo/\n",
            "http://info.yahoo.com/relevantads/\n",
            "http://info.yahoo.com/legal/us/yahoo/utos/utos-173.html\n",
            "http://twitter.com/YahooFinance\n",
            "http://facebook.com/yahoofinance\n",
            "http://yahoofinance.tumblr.com\n"
          ],
          "name": "stdout"
        }
      ]
    },
    {
      "cell_type": "markdown",
      "metadata": {
        "id": "APS9pCmjegpa",
        "colab_type": "text"
      },
      "source": [
        "### Find Specific Text on a Page:"
      ]
    },
    {
      "cell_type": "code",
      "metadata": {
        "id": "4cgUcjQaerv-",
        "colab_type": "code",
        "outputId": "edf16115-f58e-4898-ee56-c32066844fad",
        "colab": {
          "base_uri": "https://localhost:8080/",
          "height": 34
        }
      },
      "source": [
        "# wonderful example from https://stackoverflow.com/questions/1936466/beautifulsoup-grab-visible-webpage-text\n",
        "\n",
        "def tag_visible(element):\n",
        "    if element.parent.name in ['style', 'script', 'head', 'title', 'meta', '[document]']:\n",
        "        return False\n",
        "    if isinstance(element, Comment):\n",
        "        return False\n",
        "    return True\n",
        "\n",
        "def get_ceo(ticker):\n",
        "    soup = BeautifulSoup(requests.get('http://finance.yahoo.com/quote/{0}/profile?p={0}'.format(ticker)).content)\n",
        "    script = soup.find('script',text=re.compile('root.App.main')).text\n",
        "    data = loads(re.search('root.App.main\\s+=\\s+(\\{.*\\})', script).group(1))\n",
        "#     pp(data[\"context\"][\"dispatcher\"][\"stores\"][u'QuoteSummaryStore']['assetProfile']['companyOfficers'])\n",
        "    executive_json = data[\"context\"][\"dispatcher\"][\"stores\"][u'QuoteSummaryStore']['assetProfile']['companyOfficers']\n",
        "    for exec in executive_json:\n",
        "        if 'CEO' in exec['title']:\n",
        "            return exec['name']\n",
        "\n",
        "ceo = get_ceo('AAPL')\n",
        "print(ceo)"
      ],
      "execution_count": 7,
      "outputs": [
        {
          "output_type": "stream",
          "text": [
            "Mr. Timothy D. Cook\n"
          ],
          "name": "stdout"
        }
      ]
    },
    {
      "cell_type": "markdown",
      "metadata": {
        "id": "_Lg3ZGpC4R7I",
        "colab_type": "text"
      },
      "source": [
        "## Connectivity\n"
      ]
    },
    {
      "cell_type": "markdown",
      "metadata": {
        "id": "MwgAeZ0n6c9I",
        "colab_type": "text"
      },
      "source": [
        "\n",
        "Connectivity can mean a lot of things. It can be connecting to a database for your data storage retrieval. Today's example will require us to retrieve the stock prices for the tickers in the Excel spreadsheet.\n",
        "\n",
        "`requests` is a very common library for HTTP requests in Python. `requests` will communicate with Alpha Vantage's API (https://www.alphavantage.co/) for stock price lookups.\n",
        "\n",
        "First, we need to import requests."
      ]
    },
    {
      "cell_type": "markdown",
      "metadata": {
        "id": "OHowDPZi7Kb5",
        "colab_type": "text"
      },
      "source": [
        "First, we need to construct our URL based on the API documentation (https://www.alphavantage.co/documentation/)."
      ]
    },
    {
      "cell_type": "code",
      "metadata": {
        "id": "yc2yDSjt7PbW",
        "colab_type": "code",
        "colab": {}
      },
      "source": [
        "import requests\n",
        "\n",
        "API_KEY=\"\"\n",
        "params = {'function': 'TIME_SERIES_DAILY',\n",
        "          'symbol': 'MSFT',\n",
        "          'apikey': API_KEY}\n",
        "response = requests.get('https://www.alphavantage.co/query', params=params)\n",
        "# response.url"
      ],
      "execution_count": 0,
      "outputs": []
    },
    {
      "cell_type": "markdown",
      "metadata": {
        "id": "gFwGRWb376nq",
        "colab_type": "text"
      },
      "source": [
        "Notice the URL has the keys and values in the dictionary I specified. What did Alpha Advantage return to us? Lets see in JSON format."
      ]
    },
    {
      "cell_type": "code",
      "metadata": {
        "id": "Bg3Ib6Ua8Ds9",
        "colab_type": "code",
        "outputId": "543e2bde-f7a5-4397-a421-6fee1f6277db",
        "colab": {
          "base_uri": "https://localhost:8080/",
          "height": 54
        }
      },
      "source": [
        "response.json()"
      ],
      "execution_count": 9,
      "outputs": [
        {
          "output_type": "execute_result",
          "data": {
            "text/plain": [
              "{'Error Message': 'the parameter apikey is invalid or missing. Please claim your free API key on (https://www.alphavantage.co/support/#api-key). It should take less than 20 seconds, and is free permanently.'}"
            ]
          },
          "metadata": {
            "tags": []
          },
          "execution_count": 9
        }
      ]
    },
    {
      "cell_type": "markdown",
      "metadata": {
        "id": "9e_8oIXr8QR4",
        "colab_type": "text"
      },
      "source": [
        "That's a lot. 100 days of data to be precise. What about today's opening price?"
      ]
    },
    {
      "cell_type": "code",
      "metadata": {
        "id": "B0eOys1F8U3C",
        "colab_type": "code",
        "outputId": "a051b9b7-1840-421f-bedc-d88799084edc",
        "colab": {
          "base_uri": "https://localhost:8080/",
          "height": 34
        }
      },
      "source": [
        "from datetime import datetime, timedelta\n",
        "\n",
        "# current = datetime.today()\n",
        "current = datetime.today() - timedelta(days=1)\n",
        "current = current.strftime('%Y-%m-%d')\n",
        "prices = response.json()\n",
        "prices['Time Series (Daily)']['2019-08-09']['1. open']\n",
        "# prices['Time Series (Daily)'][current]['1. open']"
      ],
      "execution_count": 27,
      "outputs": [
        {
          "output_type": "execute_result",
          "data": {
            "text/plain": [
              "'138.6100'"
            ]
          },
          "metadata": {
            "tags": []
          },
          "execution_count": 27
        }
      ]
    },
    {
      "cell_type": "markdown",
      "metadata": {
        "id": "e-ufKeFroTl8",
        "colab_type": "text"
      },
      "source": [
        "We have the proper components ready to go for this example. Data storage via Excel. Connectivity over a RESTful API using requests. Lets tie it together."
      ]
    },
    {
      "cell_type": "markdown",
      "metadata": {
        "id": "Uffg7buX4Tas",
        "colab_type": "text"
      },
      "source": [
        "## Main Logic\n"
      ]
    },
    {
      "cell_type": "markdown",
      "metadata": {
        "id": "Cz0vLrKRoznG",
        "colab_type": "text"
      },
      "source": [
        "\n",
        "The main logic of the program is really what controls everything. It's the glue that brings your Lego pieces together. Don't be that guy. Don't use glue on your Lego pieces.\n",
        "\n",
        "First, we should move the components into functions."
      ]
    },
    {
      "cell_type": "code",
      "metadata": {
        "id": "lhzHyVicpiF-",
        "colab_type": "code",
        "colab": {}
      },
      "source": [
        "def get_stock_opening_price(symbol):\n",
        "    params = {'function': 'TIME_SERIES_DAILY',\n",
        "              'symbol': symbol,\n",
        "              'apikey': API_KEY}\n",
        "    response = requests.get('https://www.alphavantage.co/query', params=params)\n",
        "    response_json = response.json()\n",
        "    return response_json['Time Series (Daily)'][current]['1. open']\n",
        "\n",
        "def read_from_excel(filename):\n",
        "    return pd.read_excel(filename, sheet_name=None)"
      ],
      "execution_count": 0,
      "outputs": []
    },
    {
      "cell_type": "markdown",
      "metadata": {
        "id": "SmYPBT7jqW98",
        "colab_type": "text"
      },
      "source": [
        "Next, we will call `read_from_excel()` to get a `list`\n",
        " of stock symbols to query.\n"
      ]
    },
    {
      "cell_type": "code",
      "metadata": {
        "id": "kc_cCOKru92f",
        "colab_type": "code",
        "colab": {
          "base_uri": "https://localhost:8080/",
          "height": 68
        },
        "outputId": "a16480a8-21b0-4f83-ee04-f079cc5e35c1"
      },
      "source": [
        "!ls /content/sample_data"
      ],
      "execution_count": 20,
      "outputs": [
        {
          "output_type": "stream",
          "text": [
            "anscombe.json\t\t      mnist_test.csv\n",
            "california_housing_test.csv   mnist_train_small.csv\n",
            "california_housing_train.csv  README.md\n"
          ],
          "name": "stdout"
        }
      ]
    },
    {
      "cell_type": "code",
      "metadata": {
        "id": "4vFAClxBqmOo",
        "colab_type": "code",
        "outputId": "283a0b80-4c71-4247-daa0-a07a7c21398a",
        "colab": {
          "base_uri": "https://localhost:8080/",
          "height": 102
        }
      },
      "source": [
        "data = read_from_excel('https://github.com/kbreit/mastery19/blob/master/Ticker%20Symbols.xlsx?raw=true')\n",
        "dataframe = data['Stocks']\n",
        "for index, row in dataframe.iterrows():\n",
        "    dataframe.loc[index, \"Price\"] = get_stock_opening_price(row['Ticker'])\n",
        "    dataframe.loc[index, \"CEO\"] = get_ceo(row['Ticker'])\n",
        "print(dataframe)\n"
      ],
      "execution_count": 28,
      "outputs": [
        {
          "output_type": "stream",
          "text": [
            "  Ticker     Price                     CEO\n",
            "0   NSIT   53.0900  Mr. Kenneth T. Lamneck\n",
            "1   MSFT  138.6100      Mr. Satya  Nadella\n",
            "2   CSCO   52.7800  Mr. Charles H. Robbins\n",
            "3   AAPL  201.3000     Mr. Timothy D. Cook\n"
          ],
          "name": "stdout"
        }
      ]
    },
    {
      "cell_type": "markdown",
      "metadata": {
        "id": "AjE5MFrVtSMo",
        "colab_type": "text"
      },
      "source": [
        "Finally, we should write the information back to the Excel file."
      ]
    },
    {
      "cell_type": "code",
      "metadata": {
        "id": "-_I-63l-0nIF",
        "colab_type": "code",
        "colab": {}
      },
      "source": [
        "with pd.ExcelWriter('/content/Ticker Symbols.xlsx') as writer:\n",
        "    dataframe.to_excel(writer, sheet_name='Stocks', index=False)"
      ],
      "execution_count": 0,
      "outputs": []
    },
    {
      "cell_type": "markdown",
      "metadata": {
        "id": "hHy0aIQ64VIc",
        "colab_type": "text"
      },
      "source": [
        "## Testing Frameworks\n"
      ]
    },
    {
      "cell_type": "markdown",
      "metadata": {
        "id": "jl0d_TnCyY2S",
        "colab_type": "text"
      },
      "source": [
        "\n",
        "Any application that is more than just a simple script should have some automatible testing associated to it.\n",
        "\n",
        "There are three main types of tests - unit, integration, and validation.\n",
        "\n",
        "> In computer programming, **unit testing** is a software testing method by which individual units of source code, sets of one or more computer program modules together with associated control data, usage procedures, and operating procedures, are tested to determine whether they are fit for use. - https://en.wikipedia.org/wiki/Unit_testing\n",
        "\n",
        "> **Integration testing** (sometimes called integration and testing, abbreviated I&T) is the phase in software testing in which individual software modules are combined and tested as a group. Integration testing is conducted to evaluate the compliance of a system or component with specified functional requirements. It occurs after unit testing and before validation testing. Integration testing takes as its input modules that have been unit tested, groups them in larger aggregates, applies tests defined in an integration test plan to those aggregates, and delivers as its output the integrated system ready for system testing. - https://en.wikipedia.org/wiki/Integration_testing\n",
        "\n",
        "> In software project management, software testing, and software engineering, **verification and validation** (V&V) is the process of checking that a software system meets specifications and that it fulfills its intended purpose. It may also be referred to as software quality control. It is normally the responsibility of software testers as part of the software development lifecycle. In simple terms, software verification is: \"Assuming we should build X, does our software achieve its goals without any bugs or gaps?\" On the other hand, software validation is: \"Was X what we should have built? Does X meet the high level requirements?\"- https://en.wikipedia.org/wiki/Software_verification_and_validation\n",
        "\n",
        "Today we will mostly discuss unit testing and touch on integration tests."
      ]
    },
    {
      "cell_type": "markdown",
      "metadata": {
        "id": "MX_E4zJF4Xlr",
        "colab_type": "text"
      },
      "source": [
        "### Unit Testing\n"
      ]
    },
    {
      "cell_type": "markdown",
      "metadata": {
        "id": "Zv-4MaXpzgJ6",
        "colab_type": "text"
      },
      "source": [
        "\n",
        "Unit tests perform a test against a single piece of code. Each test case should be tested independently from other test cases."
      ]
    },
    {
      "cell_type": "code",
      "metadata": {
        "id": "j71srmahz9DN",
        "colab_type": "code",
        "colab": {}
      },
      "source": [
        "def add(a, b):\n",
        "    return a + b\n",
        "\n",
        "def subtract(a, b):\n",
        "    return a - b\n",
        "\n",
        "def multiply(a, b):\n",
        "    return a * b\n",
        "\n",
        "def divide(a, b):\n",
        "    return a / b"
      ],
      "execution_count": 0,
      "outputs": []
    },
    {
      "cell_type": "markdown",
      "metadata": {
        "id": "7PdSTsej0ENK",
        "colab_type": "text"
      },
      "source": [
        "The following class is using the built-in Python `unittest` module to perform unit tests against the functions."
      ]
    },
    {
      "cell_type": "code",
      "metadata": {
        "id": "kbX7cIzY00bP",
        "colab_type": "code",
        "colab": {}
      },
      "source": [
        "import unittest\n",
        "\n",
        "class MasteryNotebook(unittest.TestCase):\n",
        "    def test_add(self):\n",
        "        self.assertEqual(add(1,2), 3)\n",
        "        self.assertEqual(add(0,1), 1)\n",
        "        self.assertEqual(add(-1,-1), -2)\n",
        "    def test_subtract(self):\n",
        "        self.assertEqual(subtract(2, 1), 1)\n",
        "        self.assertEqual(subtract(0, 1), -1)\n",
        "    def test_multiply(self):\n",
        "        self.assertEqual(multiply(2, 1), 2)\n",
        "        self.assertEqual(multiply(-1, 1), -1)        \n",
        "    def test_divide(self):\n",
        "        with self.assertRaises(ZeroDivisionError):\n",
        "            divide(1, 0)\n",
        "\n",
        "unittest.main(argv=[''], verbosity=1, exit=False)"
      ],
      "execution_count": 0,
      "outputs": []
    },
    {
      "cell_type": "markdown",
      "metadata": {
        "id": "vWyqNuor6QkP",
        "colab_type": "text"
      },
      "source": [
        "#### Mocks\n"
      ]
    },
    {
      "cell_type": "markdown",
      "metadata": {
        "id": "UMUo1OT85vuu",
        "colab_type": "text"
      },
      "source": [
        "\n",
        "Remember, a unit test is meant to test an isolated piece of code. What if your unit test requires another source, such as a local database or network connection?\n",
        "\n",
        "> In object-oriented programming, **mock objects** are simulated objects that mimic the behavior of real objects in controlled ways, most often as part of a software testing initiative. - https://en.wikipedia.org/wiki/Mock_object\n",
        "\n",
        "Mocks go beyond the content of this course. But they allow you to simulate an external response in a controlled manner. In other words, the mock pretends to be what you want it to be (ex. database call).\n",
        "\n",
        "*Note:* [Some people](http://arlobelshee.com/tag/no-mocks/) don't like mocks and think it means there is room for improvement with code structure. I'm not opinionated here. Do what accomplishes your task."
      ]
    },
    {
      "cell_type": "markdown",
      "metadata": {
        "id": "YhdSXnDk6Ok6",
        "colab_type": "text"
      },
      "source": [
        "### Integration Tests\n"
      ]
    },
    {
      "cell_type": "markdown",
      "metadata": {
        "id": "YzXfo2NN7WjI",
        "colab_type": "text"
      },
      "source": [
        "\n",
        "Integration testing is frequently accomplished using `tox`, which is a Python testing tool. You can also use a full Continuous Integration (CI) system such as TravisCI or Jenkins to run your tests. This is outside the scope of this presentation."
      ]
    },
    {
      "cell_type": "markdown",
      "metadata": {
        "id": "wcSddre86NVj",
        "colab_type": "text"
      },
      "source": [
        "### Coverage\n"
      ]
    },
    {
      "cell_type": "markdown",
      "metadata": {
        "id": "2sTNsPitTJyw",
        "colab_type": "text"
      },
      "source": [
        "\n",
        "Code coverage means how many lines of code are actually tested. But does that mean that as long as a line of code is tested it is properly tested? No. In the unit test example above, the `test_divide()` test suite only tests for the exception. I'd argue the test suite doesn't fully cover all the cases it should test for. Design your unit tests as well as you can and build-out over time. They won't be perfect day one."
      ]
    },
    {
      "cell_type": "markdown",
      "metadata": {
        "id": "54_wt8NZ43rb",
        "colab_type": "text"
      },
      "source": [
        "\n",
        "\n",
        "\n",
        "\n",
        "---\n",
        "\n",
        "\n",
        "\n",
        "\n",
        "# Resources\n"
      ]
    },
    {
      "cell_type": "markdown",
      "metadata": {
        "id": "dyovVB8dlsPi",
        "colab_type": "text"
      },
      "source": [
        "\n",
        "\n",
        "\n",
        "[wxPython](https://www.wxpython.org/)\n",
        "\n",
        "[Pandas](https://pandas.pydata.org/)\n",
        "\n",
        "[Python Context Managers and the \"with\" Statement](https://realpython.com/courses/python-context-managers-and-with-statement/)\n",
        "\n",
        "[Requests Library](https://2.python-requests.org/en/master/)\n",
        "\n",
        "[Getting Started With Testing in Python - Real Python](https://realpython.com/python-testing/)\n",
        "\n",
        "[Demystifying the Patch Function - Video](https://www.youtube.com/watch?v=ww1UsGZV8fQ)\n",
        "\n",
        "[Reading and Writing Files in Python](https://realpython.com/read-write-files-python/)\n",
        "\n",
        "[Automate the Boring Stuff with Python](https://automatetheboringstuff.com/)"
      ]
    }
  ]
}