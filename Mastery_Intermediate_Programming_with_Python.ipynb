{
  "nbformat": 4,
  "nbformat_minor": 0,
  "metadata": {
    "colab": {
      "name": "Mastery - Intermediate Programming with Python.ipynb",
      "version": "0.3.2",
      "provenance": [],
      "collapsed_sections": [],
      "toc_visible": true
    },
    "kernelspec": {
      "name": "python3",
      "display_name": "Python 3"
    }
  },
  "cells": [
    {
      "cell_type": "markdown",
      "metadata": {
        "id": "fya744P_lD2_",
        "colab_type": "text"
      },
      "source": [
        "# Objective of Course\n",
        "\n",
        "* Apply Python concepts to real world application development"
      ]
    },
    {
      "cell_type": "markdown",
      "metadata": {
        "id": "HDegPGoilFuo",
        "colab_type": "text"
      },
      "source": [
        "# Application Level Components\n",
        "\n",
        "* User interface\n",
        "* Data storage\n",
        "* Connectivity\n",
        "* Main logic\n",
        "* Testing frameworks"
      ]
    },
    {
      "cell_type": "markdown",
      "metadata": {
        "id": "33pHS_ChE0Vx",
        "colab_type": "text"
      },
      "source": [
        "<br><br><font color=\"#B81590\">$$\\large-\\infty-$$</font><br><br>"
      ]
    },
    {
      "cell_type": "markdown",
      "metadata": {
        "id": "3rMgpdjRlts5",
        "colab_type": "text"
      },
      "source": [
        "## User Interface\n",
        "\n",
        "An application doesn't necessarily need a graphical user interface (GUI). It can be run automatically at certain times or under certain conditions. For example this can run at 3 AM.\n",
        "\n",
        "`cleanup_tmp_files.py --location /tmp`\n",
        "\n",
        "Alternatively, it can be a command line interface similar to the Python interpreter.\n",
        "\n",
        "```\n",
        "todo.py\n",
        "Enter your task: Clean the dishes\n",
        "Task created\n",
        "```\n",
        "\n",
        "For graphical interfaces, Python can use `Tkniter`, `wxPython`, or many other graphical interface frameworks.\n",
        "\n",
        "This presentation will be based on the first example, which may be run automatically."
      ]
    },
    {
      "cell_type": "markdown",
      "metadata": {
        "id": "Lwwqe6ESEyK7",
        "colab_type": "text"
      },
      "source": [
        "<br><br><font color=\"#B81590\">$$\\large-\\infty-$$</font><br><br>"
      ]
    },
    {
      "cell_type": "markdown",
      "metadata": {
        "id": "mIj6mq_ODoR8",
        "colab_type": "text"
      },
      "source": [
        "## Data Storage\n",
        "\n",
        "Data storage can be in a database, flat files, or even an Excel file.\n",
        "\n",
        "### <font color=\"#D21087\">Excel Files</font>\n",
        "\n",
        "<font color='#544640'>We'll open an Excel (.xlsx) containing some stock ticker symbols with prices.\n",
        "\n",
        "We're going to use `pandas`, a very powerful data science and data manipulation library that can handle large amounts of multidimensional \"panel data\" (hence the name) efficiently. It is generally used for data science and computing applications.\n",
        "\n",
        "It's also convenient for accessing and handling tabular data. There are *many* libraries that can handle Excel files, `pandas` is only one. `pandas` comes with some caveats (and limitations) that we won't go into here, related to it's original intended use; i.e. it is definitely not just a 'excel reader' library!\n",
        "\n",
        "Side note: `pandas` objects are called `dataframes`, much like R's native data structure and are very similar.\n",
        "\n",
        "For our purposes, here is the relevant doc:\n",
        "\n",
        "https://pandas.pydata.org/pandas-docs/stable/reference/api/pandas.read_excel.html</font>"
      ]
    },
    {
      "cell_type": "code",
      "metadata": {
        "id": "2UlfPzsB2eH6",
        "colab_type": "code",
        "colab": {}
      },
      "source": [
        "# environment setup\n",
        "import os\n",
        "import pandas as pd"
      ],
      "execution_count": 0,
      "outputs": []
    },
    {
      "cell_type": "markdown",
      "metadata": {
        "id": "NNRQ2boB4NCL",
        "colab_type": "text"
      },
      "source": [
        "First we will import the data from the spreadsheet into Python and Pandas."
      ]
    },
    {
      "cell_type": "code",
      "metadata": {
        "id": "sbYfR0tt4TtI",
        "colab_type": "code",
        "colab": {}
      },
      "source": [
        "data = pd.read_excel('/content/Ticker Symbols.xlsx', sheet_name = None)"
      ],
      "execution_count": 0,
      "outputs": []
    },
    {
      "cell_type": "markdown",
      "metadata": {
        "id": "tmaxYjhp4y3o",
        "colab_type": "text"
      },
      "source": [
        "<font color='#544640'>That was easy. When we specify sheet_name, we can do so using  `pd.read_excel` returns a `dict` whose key values are the names of the sheets in the `xlsx` document.</font>\n"
      ]
    },
    {
      "cell_type": "code",
      "metadata": {
        "id": "L6zYnmAE44Aj",
        "colab_type": "code",
        "outputId": "6b26409f-fd0d-42b0-8598-76727bbc4c27",
        "colab": {
          "base_uri": "https://localhost:8080/",
          "height": 35
        }
      },
      "source": [
        "list(data.keys())"
      ],
      "execution_count": 0,
      "outputs": [
        {
          "output_type": "execute_result",
          "data": {
            "text/plain": [
              "['Stocks']"
            ]
          },
          "metadata": {
            "tags": []
          },
          "execution_count": 47
        }
      ]
    },
    {
      "cell_type": "markdown",
      "metadata": {
        "id": "K6gvjwsl5HDJ",
        "colab_type": "text"
      },
      "source": [
        "Notice the list above shows the worksheet from the spreadsheet. Now we can list the stocks we want to pull the price for."
      ]
    },
    {
      "cell_type": "code",
      "metadata": {
        "id": "84APntb_5Zik",
        "colab_type": "code",
        "outputId": "9c00ab94-c810-4c2a-d3c4-238c43c47aa8",
        "colab": {
          "base_uri": "https://localhost:8080/",
          "height": 104
        }
      },
      "source": [
        "dataframe = data['Stocks']\n",
        "dataframe['Ticker']"
      ],
      "execution_count": 0,
      "outputs": [
        {
          "output_type": "execute_result",
          "data": {
            "text/plain": [
              "0    NSIT\n",
              "1    MSFT\n",
              "2    CSCO\n",
              "3    AAPL\n",
              "Name: Ticker, dtype: object"
            ]
          },
          "metadata": {
            "tags": []
          },
          "execution_count": 48
        }
      ]
    },
    {
      "cell_type": "markdown",
      "metadata": {
        "id": "kxj5vvWq5wsG",
        "colab_type": "text"
      },
      "source": [
        "Very cool. We now have a list of ticker symbols we want to retrieve stock prices for.\n",
        "\n",
        "---\n",
        "\n"
      ]
    },
    {
      "cell_type": "markdown",
      "metadata": {
        "id": "ZuYh9pg0pqWG",
        "colab_type": "text"
      },
      "source": [
        "<br><br><font color=\"#B81590\">$$\\large-\\infty-$$</font><br><br>"
      ]
    },
    {
      "cell_type": "markdown",
      "metadata": {
        "id": "whJddCSJdJGh",
        "colab_type": "text"
      },
      "source": [
        "# Screen Scraping\n"
      ]
    },
    {
      "cell_type": "markdown",
      "metadata": {
        "id": "MwgAeZ0n6c9I",
        "colab_type": "text"
      },
      "source": [
        "## Connectivity\n",
        "\n",
        "Connectivity can mean a lot of things. It can be connecting to a database for your data storage retrieval. Today's example will require us to retrieve the stock prices for the tickers in the Excel spreadsheet.\n",
        "\n",
        "`requests` is a very common library for HTTP requests in Python. `requests` will communicate with Alpha Vantage's API (https://www.alphavantage.co/) for stock price lookups.\n",
        "\n",
        "First, we need to import requests."
      ]
    },
    {
      "cell_type": "markdown",
      "metadata": {
        "id": "OHowDPZi7Kb5",
        "colab_type": "text"
      },
      "source": [
        "First, we need to construct our URL based on the API documentation (https://www.alphavantage.co/documentation/)."
      ]
    },
    {
      "cell_type": "code",
      "metadata": {
        "id": "yc2yDSjt7PbW",
        "colab_type": "code",
        "outputId": "6d4d55d5-24be-488e-fed9-c6227b8a6a5a",
        "colab": {
          "base_uri": "https://localhost:8080/",
          "height": 35
        }
      },
      "source": [
        "import requests\n",
        "\n",
        "API_KEY=\"\"\n",
        "params = {'function': 'TIME_SERIES_DAILY',\n",
        "          'symbol': 'MSFT',\n",
        "          'apikey': API_KEY}\n",
        "response = requests.get('https://www.alphavantage.co/query', params=params)\n",
        "response.url"
      ],
      "execution_count": 0,
      "outputs": [
        {
          "output_type": "execute_result",
          "data": {
            "text/plain": [
              "'https://www.alphavantage.co/query?function=TIME_SERIES_DAILY&symbol=MSFT&apikey=NWL4TGYBVPSU0QHW'"
            ]
          },
          "metadata": {
            "tags": []
          },
          "execution_count": 44
        }
      ]
    },
    {
      "cell_type": "markdown",
      "metadata": {
        "id": "gFwGRWb376nq",
        "colab_type": "text"
      },
      "source": [
        "Notice the URL has the keys and values in the dictionary I specified. What did Alpha Advantage return to us? Lets see in JSON format."
      ]
    },
    {
      "cell_type": "code",
      "metadata": {
        "id": "Bg3Ib6Ua8Ds9",
        "colab_type": "code",
        "outputId": "6aa2fe81-b459-497b-b839-693fe073ca40",
        "colab": {
          "base_uri": "https://localhost:8080/",
          "height": 8771
        }
      },
      "source": [
        "response.json()"
      ],
      "execution_count": 0,
      "outputs": [
        {
          "output_type": "execute_result",
          "data": {
            "text/plain": [
              "{'Meta Data': {'1. Information': 'Daily Prices (open, high, low, close) and Volumes',\n",
              "  '2. Symbol': 'MSFT',\n",
              "  '3. Last Refreshed': '2019-06-17 14:48:10',\n",
              "  '4. Output Size': 'Compact',\n",
              "  '5. Time Zone': 'US/Eastern'},\n",
              " 'Time Series (Daily)': {'2019-01-24': {'1. open': '106.8600',\n",
              "   '2. high': '107.0000',\n",
              "   '3. low': '105.3400',\n",
              "   '4. close': '106.2000',\n",
              "   '5. volume': '23164838'},\n",
              "  '2019-01-25': {'1. open': '107.2400',\n",
              "   '2. high': '107.8800',\n",
              "   '3. low': '106.5900',\n",
              "   '4. close': '107.1700',\n",
              "   '5. volume': '31218193'},\n",
              "  '2019-01-28': {'1. open': '106.2600',\n",
              "   '2. high': '106.4800',\n",
              "   '3. low': '104.6600',\n",
              "   '4. close': '105.0800',\n",
              "   '5. volume': '29476719'},\n",
              "  '2019-01-29': {'1. open': '104.8800',\n",
              "   '2. high': '104.9700',\n",
              "   '3. low': '102.1700',\n",
              "   '4. close': '102.9400',\n",
              "   '5. volume': '31490547'},\n",
              "  '2019-01-30': {'1. open': '104.6200',\n",
              "   '2. high': '106.3800',\n",
              "   '3. low': '104.3300',\n",
              "   '4. close': '106.3800',\n",
              "   '5. volume': '49471866'},\n",
              "  '2019-01-31': {'1. open': '103.8000',\n",
              "   '2. high': '105.2200',\n",
              "   '3. low': '103.1800',\n",
              "   '4. close': '104.4300',\n",
              "   '5. volume': '55636391'},\n",
              "  '2019-02-01': {'1. open': '103.7750',\n",
              "   '2. high': '104.0999',\n",
              "   '3. low': '102.3500',\n",
              "   '4. close': '102.7800',\n",
              "   '5. volume': '35535690'},\n",
              "  '2019-02-04': {'1. open': '102.8700',\n",
              "   '2. high': '105.8000',\n",
              "   '3. low': '102.7700',\n",
              "   '4. close': '105.7400',\n",
              "   '5. volume': '31315282'},\n",
              "  '2019-02-05': {'1. open': '106.0600',\n",
              "   '2. high': '107.2700',\n",
              "   '3. low': '105.9600',\n",
              "   '4. close': '107.2200',\n",
              "   '5. volume': '27325365'},\n",
              "  '2019-02-06': {'1. open': '107.0000',\n",
              "   '2. high': '107.0000',\n",
              "   '3. low': '105.5300',\n",
              "   '4. close': '106.0300',\n",
              "   '5. volume': '20609759'},\n",
              "  '2019-02-07': {'1. open': '105.1850',\n",
              "   '2. high': '105.5900',\n",
              "   '3. low': '104.2900',\n",
              "   '4. close': '105.2700',\n",
              "   '5. volume': '29760697'},\n",
              "  '2019-02-08': {'1. open': '104.3900',\n",
              "   '2. high': '105.7800',\n",
              "   '3. low': '104.2603',\n",
              "   '4. close': '105.6700',\n",
              "   '5. volume': '21461093'},\n",
              "  '2019-02-11': {'1. open': '106.2000',\n",
              "   '2. high': '106.5800',\n",
              "   '3. low': '104.9650',\n",
              "   '4. close': '105.2500',\n",
              "   '5. volume': '18914123'},\n",
              "  '2019-02-12': {'1. open': '106.1400',\n",
              "   '2. high': '107.1400',\n",
              "   '3. low': '105.4800',\n",
              "   '4. close': '106.8900',\n",
              "   '5. volume': '25056595'},\n",
              "  '2019-02-13': {'1. open': '107.5000',\n",
              "   '2. high': '107.7800',\n",
              "   '3. low': '106.7100',\n",
              "   '4. close': '106.8100',\n",
              "   '5. volume': '18394869'},\n",
              "  '2019-02-14': {'1. open': '106.3100',\n",
              "   '2. high': '107.2900',\n",
              "   '3. low': '105.6600',\n",
              "   '4. close': '106.9000',\n",
              "   '5. volume': '21784703'},\n",
              "  '2019-02-15': {'1. open': '107.9100',\n",
              "   '2. high': '108.3000',\n",
              "   '3. low': '107.3624',\n",
              "   '4. close': '108.2200',\n",
              "   '5. volume': '26606886'},\n",
              "  '2019-02-19': {'1. open': '107.7900',\n",
              "   '2. high': '108.6600',\n",
              "   '3. low': '107.7800',\n",
              "   '4. close': '108.1700',\n",
              "   '5. volume': '18038460'},\n",
              "  '2019-02-20': {'1. open': '107.8600',\n",
              "   '2. high': '107.9400',\n",
              "   '3. low': '106.2900',\n",
              "   '4. close': '107.1500',\n",
              "   '5. volume': '21607671'},\n",
              "  '2019-02-21': {'1. open': '106.9000',\n",
              "   '2. high': '109.4800',\n",
              "   '3. low': '106.8700',\n",
              "   '4. close': '109.4100',\n",
              "   '5. volume': '29063231'},\n",
              "  '2019-02-22': {'1. open': '110.0500',\n",
              "   '2. high': '111.2000',\n",
              "   '3. low': '109.8200',\n",
              "   '4. close': '110.9700',\n",
              "   '5. volume': '27763218'},\n",
              "  '2019-02-25': {'1. open': '111.7600',\n",
              "   '2. high': '112.1800',\n",
              "   '3. low': '111.2600',\n",
              "   '4. close': '111.5900',\n",
              "   '5. volume': '23750599'},\n",
              "  '2019-02-26': {'1. open': '111.2600',\n",
              "   '2. high': '113.2400',\n",
              "   '3. low': '111.1700',\n",
              "   '4. close': '112.3600',\n",
              "   '5. volume': '21536733'},\n",
              "  '2019-02-27': {'1. open': '111.6900',\n",
              "   '2. high': '112.3600',\n",
              "   '3. low': '110.8800',\n",
              "   '4. close': '112.1700',\n",
              "   '5. volume': '21487062'},\n",
              "  '2019-02-28': {'1. open': '112.0400',\n",
              "   '2. high': '112.8800',\n",
              "   '3. low': '111.7300',\n",
              "   '4. close': '112.0300',\n",
              "   '5. volume': '29083934'},\n",
              "  '2019-03-01': {'1. open': '112.8900',\n",
              "   '2. high': '113.0200',\n",
              "   '3. low': '111.6650',\n",
              "   '4. close': '112.5300',\n",
              "   '5. volume': '23501169'},\n",
              "  '2019-03-04': {'1. open': '113.0200',\n",
              "   '2. high': '113.2500',\n",
              "   '3. low': '110.8000',\n",
              "   '4. close': '112.2600',\n",
              "   '5. volume': '26608014'},\n",
              "  '2019-03-05': {'1. open': '112.2500',\n",
              "   '2. high': '112.3900',\n",
              "   '3. low': '111.2300',\n",
              "   '4. close': '111.7000',\n",
              "   '5. volume': '19538318'},\n",
              "  '2019-03-06': {'1. open': '111.8700',\n",
              "   '2. high': '112.6600',\n",
              "   '3. low': '111.4300',\n",
              "   '4. close': '111.7500',\n",
              "   '5. volume': '17686996'},\n",
              "  '2019-03-07': {'1. open': '111.4000',\n",
              "   '2. high': '111.5500',\n",
              "   '3. low': '109.8650',\n",
              "   '4. close': '110.3900',\n",
              "   '5. volume': '25338954'},\n",
              "  '2019-03-08': {'1. open': '109.1600',\n",
              "   '2. high': '110.7100',\n",
              "   '3. low': '108.8000',\n",
              "   '4. close': '110.5100',\n",
              "   '5. volume': '22818430'},\n",
              "  '2019-03-11': {'1. open': '110.9900',\n",
              "   '2. high': '112.9500',\n",
              "   '3. low': '110.9800',\n",
              "   '4. close': '112.8300',\n",
              "   '5. volume': '26491618'},\n",
              "  '2019-03-12': {'1. open': '112.8200',\n",
              "   '2. high': '113.9900',\n",
              "   '3. low': '112.6499',\n",
              "   '4. close': '113.6200',\n",
              "   '5. volume': '26132717'},\n",
              "  '2019-03-13': {'1. open': '114.1300',\n",
              "   '2. high': '115.0000',\n",
              "   '3. low': '113.7800',\n",
              "   '4. close': '114.5000',\n",
              "   '5. volume': '35513771'},\n",
              "  '2019-03-14': {'1. open': '114.5400',\n",
              "   '2. high': '115.2000',\n",
              "   '3. low': '114.3300',\n",
              "   '4. close': '114.5900',\n",
              "   '5. volume': '30763367'},\n",
              "  '2019-03-15': {'1. open': '115.3400',\n",
              "   '2. high': '117.2500',\n",
              "   '3. low': '114.5900',\n",
              "   '4. close': '115.9100',\n",
              "   '5. volume': '54630661'},\n",
              "  '2019-03-18': {'1. open': '116.1700',\n",
              "   '2. high': '117.6100',\n",
              "   '3. low': '116.0500',\n",
              "   '4. close': '117.5700',\n",
              "   '5. volume': '31207596'},\n",
              "  '2019-03-19': {'1. open': '118.0900',\n",
              "   '2. high': '118.4400',\n",
              "   '3. low': '116.9900',\n",
              "   '4. close': '117.6500',\n",
              "   '5. volume': '37588697'},\n",
              "  '2019-03-20': {'1. open': '117.3900',\n",
              "   '2. high': '118.7500',\n",
              "   '3. low': '116.7100',\n",
              "   '4. close': '117.5200',\n",
              "   '5. volume': '28113343'},\n",
              "  '2019-03-21': {'1. open': '117.1350',\n",
              "   '2. high': '120.8200',\n",
              "   '3. low': '117.0900',\n",
              "   '4. close': '120.2200',\n",
              "   '5. volume': '29854446'},\n",
              "  '2019-03-22': {'1. open': '119.5000',\n",
              "   '2. high': '119.5900',\n",
              "   '3. low': '117.0400',\n",
              "   '4. close': '117.0500',\n",
              "   '5. volume': '33624528'},\n",
              "  '2019-03-25': {'1. open': '116.5600',\n",
              "   '2. high': '118.0100',\n",
              "   '3. low': '116.3224',\n",
              "   '4. close': '117.6600',\n",
              "   '5. volume': '27067117'},\n",
              "  '2019-03-26': {'1. open': '118.6200',\n",
              "   '2. high': '118.7050',\n",
              "   '3. low': '116.8500',\n",
              "   '4. close': '117.9100',\n",
              "   '5. volume': '26097665'},\n",
              "  '2019-03-27': {'1. open': '117.8750',\n",
              "   '2. high': '118.2100',\n",
              "   '3. low': '115.5215',\n",
              "   '4. close': '116.7700',\n",
              "   '5. volume': '22733427'},\n",
              "  '2019-03-28': {'1. open': '117.4400',\n",
              "   '2. high': '117.5800',\n",
              "   '3. low': '116.1300',\n",
              "   '4. close': '116.9300',\n",
              "   '5. volume': '18334755'},\n",
              "  '2019-03-29': {'1. open': '118.0700',\n",
              "   '2. high': '118.3200',\n",
              "   '3. low': '116.9600',\n",
              "   '4. close': '117.9400',\n",
              "   '5. volume': '25399752'},\n",
              "  '2019-04-01': {'1. open': '118.9500',\n",
              "   '2. high': '119.1085',\n",
              "   '3. low': '118.1000',\n",
              "   '4. close': '119.0200',\n",
              "   '5. volume': '22789103'},\n",
              "  '2019-04-02': {'1. open': '119.0600',\n",
              "   '2. high': '119.4800',\n",
              "   '3. low': '118.5200',\n",
              "   '4. close': '119.1900',\n",
              "   '5. volume': '18142297'},\n",
              "  '2019-04-03': {'1. open': '119.8600',\n",
              "   '2. high': '120.4300',\n",
              "   '3. low': '119.1500',\n",
              "   '4. close': '119.9700',\n",
              "   '5. volume': '22860744'},\n",
              "  '2019-04-04': {'1. open': '120.1000',\n",
              "   '2. high': '120.2300',\n",
              "   '3. low': '118.3800',\n",
              "   '4. close': '119.3600',\n",
              "   '5. volume': '20112848'},\n",
              "  '2019-04-05': {'1. open': '119.3900',\n",
              "   '2. high': '120.2300',\n",
              "   '3. low': '119.3700',\n",
              "   '4. close': '119.8900',\n",
              "   '5. volume': '15826245'},\n",
              "  '2019-04-08': {'1. open': '119.8100',\n",
              "   '2. high': '120.0200',\n",
              "   '3. low': '118.6400',\n",
              "   '4. close': '119.9300',\n",
              "   '5. volume': '15116186'},\n",
              "  '2019-04-09': {'1. open': '118.6300',\n",
              "   '2. high': '119.5400',\n",
              "   '3. low': '118.5800',\n",
              "   '4. close': '119.2800',\n",
              "   '5. volume': '17611981'},\n",
              "  '2019-04-10': {'1. open': '119.7600',\n",
              "   '2. high': '120.3500',\n",
              "   '3. low': '119.5400',\n",
              "   '4. close': '120.1900',\n",
              "   '5. volume': '16477169'},\n",
              "  '2019-04-11': {'1. open': '120.5400',\n",
              "   '2. high': '120.8500',\n",
              "   '3. low': '119.9200',\n",
              "   '4. close': '120.3300',\n",
              "   '5. volume': '14209121'},\n",
              "  '2019-04-12': {'1. open': '120.6400',\n",
              "   '2. high': '120.9800',\n",
              "   '3. low': '120.3700',\n",
              "   '4. close': '120.9500',\n",
              "   '5. volume': '19745143'},\n",
              "  '2019-04-15': {'1. open': '120.9400',\n",
              "   '2. high': '121.5800',\n",
              "   '3. low': '120.5700',\n",
              "   '4. close': '121.0500',\n",
              "   '5. volume': '15792572'},\n",
              "  '2019-04-16': {'1. open': '121.6400',\n",
              "   '2. high': '121.6500',\n",
              "   '3. low': '120.1000',\n",
              "   '4. close': '120.7700',\n",
              "   '5. volume': '14071787'},\n",
              "  '2019-04-17': {'1. open': '121.2400',\n",
              "   '2. high': '121.8500',\n",
              "   '3. low': '120.5400',\n",
              "   '4. close': '121.7700',\n",
              "   '5. volume': '19300938'},\n",
              "  '2019-04-18': {'1. open': '122.1900',\n",
              "   '2. high': '123.5200',\n",
              "   '3. low': '121.3018',\n",
              "   '4. close': '123.3700',\n",
              "   '5. volume': '27990998'},\n",
              "  '2019-04-22': {'1. open': '122.6200',\n",
              "   '2. high': '124.0000',\n",
              "   '3. low': '122.5700',\n",
              "   '4. close': '123.7600',\n",
              "   '5. volume': '15648724'},\n",
              "  '2019-04-23': {'1. open': '124.1000',\n",
              "   '2. high': '125.5800',\n",
              "   '3. low': '123.8300',\n",
              "   '4. close': '125.4400',\n",
              "   '5. volume': '24025521'},\n",
              "  '2019-04-24': {'1. open': '125.7900',\n",
              "   '2. high': '125.8500',\n",
              "   '3. low': '124.5200',\n",
              "   '4. close': '125.0100',\n",
              "   '5. volume': '31256980'},\n",
              "  '2019-04-25': {'1. open': '130.0600',\n",
              "   '2. high': '131.3700',\n",
              "   '3. low': '128.8300',\n",
              "   '4. close': '129.1500',\n",
              "   '5. volume': '38033892'},\n",
              "  '2019-04-26': {'1. open': '129.7000',\n",
              "   '2. high': '130.5152',\n",
              "   '3. low': '129.0200',\n",
              "   '4. close': '129.8900',\n",
              "   '5. volume': '23654933'},\n",
              "  '2019-04-29': {'1. open': '129.9000',\n",
              "   '2. high': '130.1800',\n",
              "   '3. low': '129.3500',\n",
              "   '4. close': '129.7700',\n",
              "   '5. volume': '16324183'},\n",
              "  '2019-04-30': {'1. open': '129.8100',\n",
              "   '2. high': '130.7000',\n",
              "   '3. low': '129.3947',\n",
              "   '4. close': '130.6000',\n",
              "   '5. volume': '24166503'},\n",
              "  '2019-05-01': {'1. open': '130.5300',\n",
              "   '2. high': '130.6500',\n",
              "   '3. low': '127.7000',\n",
              "   '4. close': '127.8800',\n",
              "   '5. volume': '26821692'},\n",
              "  '2019-05-02': {'1. open': '127.9800',\n",
              "   '2. high': '128.0000',\n",
              "   '3. low': '125.5200',\n",
              "   '4. close': '126.2100',\n",
              "   '5. volume': '27350161'},\n",
              "  '2019-05-03': {'1. open': '127.3600',\n",
              "   '2. high': '129.4300',\n",
              "   '3. low': '127.2500',\n",
              "   '4. close': '128.9000',\n",
              "   '5. volume': '24911126'},\n",
              "  '2019-05-06': {'1. open': '126.3900',\n",
              "   '2. high': '128.5600',\n",
              "   '3. low': '126.1100',\n",
              "   '4. close': '128.1500',\n",
              "   '5. volume': '24239464'},\n",
              "  '2019-05-07': {'1. open': '126.4600',\n",
              "   '2. high': '127.1800',\n",
              "   '3. low': '124.2200',\n",
              "   '4. close': '125.5200',\n",
              "   '5. volume': '36017661'},\n",
              "  '2019-05-08': {'1. open': '125.4400',\n",
              "   '2. high': '126.3700',\n",
              "   '3. low': '124.7500',\n",
              "   '4. close': '125.5100',\n",
              "   '5. volume': '28418996'},\n",
              "  '2019-05-09': {'1. open': '124.2900',\n",
              "   '2. high': '125.7900',\n",
              "   '3. low': '123.5700',\n",
              "   '4. close': '125.5000',\n",
              "   '5. volume': '27235835'},\n",
              "  '2019-05-10': {'1. open': '124.9100',\n",
              "   '2. high': '127.9300',\n",
              "   '3. low': '123.8200',\n",
              "   '4. close': '127.1300',\n",
              "   '5. volume': '30915084'},\n",
              "  '2019-05-13': {'1. open': '124.1100',\n",
              "   '2. high': '125.5500',\n",
              "   '3. low': '123.0400',\n",
              "   '4. close': '123.3500',\n",
              "   '5. volume': '33944923'},\n",
              "  '2019-05-14': {'1. open': '123.8700',\n",
              "   '2. high': '125.8800',\n",
              "   '3. low': '123.7000',\n",
              "   '4. close': '124.7300',\n",
              "   '5. volume': '25266315'},\n",
              "  '2019-05-15': {'1. open': '124.2600',\n",
              "   '2. high': '126.7100',\n",
              "   '3. low': '123.7000',\n",
              "   '4. close': '126.0200',\n",
              "   '5. volume': '24722708'},\n",
              "  '2019-05-16': {'1. open': '126.7500',\n",
              "   '2. high': '129.3800',\n",
              "   '3. low': '126.4600',\n",
              "   '4. close': '128.9300',\n",
              "   '5. volume': '30112216'},\n",
              "  '2019-05-17': {'1. open': '128.3050',\n",
              "   '2. high': '130.4600',\n",
              "   '3. low': '127.9200',\n",
              "   '4. close': '128.0700',\n",
              "   '5. volume': '25770539'},\n",
              "  '2019-05-20': {'1. open': '126.5200',\n",
              "   '2. high': '127.5894',\n",
              "   '3. low': '125.7607',\n",
              "   '4. close': '126.2200',\n",
              "   '5. volume': '23706934'},\n",
              "  '2019-05-21': {'1. open': '127.4300',\n",
              "   '2. high': '127.5273',\n",
              "   '3. low': '126.5800',\n",
              "   '4. close': '126.9000',\n",
              "   '5. volume': '15293260'},\n",
              "  '2019-05-22': {'1. open': '126.6200',\n",
              "   '2. high': '128.2400',\n",
              "   '3. low': '126.5200',\n",
              "   '4. close': '127.6700',\n",
              "   '5. volume': '15396485'},\n",
              "  '2019-05-23': {'1. open': '126.2000',\n",
              "   '2. high': '126.2900',\n",
              "   '3. low': '124.7400',\n",
              "   '4. close': '126.1800',\n",
              "   '5. volume': '23603810'},\n",
              "  '2019-05-24': {'1. open': '126.9100',\n",
              "   '2. high': '127.4150',\n",
              "   '3. low': '125.9700',\n",
              "   '4. close': '126.2400',\n",
              "   '5. volume': '14123358'},\n",
              "  '2019-05-28': {'1. open': '126.9800',\n",
              "   '2. high': '128.0000',\n",
              "   '3. low': '126.0500',\n",
              "   '4. close': '126.1600',\n",
              "   '5. volume': '23128359'},\n",
              "  '2019-05-29': {'1. open': '125.3800',\n",
              "   '2. high': '125.3900',\n",
              "   '3. low': '124.0400',\n",
              "   '4. close': '124.9400',\n",
              "   '5. volume': '22763140'},\n",
              "  '2019-05-30': {'1. open': '125.2600',\n",
              "   '2. high': '125.7600',\n",
              "   '3. low': '124.7800',\n",
              "   '4. close': '125.7300',\n",
              "   '5. volume': '16829613'},\n",
              "  '2019-05-31': {'1. open': '124.2300',\n",
              "   '2. high': '124.6150',\n",
              "   '3. low': '123.3200',\n",
              "   '4. close': '123.6800',\n",
              "   '5. volume': '26646769'},\n",
              "  '2019-06-03': {'1. open': '123.8500',\n",
              "   '2. high': '124.3700',\n",
              "   '3. low': '119.0100',\n",
              "   '4. close': '119.8400',\n",
              "   '5. volume': '37983637'},\n",
              "  '2019-06-04': {'1. open': '121.2800',\n",
              "   '2. high': '123.2800',\n",
              "   '3. low': '120.6522',\n",
              "   '4. close': '123.1600',\n",
              "   '5. volume': '29382642'},\n",
              "  '2019-06-05': {'1. open': '124.9500',\n",
              "   '2. high': '125.8700',\n",
              "   '3. low': '124.2100',\n",
              "   '4. close': '125.8300',\n",
              "   '5. volume': '24926140'},\n",
              "  '2019-06-06': {'1. open': '126.4400',\n",
              "   '2. high': '127.9700',\n",
              "   '3. low': '125.6000',\n",
              "   '4. close': '127.8200',\n",
              "   '5. volume': '21458961'},\n",
              "  '2019-06-07': {'1. open': '129.1900',\n",
              "   '2. high': '132.2500',\n",
              "   '3. low': '128.2600',\n",
              "   '4. close': '131.4000',\n",
              "   '5. volume': '33885588'},\n",
              "  '2019-06-10': {'1. open': '132.4000',\n",
              "   '2. high': '134.0800',\n",
              "   '3. low': '132.0000',\n",
              "   '4. close': '132.6000',\n",
              "   '5. volume': '26477098'},\n",
              "  '2019-06-11': {'1. open': '133.8800',\n",
              "   '2. high': '134.2400',\n",
              "   '3. low': '131.2757',\n",
              "   '4. close': '132.1000',\n",
              "   '5. volume': '23913731'},\n",
              "  '2019-06-12': {'1. open': '131.4000',\n",
              "   '2. high': '131.9700',\n",
              "   '3. low': '130.7100',\n",
              "   '4. close': '131.4900',\n",
              "   '5. volume': '17092464'},\n",
              "  '2019-06-13': {'1. open': '131.9800',\n",
              "   '2. high': '132.6700',\n",
              "   '3. low': '131.5600',\n",
              "   '4. close': '132.3200',\n",
              "   '5. volume': '17200848'},\n",
              "  '2019-06-14': {'1. open': '132.2600',\n",
              "   '2. high': '133.7900',\n",
              "   '3. low': '131.6400',\n",
              "   '4. close': '132.4500',\n",
              "   '5. volume': '17821703'},\n",
              "  '2019-06-17': {'1. open': '132.6300',\n",
              "   '2. high': '133.7300',\n",
              "   '3. low': '132.5300',\n",
              "   '4. close': '133.0500',\n",
              "   '5. volume': '8290390'}}}"
            ]
          },
          "metadata": {
            "tags": []
          },
          "execution_count": 45
        }
      ]
    },
    {
      "cell_type": "markdown",
      "metadata": {
        "id": "9e_8oIXr8QR4",
        "colab_type": "text"
      },
      "source": [
        "That's a lot. 100 days of data to be precise. What about today's opening price?"
      ]
    },
    {
      "cell_type": "code",
      "metadata": {
        "id": "B0eOys1F8U3C",
        "colab_type": "code",
        "outputId": "667c0774-3fa1-400d-f4e8-f88e912b6d2d",
        "colab": {
          "base_uri": "https://localhost:8080/",
          "height": 35
        }
      },
      "source": [
        "from datetime import datetime\n",
        "\n",
        "current = datetime.today().strftime('%Y-%m-%d')\n",
        "prices = response.json()\n",
        "prices['Time Series (Daily)'][current]['1. open']"
      ],
      "execution_count": 0,
      "outputs": [
        {
          "output_type": "execute_result",
          "data": {
            "text/plain": [
              "'132.6300'"
            ]
          },
          "metadata": {
            "tags": []
          },
          "execution_count": 49
        }
      ]
    },
    {
      "cell_type": "markdown",
      "metadata": {
        "id": "e-ufKeFroTl8",
        "colab_type": "text"
      },
      "source": [
        "We have the proper components ready to go for this example. Data storage via Excel. Connectivity over a RESTful API using requests. Lets tie it together."
      ]
    },
    {
      "cell_type": "markdown",
      "metadata": {
        "id": "Teea5iIXpsH6",
        "colab_type": "text"
      },
      "source": [
        "<br><br><font color=\"#B81590\">$$\\large-\\infty-$$</font><br><br>"
      ]
    },
    {
      "cell_type": "markdown",
      "metadata": {
        "id": "Cz0vLrKRoznG",
        "colab_type": "text"
      },
      "source": [
        "## Main Logic\n",
        "\n",
        "The main logic of the program is really what controls everything. It's the glue that brings your Lego pieces together. Don't be that guy. Don't use glue on your Lego pieces.\n",
        "\n",
        "First, we should move the components into functions."
      ]
    },
    {
      "cell_type": "code",
      "metadata": {
        "id": "lhzHyVicpiF-",
        "colab_type": "code",
        "colab": {}
      },
      "source": [
        "def get_stock_opening_price(symbol):\n",
        "    params = {'function': 'TIME_SERIES_DAILY',\n",
        "              'symbol': symbol,\n",
        "              'apikey': API_KEY}\n",
        "    response = requests.get('https://www.alphavantage.co/query', params=params)\n",
        "    response_json = response.json()\n",
        "    return response_json['Time Series (Daily)'][current]['1. open']\n",
        "\n",
        "def read_from_excel(filename):\n",
        "    return pd.read_excel(filename, sheet_name=None)"
      ],
      "execution_count": 0,
      "outputs": []
    },
    {
      "cell_type": "markdown",
      "metadata": {
        "id": "SmYPBT7jqW98",
        "colab_type": "text"
      },
      "source": [
        "Next, we will call `read_from_excel()` to get a `list`\n",
        " of stock symbols to query.\n"
      ]
    },
    {
      "cell_type": "code",
      "metadata": {
        "id": "4vFAClxBqmOo",
        "colab_type": "code",
        "outputId": "4d5622d3-e10b-41d4-f8ba-f127fb453c1f",
        "colab": {
          "base_uri": "https://localhost:8080/",
          "height": 104
        }
      },
      "source": [
        "data = read_from_excel('/content/Ticker Symbols.xlsx')\n",
        "dataframe = data['Stocks']\n",
        "for index, row in dataframe.iterrows():\n",
        "    dataframe.loc[index, \"Price\"] = get_stock_opening_price(row['Ticker'])\n",
        "print(dataframe)\n"
      ],
      "execution_count": 0,
      "outputs": [
        {
          "output_type": "stream",
          "text": [
            "  Ticker     Price\n",
            "0   NSIT   54.7000\n",
            "1   MSFT  132.6300\n",
            "2   CSCO   54.9900\n",
            "3   AAPL  192.9000\n"
          ],
          "name": "stdout"
        }
      ]
    },
    {
      "cell_type": "markdown",
      "metadata": {
        "id": "AjE5MFrVtSMo",
        "colab_type": "text"
      },
      "source": [
        "Finally, we should write the information back to the Excel file."
      ]
    },
    {
      "cell_type": "code",
      "metadata": {
        "id": "-_I-63l-0nIF",
        "colab_type": "code",
        "colab": {}
      },
      "source": [
        "with pd.ExcelWriter('/content/Ticker Symbols.xlsx') as writer:\n",
        "    dataframe.to_excel(writer, sheet_name='Stocks', index=False)"
      ],
      "execution_count": 0,
      "outputs": []
    },
    {
      "cell_type": "markdown",
      "metadata": {
        "id": "JkGmjztPps_2",
        "colab_type": "text"
      },
      "source": [
        "<br><br><font color=\"#B81590\">$$\\large-\\infty-$$</font><br><br>"
      ]
    },
    {
      "cell_type": "markdown",
      "metadata": {
        "id": "jl0d_TnCyY2S",
        "colab_type": "text"
      },
      "source": [
        "## Testing Frameworks\n",
        "\n",
        "Any application that is more than just a simple script should have some automatible testing associated to it.\n",
        "\n",
        "There are three main types of tests - unit, integration, and validation.\n",
        "\n",
        "> In computer programming, **unit testing** is a software testing method by which individual units of source code, sets of one or more computer program modules together with associated control data, usage procedures, and operating procedures, are tested to determine whether they are fit for use. - https://en.wikipedia.org/wiki/Unit_testing\n",
        "\n",
        "> **Integration testing** (sometimes called integration and testing, abbreviated I&T) is the phase in software testing in which individual software modules are combined and tested as a group. Integration testing is conducted to evaluate the compliance of a system or component with specified functional requirements. It occurs after unit testing and before validation testing. Integration testing takes as its input modules that have been unit tested, groups them in larger aggregates, applies tests defined in an integration test plan to those aggregates, and delivers as its output the integrated system ready for system testing. - https://en.wikipedia.org/wiki/Integration_testing\n",
        "\n",
        "> In software project management, software testing, and software engineering, **verification and validation** (V&V) is the process of checking that a software system meets specifications and that it fulfills its intended purpose. It may also be referred to as software quality control. It is normally the responsibility of software testers as part of the software development lifecycle. In simple terms, software verification is: \"Assuming we should build X, does our software achieve its goals without any bugs or gaps?\" On the other hand, software validation is: \"Was X what we should have built? Does X meet the high level requirements?\"- https://en.wikipedia.org/wiki/Software_verification_and_validation\n",
        "\n",
        "Today we will mostly discuss unit testing and touch on integration tests."
      ]
    },
    {
      "cell_type": "markdown",
      "metadata": {
        "id": "Zv-4MaXpzgJ6",
        "colab_type": "text"
      },
      "source": [
        "### Unit Testing\n",
        "\n",
        "Unit tests perform a test against a single piece of code. Each test case should be tested independently from other test cases."
      ]
    },
    {
      "cell_type": "code",
      "metadata": {
        "id": "j71srmahz9DN",
        "colab_type": "code",
        "colab": {}
      },
      "source": [
        "def add(a, b):\n",
        "    return a + b\n",
        "\n",
        "def subtract(a, b):\n",
        "    return a - b\n",
        "\n",
        "def multiply(a, b):\n",
        "    return a * b\n",
        "\n",
        "def divide(a, b):\n",
        "    return a / b"
      ],
      "execution_count": 0,
      "outputs": []
    },
    {
      "cell_type": "markdown",
      "metadata": {
        "id": "7PdSTsej0ENK",
        "colab_type": "text"
      },
      "source": [
        "The following class is using the built-in Python `unittest` module to perform unit tests against the functions."
      ]
    },
    {
      "cell_type": "code",
      "metadata": {
        "id": "kbX7cIzY00bP",
        "colab_type": "code",
        "outputId": "f9be84b9-7489-4562-9c11-49fb9bae4bce",
        "colab": {
          "base_uri": "https://localhost:8080/",
          "height": 121
        }
      },
      "source": [
        "import unittest\n",
        "\n",
        "class MasteryNotebook(unittest.TestCase):\n",
        "    def test_add(self):\n",
        "        self.assertEqual(add(1,2), 3)\n",
        "        self.assertEqual(add(0,1), 1)\n",
        "        self.assertEqual(add(-1,-1), -2)\n",
        "    def test_subtract(self):\n",
        "        self.assertEqual(subtract(2, 1), 1)\n",
        "        self.assertEqual(subtract(0, 1), -1)\n",
        "    def test_multiply(self):\n",
        "        self.assertEqual(multiply(2, 1), 2)\n",
        "        self.assertEqual(multiply(-1, 1), -1)        \n",
        "    def test_divide(self):\n",
        "        with self.assertRaises(ZeroDivisionError):\n",
        "            divide(1, 0)\n",
        "\n",
        "unittest.main(argv=[''], verbosity=1, exit=False)"
      ],
      "execution_count": 0,
      "outputs": [
        {
          "output_type": "stream",
          "text": [
            "....\n",
            "----------------------------------------------------------------------\n",
            "Ran 4 tests in 0.006s\n",
            "\n",
            "OK\n"
          ],
          "name": "stderr"
        },
        {
          "output_type": "execute_result",
          "data": {
            "text/plain": [
              "<unittest.main.TestProgram at 0x7f69daa4b160>"
            ]
          },
          "metadata": {
            "tags": []
          },
          "execution_count": 57
        }
      ]
    },
    {
      "cell_type": "markdown",
      "metadata": {
        "id": "UMUo1OT85vuu",
        "colab_type": "text"
      },
      "source": [
        "#### Mocks\n",
        "\n",
        "Remember, a unit test is meant to test an isolated piece of code. What if your unit test requires another source, such as a local database or network connection?\n",
        "\n",
        "> In object-oriented programming, **mock objects** are simulated objects that mimic the behavior of real objects in controlled ways, most often as part of a software testing initiative. - https://en.wikipedia.org/wiki/Mock_object\n",
        "\n",
        "Mocks go beyond the content of this course. But they allow you to simulate an external response in a controlled manner. In other words, the mock pretends to be what you want it to be (ex. database call).\n",
        "\n",
        "*Note:* [Some people](http://arlobelshee.com/tag/no-mocks/) don't like mocks and think it means there is room for improvement with code structure. I'm not opinionated here. Do what accomplishes your task."
      ]
    },
    {
      "cell_type": "markdown",
      "metadata": {
        "id": "YzXfo2NN7WjI",
        "colab_type": "text"
      },
      "source": [
        "### Integration Tests\n",
        "\n",
        "Integration testing is frequently accomplished using `tox`, which is a Python testing tool. You can also use a full Continuous Integration (CI) system such as TravisCI or Jenkins to run your tests. This is outside the scope of this presentation."
      ]
    },
    {
      "cell_type": "markdown",
      "metadata": {
        "id": "2sTNsPitTJyw",
        "colab_type": "text"
      },
      "source": [
        "### Coverage\n",
        "\n",
        "Code coverage means how many lines of code are actually tested. But does that mean that as long as a line of code is tested it is properly tested? No. In the unit test example above, the `test_divide()` test suite only tests for the exception. I'd argue the test suite doesn't fully cover all the cases it should test for. Design your unit tests as well as you can and build-out over time. They won't be perfect day one."
      ]
    },
    {
      "cell_type": "markdown",
      "metadata": {
        "id": "z0dOlXf5puBN",
        "colab_type": "text"
      },
      "source": [
        "<br><br><font color=\"#B81590\">$$\\large-\\infty-$$</font><br><br>"
      ]
    },
    {
      "cell_type": "markdown",
      "metadata": {
        "id": "dyovVB8dlsPi",
        "colab_type": "text"
      },
      "source": [
        "# Resources\n",
        "\n",
        "\n",
        "\n",
        "[wxPython](https://www.wxpython.org/)\n",
        "\n",
        "[Pandas](https://pandas.pydata.org/)\n",
        "\n",
        "[Python Context Managers and the \"with\" Statement](https://realpython.com/courses/python-context-managers-and-with-statement/)\n",
        "\n",
        "[Requests Library](https://2.python-requests.org/en/master/)\n",
        "\n",
        "[Getting Started With Testing in Python - Real Python](https://realpython.com/python-testing/)\n",
        "\n",
        "[Demystifying the Patch Function - Video](https://www.youtube.com/watch?v=ww1UsGZV8fQ)\n",
        "\n",
        "[Reading and Writing Files in Python](https://realpython.com/read-write-files-python/)"
      ]
    }
  ]
}