{
 "cells": [
  {
   "cell_type": "markdown",
   "metadata": {
    "colab_type": "text",
    "id": "bP1jDxWbAeRY"
   },
   "source": [
    "<center><img src=\"https://www.insight.com/content/dam/insight-web/logos/global-nav.svg\" width='400'></center>\n",
    "<br>\n",
    "<font color='#544640'>\n",
    "<center><i>Mastery 2019</i></center>\n",
    "<center><i>Scottsdale, Arizona</i></center></font>\n",
    "  \n",
    "  <br>\n",
    "<center><i><font color='#544640' size='1'>Authors: <br>\n",
    "  \n",
    "<centerKevin Breit</font></i></center>\n",
    "\n",
    "<center><i><font color='#B81590' size='1'>kevin.breit@insight.com</font></i></center><br>\n",
    "    \n",
    "<center><i><font color='#544640' size='1'>Victor Aranda</font></i></center>\n",
    "\n",
    "<center><i><font color='#B81590' size='1'>victor.aranda@insight.com</font></i></center>"
   ]
  },
  {
   "cell_type": "markdown",
   "metadata": {
    "colab_type": "text",
    "id": "1Thyqr35Eqee"
   },
   "source": [
    "<br><br><hr width='80%'><br><br>"
   ]
  },
  {
   "cell_type": "markdown",
   "metadata": {
    "colab_type": "text",
    "id": "Y7lZnf072Gfs"
   },
   "source": [
    "#  <font color=\"#D21087\">Introduction\n"
   ]
  },
  {
   "cell_type": "markdown",
   "metadata": {
    "colab_type": "text",
    "id": "JKj1HCVV3ifD"
   },
   "source": [
    "\n",
    "##  <font color=\"#D21087\">Objective of this Course\n",
    "\n",
    "* Introduce programming concepts via example and discussion\n",
    "* Provide resources for self-learning\n",
    "* Kick off your journey to becoming competent with scripting\n",
    "<br><br>\n",
    "\n",
    "##  <font color=\"#D21087\">Intended Audience\n",
    "\n",
    "This session is intended for beginners to programming and/or people who have never seen Python before. Please stop us and raise your hand if you feel we are going too quickly or want to spend additional time on a topic. \n",
    "\n",
    "<br>The content is the product of splitting up the Python course from Engineering Summit 2019, which compressed this material and several example Python applications into one hour. Due to feedback received, this course was created to address the different levels of familiarity within the teammates present and provide an opportunity for beginners to the language to be more gently introduced.\n",
    "<br><br>\n",
    "\n",
    "\n",
    "##  <font color=\"#D21087\">Why Program?\n",
    "* Develop new skillsets for personal improvement\n",
    "* Exercise mental muscles you don't normally use\n",
    "* Automate aspects of your job or life\n",
    "* Solve problems and scale solutions\n",
    "* Understand the future of infrastructure and IT\n",
    "<br><br>\n",
    "\n",
    "##  <font color=\"#D21087\">Nearly Universal\n",
    " \n",
    "What you learn in this Python session is readily transferable to other programming languages and if you have experience programming with another language, this will probably feel familiar. Each programming language looks a little different and has different rules, but languages tend to have a lot in common. You'll be learning about programming logic and the basic building blocks of the internal flow of a program.. these are concepts that once learned will be useful for you for the rest of your careers."
   ]
  },
  {
   "cell_type": "markdown",
   "metadata": {
    "colab_type": "text",
    "id": "oMrs26WjEryp"
   },
   "source": [
    "<br><br><hr width='80%'><br><br>\n",
    "\n",
    "#  <font color=\"#D21087\">Python"
   ]
  },
  {
   "cell_type": "markdown",
   "metadata": {
    "colab_type": "text",
    "id": "RpfvT2GI3UZn"
   },
   "source": [
    "<center><img src=\"https://www.python.org/static/community_logos/python-logo-master-v3-TM.png\" width='400'></center>\n"
   ]
  },
  {
   "cell_type": "markdown",
   "metadata": {
    "colab_type": "text",
    "id": "k96bf-Y9CQ2e"
   },
   "source": [
    "Python is one of the most flexible and widely-used languages in the world as of 2019. It had it's earliest beginnings in the 1980s and steadily grew more popular through the 90s and 00s. On top of its inherent flexibility, there are countless mature and well-supported open-source libraries to do just about anything.\n",
    "\n",
    "\n",
    "<br>Read more [here](https://en.wikipedia.org/wiki/Python_(programming_language)) at the Wiki page.\n"
   ]
  },
  {
   "cell_type": "markdown",
   "metadata": {
    "colab_type": "text",
    "id": "86kD6naiCLuv"
   },
   "source": [
    "##  <font color=\"#D21087\">Python 2 vs. Python3\n"
   ]
  },
  {
   "cell_type": "markdown",
   "metadata": {
    "colab_type": "text",
    "id": "wejdkVteCOEX"
   },
   "source": [
    "<br>A quick note: there are currently two major Python versions - Version 2 and Version 3. Python 2 is going end of support in January of 2020 but will likely be in use in legacy environments for some time.\n",
    "\n",
    "<br>Version 2 is very common and default on macOS (up until 10.13 at least). You may already have this installed on your device(s) by default. <u>Python version 3 is preferred</u>. We will talk later about how to manage your python installations and environment.\n",
    "\n",
    "<br>There are significant and fundamental differences between these two versions of Python which are beyond the scope of this course, but even basic code has slight differences between the versions. For example, Python 2 prints like this:\n",
    "\n",
    "> `print \"Hello World\"`\n",
    "\n",
    "and Python 3 prints like this:\n",
    "\n",
    "> `print(\"Hello World\")`\n",
    "\n",
    "<br>When you are searching for the answer to a question or the solution to a problem in your code, make sure to determine whether the solution is written in Python2. Sometimes just updating the print commands will make the code compliant with Python3 so old posts on StackExchange or elsewhere, for example, can still work perfectly well once adapted. Read more [here](https://wiki.python.org/moin/Python2orPython3).\n",
    "\n",
    "<br>**TLDR;** Use Python 3.\n",
    "\n",
    "\n"
   ]
  },
  {
   "cell_type": "markdown",
   "metadata": {
    "colab_type": "text",
    "id": "RPY_wOTCmRV3"
   },
   "source": [
    "<br><br><hr width='80%'><br><br>\n",
    "\n",
    "#  <font color=\"#D21087\">Fundamental Data Structures\n",
    "\n",
    "\n",
    "\n"
   ]
  },
  {
   "cell_type": "markdown",
   "metadata": {
    "colab_type": "text",
    "id": "Fl2RYmp_4Iu0"
   },
   "source": [
    "##  <font color=\"#D21087\">Variables"
   ]
  },
  {
   "cell_type": "markdown",
   "metadata": {
    "colab_type": "text",
    "id": "gx1FVjGYwdjk"
   },
   "source": [
    "\n",
    "Variables reference information stored in memory.\n",
    "\n",
    "\n",
    "Just like in algebra:\n",
    "\n",
    "\n",
    "$~~~~~~~~~~x = 4$\n",
    "\n",
    "$~~~~~~~~~~y = x + 3$\n",
    "\n",
    "...now we know what $x$ is, we can infer what $y$ is...\n",
    "\n",
    "$~~~~~~~~~~y = x + 3 = 4 + 3$"
   ]
  },
  {
   "cell_type": "code",
   "execution_count": 0,
   "metadata": {
    "colab": {
     "base_uri": "https://localhost:8080/",
     "height": 34
    },
    "colab_type": "code",
    "executionInfo": {
     "elapsed": 316,
     "status": "ok",
     "timestamp": 1565300241456,
     "user": {
      "displayName": "Victor Aranda",
      "photoUrl": "https://lh6.googleusercontent.com/-3IsrT71qswc/AAAAAAAAAAI/AAAAAAAAB4U/5w_yClK4eWI/s64/photo.jpg",
      "userId": "00841928612155834879"
     },
     "user_tz": 420
    },
    "id": "kVFWHpN8_0qf",
    "outputId": "1228be4b-0cdd-4cbe-8a58-960fe0802fa9"
   },
   "outputs": [
    {
     "name": "stdout",
     "output_type": "stream",
     "text": [
      "7\n"
     ]
    }
   ],
   "source": [
    "x = 4\n",
    "\n",
    "y = x + 3\n",
    "\n",
    "print(y)"
   ]
  },
  {
   "cell_type": "markdown",
   "metadata": {
    "colab_type": "text",
    "id": "487b2C6T_W__"
   },
   "source": [
    "<br>One of the most fundamental parts of programming is using variables to store data that you need to accomplish a task.\n",
    "\n",
    "<br>In most languages, including Python, a variable has a `type`.  The `type` can be a variety of things:\n",
    "\n",
    "* integer number (aka. a whole number)\n",
    "  * `integer32`\n",
    "  * `integer64`\n",
    "* float number (aka. a decimal number)\n",
    "  * `float32`\n",
    "  * `float64`\n",
    "* text (aka. `string`)\n",
    "* `Bool` (true/false)\n",
    "* Other\n",
    "  * Lists\n",
    "  * Dictionaries\n",
    "  * Arrays\n",
    "  * Sets\n",
    "  * Tuples\n",
    "  * Other 'primitives' \n",
    "  * (Data structures...don't worry, more later)\n",
    "* Objects of classes (user-defined or imported modules) \n",
    "\n",
    "<br>Here are a couple of examples:"
   ]
  },
  {
   "cell_type": "code",
   "execution_count": 1,
   "metadata": {
    "colab": {
     "base_uri": "https://localhost:8080/",
     "height": 34
    },
    "colab_type": "code",
    "executionInfo": {
     "elapsed": 430,
     "status": "ok",
     "timestamp": 1565313153472,
     "user": {
      "displayName": "Victor Aranda",
      "photoUrl": "https://lh6.googleusercontent.com/-3IsrT71qswc/AAAAAAAAAAI/AAAAAAAAB4U/5w_yClK4eWI/s64/photo.jpg",
      "userId": "00841928612155834879"
     },
     "user_tz": 420
    },
    "id": "VJTjLC60gBWR",
    "outputId": "7aa3dbc8-4075-4bdb-a617-04af1ec12f73"
   },
   "outputs": [
    {
     "name": "stdout",
     "output_type": "stream",
     "text": [
      "Thanks for attending today's session.\n"
     ]
    }
   ],
   "source": [
    "my_string = \"Thanks for attending today's session.\"\n",
    "print(my_string)"
   ]
  },
  {
   "cell_type": "code",
   "execution_count": 2,
   "metadata": {
    "colab": {
     "base_uri": "https://localhost:8080/",
     "height": 34
    },
    "colab_type": "code",
    "executionInfo": {
     "elapsed": 649,
     "status": "ok",
     "timestamp": 1565313153704,
     "user": {
      "displayName": "Victor Aranda",
      "photoUrl": "https://lh6.googleusercontent.com/-3IsrT71qswc/AAAAAAAAAAI/AAAAAAAAB4U/5w_yClK4eWI/s64/photo.jpg",
      "userId": "00841928612155834879"
     },
     "user_tz": 420
    },
    "id": "uQ967HlFR7K7",
    "outputId": "fa888781-6b38-4da4-a011-324d10f1aa66"
   },
   "outputs": [
    {
     "name": "stdout",
     "output_type": "stream",
     "text": [
      "42\n"
     ]
    }
   ],
   "source": [
    "my_number = 42\n",
    "print(my_number)"
   ]
  },
  {
   "cell_type": "markdown",
   "metadata": {
    "colab_type": "text",
    "id": "8AsyD6rP4MNb"
   },
   "source": [
    "##  <font color=\"#D21087\">Variable Types"
   ]
  },
  {
   "cell_type": "markdown",
   "metadata": {
    "colab_type": "text",
    "id": "mSIDr5zHeF3m"
   },
   "source": [
    "<br>In Python, the type of a variable is actually dynamically assigned. We call this being \"dynamically typed'. That means that in Python, a variable's type can change after it has been created. This is a powerful flexibility that can sometimes trip up experienced programmers from other more strict languages; ones which are statically typed (the type has to be explicitly stated when each variable is created, and cannot change afterward).\n",
    "\n",
    "\n",
    "<br>Generally Python is also a 'strongly typed' language *for the most part*. In computer science lingo, 'Strongly Typed' means that the language's interpreter (or compiler) will not automatically change variable types for you without you explicitly telling it to do so.\n",
    "Python has a `type()` built-in function which returns the type of whatever variable you pass to it.\n",
    "\n",
    "<br>For example:\n"
   ]
  },
  {
   "cell_type": "code",
   "execution_count": 0,
   "metadata": {
    "colab": {
     "base_uri": "https://localhost:8080/",
     "height": 34
    },
    "colab_type": "code",
    "executionInfo": {
     "elapsed": 358,
     "status": "ok",
     "timestamp": 1565300242586,
     "user": {
      "displayName": "Victor Aranda",
      "photoUrl": "https://lh6.googleusercontent.com/-3IsrT71qswc/AAAAAAAAAAI/AAAAAAAAB4U/5w_yClK4eWI/s64/photo.jpg",
      "userId": "00841928612155834879"
     },
     "user_tz": 420
    },
    "id": "3nzB0PtzGSxo",
    "outputId": "67860118-c555-4424-9469-fb60513a2982"
   },
   "outputs": [
    {
     "name": "stdout",
     "output_type": "stream",
     "text": [
      "<class 'str'>\n"
     ]
    }
   ],
   "source": [
    "print(type(my_string))"
   ]
  },
  {
   "cell_type": "code",
   "execution_count": 0,
   "metadata": {
    "colab": {
     "base_uri": "https://localhost:8080/",
     "height": 34
    },
    "colab_type": "code",
    "executionInfo": {
     "elapsed": 492,
     "status": "ok",
     "timestamp": 1565300242840,
     "user": {
      "displayName": "Victor Aranda",
      "photoUrl": "https://lh6.googleusercontent.com/-3IsrT71qswc/AAAAAAAAAAI/AAAAAAAAB4U/5w_yClK4eWI/s64/photo.jpg",
      "userId": "00841928612155834879"
     },
     "user_tz": 420
    },
    "id": "IIsGJMTRSCM6",
    "outputId": "b07f2f6f-47a5-4e90-ea1b-e9a012f71615"
   },
   "outputs": [
    {
     "name": "stdout",
     "output_type": "stream",
     "text": [
      "<class 'int'>\n"
     ]
    }
   ],
   "source": [
    "print(type(my_number))"
   ]
  },
  {
   "cell_type": "markdown",
   "metadata": {
    "colab_type": "text",
    "id": "KBAGeQ66eMoK"
   },
   "source": [
    "<br>Knowing the type of an object in your code at any given point of code execution is important - because it dictates the behavior of your code! You should think of this as a head chef knowing what is in a given mixing bowl during the flow of a kitchen's bustle and food prep line. Making the incorrect assumption will cause problems.\n"
   ]
  },
  {
   "cell_type": "markdown",
   "metadata": {
    "colab_type": "text",
    "id": "SWmmIhsFXP4y"
   },
   "source": [
    "<br>Adding a number to another number is not a problem:"
   ]
  },
  {
   "cell_type": "code",
   "execution_count": 0,
   "metadata": {
    "colab": {
     "base_uri": "https://localhost:8080/",
     "height": 34
    },
    "colab_type": "code",
    "executionInfo": {
     "elapsed": 376,
     "status": "ok",
     "timestamp": 1565300243193,
     "user": {
      "displayName": "Victor Aranda",
      "photoUrl": "https://lh6.googleusercontent.com/-3IsrT71qswc/AAAAAAAAAAI/AAAAAAAAB4U/5w_yClK4eWI/s64/photo.jpg",
      "userId": "00841928612155834879"
     },
     "user_tz": 420
    },
    "id": "k0LUx0jeGusI",
    "outputId": "6e4f6e9c-497c-4e1c-a500-823fe41abb65"
   },
   "outputs": [
    {
     "name": "stdout",
     "output_type": "stream",
     "text": [
      "542\n"
     ]
    }
   ],
   "source": [
    "my_number = my_number + 500\n",
    "print(my_number)"
   ]
  },
  {
   "cell_type": "markdown",
   "metadata": {
    "colab_type": "text",
    "id": "CnTe9RjQxDdq"
   },
   "source": [
    "<br>But what happens if you add an integer to a string?"
   ]
  },
  {
   "cell_type": "code",
   "execution_count": 0,
   "metadata": {
    "colab": {
     "base_uri": "https://localhost:8080/",
     "height": 232
    },
    "colab_type": "code",
    "executionInfo": {
     "elapsed": 272,
     "status": "error",
     "timestamp": 1565300243392,
     "user": {
      "displayName": "Victor Aranda",
      "photoUrl": "https://lh6.googleusercontent.com/-3IsrT71qswc/AAAAAAAAAAI/AAAAAAAAB4U/5w_yClK4eWI/s64/photo.jpg",
      "userId": "00841928612155834879"
     },
     "user_tz": 420
    },
    "id": "LMQyk3L5Wo88",
    "outputId": "813ac60b-a6f8-4733-f1b0-e0b1190968af"
   },
   "outputs": [
    {
     "ename": "TypeError",
     "evalue": "ignored",
     "output_type": "error",
     "traceback": [
      "\u001b[0;31m---------------------------------------------------------------------------\u001b[0m",
      "\u001b[0;31mTypeError\u001b[0m                                 Traceback (most recent call last)",
      "\u001b[0;32m<ipython-input-9-65047ad8c2c9>\u001b[0m in \u001b[0;36m<module>\u001b[0;34m()\u001b[0m\n\u001b[1;32m      4\u001b[0m \u001b[0;34m\u001b[0m\u001b[0m\n\u001b[1;32m      5\u001b[0m \u001b[0;31m# ERROR!\u001b[0m\u001b[0;34m\u001b[0m\u001b[0;34m\u001b[0m\u001b[0;34m\u001b[0m\u001b[0m\n\u001b[0;32m----> 6\u001b[0;31m \u001b[0mmy_string\u001b[0m \u001b[0;34m=\u001b[0m \u001b[0mmy_string\u001b[0m \u001b[0;34m+\u001b[0m \u001b[0mmy_additional_stuff\u001b[0m\u001b[0;34m\u001b[0m\u001b[0;34m\u001b[0m\u001b[0m\n\u001b[0m\u001b[1;32m      7\u001b[0m \u001b[0;34m\u001b[0m\u001b[0m\n\u001b[1;32m      8\u001b[0m \u001b[0mprint\u001b[0m\u001b[0;34m(\u001b[0m\u001b[0mmy_string\u001b[0m\u001b[0;34m)\u001b[0m\u001b[0;34m\u001b[0m\u001b[0;34m\u001b[0m\u001b[0m\n",
      "\u001b[0;31mTypeError\u001b[0m: must be str, not int"
     ]
    }
   ],
   "source": [
    "my_string = \"Thanks for attending today's session.\"\n",
    "\n",
    "my_additional_stuff = 500\n",
    "\n",
    "# ERROR!\n",
    "my_string = my_string + my_additional_stuff\n",
    "\n",
    "print(my_string)\n"
   ]
  },
  {
   "cell_type": "markdown",
   "metadata": {
    "colab_type": "text",
    "id": "FUkI3mcWfLOz"
   },
   "source": [
    "<br>This `TypeError` is Python telling you that the thing being added to `my_string` needs to be a string, not an integer.\n",
    "\n",
    "<br>Great reference for the built-in Exceptions: https://docs.python.org/3/library/exceptions.html\n",
    "\n",
    "<br>For the sake of example, let us assume that what we wanted to do was to concatenate (append) the contents of `my_additional_stuff` to `my_string`. We can circumvent this error by 'converting' the appended variable to a string. (Assuming that the object in question can in fact be converted to a string!)\n",
    "\n",
    "<br>This boils down to Python interpreting  `my_additional_stuff` as an integer because we did not surround the value 500 with single quotation marks (or double quotation marks, if you're a heathen). Had we done so, it would work."
   ]
  },
  {
   "cell_type": "code",
   "execution_count": 0,
   "metadata": {
    "colab": {
     "base_uri": "https://localhost:8080/",
     "height": 34
    },
    "colab_type": "code",
    "executionInfo": {
     "elapsed": 347,
     "status": "ok",
     "timestamp": 1565300243798,
     "user": {
      "displayName": "Victor Aranda",
      "photoUrl": "https://lh6.googleusercontent.com/-3IsrT71qswc/AAAAAAAAAAI/AAAAAAAAB4U/5w_yClK4eWI/s64/photo.jpg",
      "userId": "00841928612155834879"
     },
     "user_tz": 420
    },
    "id": "ErtEbqk2WOw2",
    "outputId": "5861218d-2c6f-4e1b-b3de-d9a631ca8b0b"
   },
   "outputs": [
    {
     "name": "stdout",
     "output_type": "stream",
     "text": [
      "Thanks for attending today's session.500\n"
     ]
    }
   ],
   "source": [
    "my_string = \"Thanks for attending today's session.\"\n",
    "my_additional_stuff = 500\n",
    "\n",
    "# this works now. why?\n",
    "my_string = my_string + str(my_additional_stuff)\n",
    "\n",
    "print(my_string)"
   ]
  },
  {
   "cell_type": "markdown",
   "metadata": {
    "colab_type": "text",
    "id": "MXZK1cFjV5lz"
   },
   "source": [
    "<br>Note that sometimes Errors come up as part of normal program flow. You can treat these errors properly instead of letting your program crash using `try` and `except`. This is called \"exception handling\". This is an intermediate topic, but is worth mentioning!\n",
    "\n",
    "<br>Handy reference: https://wiki.python.org/moin/HandlingExceptions"
   ]
  },
  {
   "cell_type": "code",
   "execution_count": 0,
   "metadata": {
    "colab": {
     "base_uri": "https://localhost:8080/",
     "height": 68
    },
    "colab_type": "code",
    "executionInfo": {
     "elapsed": 472,
     "status": "ok",
     "timestamp": 1565300244226,
     "user": {
      "displayName": "Victor Aranda",
      "photoUrl": "https://lh6.googleusercontent.com/-3IsrT71qswc/AAAAAAAAAAI/AAAAAAAAB4U/5w_yClK4eWI/s64/photo.jpg",
      "userId": "00841928612155834879"
     },
     "user_tz": 420
    },
    "id": "D0_3rxAde7zX",
    "outputId": "eea911bd-3913-4126-e77d-5bfeb7cf830c"
   },
   "outputs": [
    {
     "name": "stdout",
     "output_type": "stream",
     "text": [
      "You have a TypeError!\n",
      "But your program doesn't crash anymore.\n",
      "So you have that going for you. Which is nice.\n"
     ]
    }
   ],
   "source": [
    "try:\n",
    "    my_string = my_string + 500\n",
    "    print(my_string)\n",
    "    \n",
    "except TypeError:\n",
    "    print('You have a TypeError!')\n",
    "    print(\"But your program doesn't crash anymore.\")\n",
    "    print('So you have that going for you. Which is nice.')\n"
   ]
  },
  {
   "cell_type": "markdown",
   "metadata": {
    "colab_type": "text",
    "id": "R7qCb7AHXV5Y"
   },
   "source": [
    "<br>If we know that `my_number` is an integer... what happens if we add a decimal number to it (a float variable)?\n"
   ]
  },
  {
   "cell_type": "code",
   "execution_count": 0,
   "metadata": {
    "colab": {
     "base_uri": "https://localhost:8080/",
     "height": 68
    },
    "colab_type": "code",
    "executionInfo": {
     "elapsed": 369,
     "status": "ok",
     "timestamp": 1565300244443,
     "user": {
      "displayName": "Victor Aranda",
      "photoUrl": "https://lh6.googleusercontent.com/-3IsrT71qswc/AAAAAAAAAAI/AAAAAAAAB4U/5w_yClK4eWI/s64/photo.jpg",
      "userId": "00841928612155834879"
     },
     "user_tz": 420
    },
    "id": "oGOieZ9rggTG",
    "outputId": "96931cb2-9dac-4b25-cb6b-48f6e7894065"
   },
   "outputs": [
    {
     "name": "stdout",
     "output_type": "stream",
     "text": [
      "<class 'int'>\n",
      "43.5\n",
      "<class 'float'>\n"
     ]
    }
   ],
   "source": [
    "my_number = 42\n",
    "\n",
    "print(type(my_number))\n",
    "\n",
    "# Python will detect that the 1.5 is a float, and will automatically \n",
    "# change the type of my_number to accommodate\n",
    "my_number = my_number + 1.5\n",
    "\n",
    "print(my_number)\n",
    "\n",
    "print(type(my_number))"
   ]
  },
  {
   "cell_type": "markdown",
   "metadata": {
    "colab_type": "text",
    "id": "88XrwPhmr-wR"
   },
   "source": [
    "<br>This is what we were referring to earlier when we said that Python is strongly typed *for the most part*. In some cases, like this, Python will make the assumption that by adding an integer and a float, you are accepting that the resulting value will be a float.\n",
    "\n",
    "<br>But what happens if we make that decimal/float variable back into an integer?"
   ]
  },
  {
   "cell_type": "code",
   "execution_count": 0,
   "metadata": {
    "colab": {
     "base_uri": "https://localhost:8080/",
     "height": 34
    },
    "colab_type": "code",
    "executionInfo": {
     "elapsed": 275,
     "status": "ok",
     "timestamp": 1565300246580,
     "user": {
      "displayName": "Victor Aranda",
      "photoUrl": "https://lh6.googleusercontent.com/-3IsrT71qswc/AAAAAAAAAAI/AAAAAAAAB4U/5w_yClK4eWI/s64/photo.jpg",
      "userId": "00841928612155834879"
     },
     "user_tz": 420
    },
    "id": "B8xBMqV1sboa",
    "outputId": "dde716b7-237b-4234-f8bc-4b1c77d2b5bd"
   },
   "outputs": [
    {
     "name": "stdout",
     "output_type": "stream",
     "text": [
      "43\n"
     ]
    }
   ],
   "source": [
    "print(int(my_number))"
   ]
  },
  {
   "cell_type": "markdown",
   "metadata": {
    "colab_type": "text",
    "id": "OqXds-Sk4TC6"
   },
   "source": [
    "##  <font color=\"#D21087\">More on Strings"
   ]
  },
  {
   "cell_type": "markdown",
   "metadata": {
    "colab_type": "text",
    "id": "QHxLgIz_jikS"
   },
   "source": [
    "<br>Strings are very useful and are a backbone of any programming language. Python is no different, and in fact, is a language particularly well-suited string manipulation. Its `string` class is very powerful.\n",
    "\n",
    "<br>Strings in Python have many buit-in functions that are good to know. Among them:\n",
    "\n",
    ">`.split()`<br>\n",
    "`.strip()`<br>\n",
    "`.upper()`<br>\n",
    "`.lower()`<br>\n",
    "`.replace()`<br>\n",
    "`.join()`<br>\n",
    "\n",
    "<br>There are many more documented [here](https://docs.python.org/2.6/library/string.html).  We encourage you to play around and experiment! See also:\n",
    "\n",
    "* https://docs.python.org/3/faq/programming.html#numbers-and-strings\n",
    "* https://docs.python.org/3/library/string.html</font>"
   ]
  },
  {
   "cell_type": "code",
   "execution_count": 0,
   "metadata": {
    "colab": {},
    "colab_type": "code",
    "id": "v1Mou8c1k4Jx"
   },
   "outputs": [],
   "source": [
    "words = 'These are some words.  '"
   ]
  },
  {
   "cell_type": "code",
   "execution_count": 5,
   "metadata": {
    "colab": {
     "base_uri": "https://localhost:8080/",
     "height": 34
    },
    "colab_type": "code",
    "executionInfo": {
     "elapsed": 254,
     "status": "ok",
     "timestamp": 1565313321592,
     "user": {
      "displayName": "Victor Aranda",
      "photoUrl": "https://lh6.googleusercontent.com/-3IsrT71qswc/AAAAAAAAAAI/AAAAAAAAB4U/5w_yClK4eWI/s64/photo.jpg",
      "userId": "00841928612155834879"
     },
     "user_tz": 420
    },
    "id": "ZpPeSZo48MQG",
    "outputId": "aebc7883-4527-4cd7-acab-75b335100f44"
   },
   "outputs": [
    {
     "data": {
      "text/plain": [
       "['These', 'are', 'some', 'words.', '', '']"
      ]
     },
     "execution_count": 5,
     "metadata": {
      "tags": []
     },
     "output_type": "execute_result"
    }
   ],
   "source": [
    "# split by spaces (or specified character), returns a list\n",
    "words.split(' ')"
   ]
  },
  {
   "cell_type": "code",
   "execution_count": 6,
   "metadata": {
    "colab": {
     "base_uri": "https://localhost:8080/",
     "height": 34
    },
    "colab_type": "code",
    "executionInfo": {
     "elapsed": 297,
     "status": "ok",
     "timestamp": 1565313321809,
     "user": {
      "displayName": "Victor Aranda",
      "photoUrl": "https://lh6.googleusercontent.com/-3IsrT71qswc/AAAAAAAAAAI/AAAAAAAAB4U/5w_yClK4eWI/s64/photo.jpg",
      "userId": "00841928612155834879"
     },
     "user_tz": 420
    },
    "id": "rmp8Vx-slA0Z",
    "outputId": "d7f82d87-307f-4055-c69c-99469d2071eb"
   },
   "outputs": [
    {
     "data": {
      "text/plain": [
       "'THESE ARE SOME WORDS.  '"
      ]
     },
     "execution_count": 6,
     "metadata": {
      "tags": []
     },
     "output_type": "execute_result"
    }
   ],
   "source": [
    "# make all uppercase\n",
    "words.upper()"
   ]
  },
  {
   "cell_type": "code",
   "execution_count": 7,
   "metadata": {
    "colab": {
     "base_uri": "https://localhost:8080/",
     "height": 34
    },
    "colab_type": "code",
    "executionInfo": {
     "elapsed": 712,
     "status": "ok",
     "timestamp": 1565313322381,
     "user": {
      "displayName": "Victor Aranda",
      "photoUrl": "https://lh6.googleusercontent.com/-3IsrT71qswc/AAAAAAAAAAI/AAAAAAAAB4U/5w_yClK4eWI/s64/photo.jpg",
      "userId": "00841928612155834879"
     },
     "user_tz": 420
    },
    "id": "yomHNPczm307",
    "outputId": "6050b710-2ffe-4575-b8aa-50912d7baa82"
   },
   "outputs": [
    {
     "data": {
      "text/plain": [
       "'these are some words.  '"
      ]
     },
     "execution_count": 7,
     "metadata": {
      "tags": []
     },
     "output_type": "execute_result"
    }
   ],
   "source": [
    "# make all lowercase\n",
    "words.lower()"
   ]
  },
  {
   "cell_type": "code",
   "execution_count": 8,
   "metadata": {
    "colab": {
     "base_uri": "https://localhost:8080/",
     "height": 34
    },
    "colab_type": "code",
    "executionInfo": {
     "elapsed": 611,
     "status": "ok",
     "timestamp": 1565313322382,
     "user": {
      "displayName": "Victor Aranda",
      "photoUrl": "https://lh6.googleusercontent.com/-3IsrT71qswc/AAAAAAAAAAI/AAAAAAAAB4U/5w_yClK4eWI/s64/photo.jpg",
      "userId": "00841928612155834879"
     },
     "user_tz": 420
    },
    "id": "8rk_ckW5m81A",
    "outputId": "50cfc624-96d4-4fb6-99eb-98e1df5cea0e"
   },
   "outputs": [
    {
     "data": {
      "text/plain": [
       "'These are some words.'"
      ]
     },
     "execution_count": 8,
     "metadata": {
      "tags": []
     },
     "output_type": "execute_result"
    }
   ],
   "source": [
    "# strip leading or trailing spaces (or specified character)\n",
    "words.strip(' ')"
   ]
  },
  {
   "cell_type": "code",
   "execution_count": 9,
   "metadata": {
    "colab": {
     "base_uri": "https://localhost:8080/",
     "height": 34
    },
    "colab_type": "code",
    "executionInfo": {
     "elapsed": 477,
     "status": "ok",
     "timestamp": 1565313322383,
     "user": {
      "displayName": "Victor Aranda",
      "photoUrl": "https://lh6.googleusercontent.com/-3IsrT71qswc/AAAAAAAAAAI/AAAAAAAAB4U/5w_yClK4eWI/s64/photo.jpg",
      "userId": "00841928612155834879"
     },
     "user_tz": 420
    },
    "id": "PO01S0F6nB4A",
    "outputId": "47c251a3-08f0-416c-9468-89e51c870651"
   },
   "outputs": [
    {
     "data": {
      "text/plain": [
       "'Here are some words.  '"
      ]
     },
     "execution_count": 9,
     "metadata": {
      "tags": []
     },
     "output_type": "execute_result"
    }
   ],
   "source": [
    "# replace a word with another word\n",
    "words.replace('These', 'Here')"
   ]
  },
  {
   "cell_type": "code",
   "execution_count": 11,
   "metadata": {
    "colab": {
     "base_uri": "https://localhost:8080/",
     "height": 85
    },
    "colab_type": "code",
    "executionInfo": {
     "elapsed": 373,
     "status": "ok",
     "timestamp": 1565313359995,
     "user": {
      "displayName": "Victor Aranda",
      "photoUrl": "https://lh6.googleusercontent.com/-3IsrT71qswc/AAAAAAAAAAI/AAAAAAAAB4U/5w_yClK4eWI/s64/photo.jpg",
      "userId": "00841928612155834879"
     },
     "user_tz": 420
    },
    "id": "gldFTHDWkgfj",
    "outputId": "5d7a97cf-7fe3-4a1a-83dd-d9065b16b4fc"
   },
   "outputs": [
    {
     "name": "stdout",
     "output_type": "stream",
     "text": [
      "abcdefghijklmnopqrstuvwxyz\n",
      "0123456789\n",
      "abcdefghijklmnopqrstuvwxyzABCDEFGHIJKLMNOPQRSTUVWXYZ\n",
      "!\"#$%&'()*+,-./:;<=>?@[\\]^_`{|}~\n"
     ]
    }
   ],
   "source": [
    "# in order to use the string class' constant variables, like the set of all \n",
    "# lowercase letters, we have to import the module like so:\n",
    "\n",
    "import string\n",
    "\n",
    "# these come in handy when filtering or checking strings, sentences, etc\n",
    "print(string.ascii_lowercase)\n",
    "print(string.digits)\n",
    "print(string.ascii_letters)\n",
    "print(string.punctuation)"
   ]
  },
  {
   "cell_type": "markdown",
   "metadata": {
    "colab_type": "text",
    "id": "TaKRxhDL4rWW"
   },
   "source": [
    "##  <font color=\"#D21087\">Lists"
   ]
  },
  {
   "cell_type": "markdown",
   "metadata": {
    "colab_type": "text",
    "id": "A5S7Ifw_zkRF"
   },
   "source": [
    "Lists are an ordered collection of objects. The objects can be different types, and can even be lists themselves (lists can be nested).\n",
    "\n",
    "<br>Read more: https://docs.python.org/3/tutorial/introduction.html#lists\n",
    "\n",
    "###  <font color=\"#D21087\">Defining a List\n",
    "\n",
    "<br>The items within a list are defined within square brackets (`[]`) like so:"
   ]
  },
  {
   "cell_type": "code",
   "execution_count": 12,
   "metadata": {
    "colab": {
     "base_uri": "https://localhost:8080/",
     "height": 34
    },
    "colab_type": "code",
    "executionInfo": {
     "elapsed": 393,
     "status": "ok",
     "timestamp": 1565313376352,
     "user": {
      "displayName": "Victor Aranda",
      "photoUrl": "https://lh6.googleusercontent.com/-3IsrT71qswc/AAAAAAAAAAI/AAAAAAAAB4U/5w_yClK4eWI/s64/photo.jpg",
      "userId": "00841928612155834879"
     },
     "user_tz": 420
    },
    "id": "Y5MkFE6QzsMp",
    "outputId": "5efaeb96-8d25-4922-b19c-bfbafa669274"
   },
   "outputs": [
    {
     "name": "stdout",
     "output_type": "stream",
     "text": [
      "['Victor', 'Kevin']\n"
     ]
    }
   ],
   "source": [
    "presenters = ['Victor', 'Kevin']\n",
    "print(presenters)"
   ]
  },
  {
   "cell_type": "markdown",
   "metadata": {
    "colab_type": "text",
    "id": "kVMnIUik8weH"
   },
   "source": [
    "<br>Another example:\n"
   ]
  },
  {
   "cell_type": "code",
   "execution_count": 14,
   "metadata": {
    "colab": {
     "base_uri": "https://localhost:8080/",
     "height": 51
    },
    "colab_type": "code",
    "executionInfo": {
     "elapsed": 355,
     "status": "ok",
     "timestamp": 1565313422862,
     "user": {
      "displayName": "Victor Aranda",
      "photoUrl": "https://lh6.googleusercontent.com/-3IsrT71qswc/AAAAAAAAAAI/AAAAAAAAB4U/5w_yClK4eWI/s64/photo.jpg",
      "userId": "00841928612155834879"
     },
     "user_tz": 420
    },
    "id": "FDZWn56LbGvT",
    "outputId": "3cb3dea0-91c3-41f0-9836-4c93c84e7bb5"
   },
   "outputs": [
    {
     "name": "stdout",
     "output_type": "stream",
     "text": [
      "[1, 2, 3, 4, 5]\n",
      "[1, 2, 3, 4, 5, 6, 'seven', []]\n"
     ]
    }
   ],
   "source": [
    "# a list of numbers\n",
    "my_number_list = [1, 2, 3, 4, 5]\n",
    "\n",
    "print(my_number_list)\n",
    "\n",
    "# append the number 6 as an integer\n",
    "my_number_list.append(6)\n",
    "\n",
    "# append the word seven\n",
    "my_number_list.append('seven')\n",
    "\n",
    "# append an empty list\n",
    "my_number_list.append([])\n",
    "\n",
    "print(my_number_list)"
   ]
  },
  {
   "cell_type": "markdown",
   "metadata": {
    "colab_type": "text",
    "id": "R1nnpNtX7rcN"
   },
   "source": [
    "###  <font color=\"#D21087\">Referring to an Element of a List\n",
    "\n",
    "<br>**Note:** You refer to elements of a list starting at 0 (not 1!). This is called \"zero-index\" or \"zero-based numbering\", and is common to many programming languages."
   ]
  },
  {
   "cell_type": "code",
   "execution_count": 0,
   "metadata": {
    "colab": {
     "base_uri": "https://localhost:8080/",
     "height": 34
    },
    "colab_type": "code",
    "executionInfo": {
     "elapsed": 180,
     "status": "ok",
     "timestamp": 1565300268245,
     "user": {
      "displayName": "Victor Aranda",
      "photoUrl": "https://lh6.googleusercontent.com/-3IsrT71qswc/AAAAAAAAAAI/AAAAAAAAB4U/5w_yClK4eWI/s64/photo.jpg",
      "userId": "00841928612155834879"
     },
     "user_tz": 420
    },
    "id": "fP_UuPCU7yYG",
    "outputId": "a5354729-544a-4d84-a74a-0afa6709f9f1"
   },
   "outputs": [
    {
     "name": "stdout",
     "output_type": "stream",
     "text": [
      "Victor\n"
     ]
    }
   ],
   "source": [
    "# print first element\n",
    "print(presenters[0])"
   ]
  },
  {
   "cell_type": "code",
   "execution_count": 0,
   "metadata": {
    "colab": {
     "base_uri": "https://localhost:8080/",
     "height": 34
    },
    "colab_type": "code",
    "executionInfo": {
     "elapsed": 324,
     "status": "ok",
     "timestamp": 1565300268832,
     "user": {
      "displayName": "Victor Aranda",
      "photoUrl": "https://lh6.googleusercontent.com/-3IsrT71qswc/AAAAAAAAAAI/AAAAAAAAB4U/5w_yClK4eWI/s64/photo.jpg",
      "userId": "00841928612155834879"
     },
     "user_tz": 420
    },
    "id": "yWEzbSQ1dlRE",
    "outputId": "1d354a52-b7b7-4f2b-88d8-a2fb02e331dd"
   },
   "outputs": [
    {
     "name": "stdout",
     "output_type": "stream",
     "text": [
      "Kevin\n"
     ]
    }
   ],
   "source": [
    "# print second element\n",
    "print(presenters[1])"
   ]
  },
  {
   "cell_type": "code",
   "execution_count": 0,
   "metadata": {
    "colab": {
     "base_uri": "https://localhost:8080/",
     "height": 34
    },
    "colab_type": "code",
    "executionInfo": {
     "elapsed": 206,
     "status": "ok",
     "timestamp": 1565300269186,
     "user": {
      "displayName": "Victor Aranda",
      "photoUrl": "https://lh6.googleusercontent.com/-3IsrT71qswc/AAAAAAAAAAI/AAAAAAAAB4U/5w_yClK4eWI/s64/photo.jpg",
      "userId": "00841928612155834879"
     },
     "user_tz": 420
    },
    "id": "cyJXOmW-9jB4",
    "outputId": "e52abd50-eb68-4ee1-ba88-d13d0f2f390c"
   },
   "outputs": [
    {
     "name": "stdout",
     "output_type": "stream",
     "text": [
      "[4, 5, 6]\n"
     ]
    }
   ],
   "source": [
    "# access a range of elements\n",
    "# inclusive of the first index #, exclusive of the second index #\n",
    "print(my_number_list[3:6])\n"
   ]
  },
  {
   "cell_type": "markdown",
   "metadata": {
    "colab_type": "text",
    "id": "1OguwM9Wdo3b"
   },
   "source": [
    "<br><br>\n",
    "\n",
    "What happens if you reference an index that doesn't exist?"
   ]
  },
  {
   "cell_type": "code",
   "execution_count": 0,
   "metadata": {
    "colab": {
     "base_uri": "https://localhost:8080/",
     "height": 164
    },
    "colab_type": "code",
    "executionInfo": {
     "elapsed": 282,
     "status": "error",
     "timestamp": 1565300270254,
     "user": {
      "displayName": "Victor Aranda",
      "photoUrl": "https://lh6.googleusercontent.com/-3IsrT71qswc/AAAAAAAAAAI/AAAAAAAAB4U/5w_yClK4eWI/s64/photo.jpg",
      "userId": "00841928612155834879"
     },
     "user_tz": 420
    },
    "id": "cFgvrZpYdrsp",
    "outputId": "c464b514-7c9a-43e8-c6c7-86b4f32f8fba"
   },
   "outputs": [
    {
     "ename": "IndexError",
     "evalue": "ignored",
     "output_type": "error",
     "traceback": [
      "\u001b[0;31m---------------------------------------------------------------------------\u001b[0m",
      "\u001b[0;31mIndexError\u001b[0m                                Traceback (most recent call last)",
      "\u001b[0;32m<ipython-input-29-c944a48ca3f6>\u001b[0m in \u001b[0;36m<module>\u001b[0;34m()\u001b[0m\n\u001b[0;32m----> 1\u001b[0;31m \u001b[0mprint\u001b[0m\u001b[0;34m(\u001b[0m\u001b[0mpresenters\u001b[0m\u001b[0;34m[\u001b[0m\u001b[0;36m20\u001b[0m\u001b[0;34m]\u001b[0m\u001b[0;34m)\u001b[0m\u001b[0;34m\u001b[0m\u001b[0;34m\u001b[0m\u001b[0m\n\u001b[0m",
      "\u001b[0;31mIndexError\u001b[0m: list index out of range"
     ]
    }
   ],
   "source": [
    "# print 21st element\n",
    "print(presenters[20])"
   ]
  },
  {
   "cell_type": "markdown",
   "metadata": {
    "colab_type": "text",
    "id": "qPh2e1oR85Yc"
   },
   "source": [
    "<br>You can access a range of elements as well using *slicing*. We use the syntax `list[index1:index2]` where we want all elements starting **after** `index1` and going all the way to `index2`, inclusive.\n",
    "\n",
    "<br>Example:"
   ]
  },
  {
   "cell_type": "code",
   "execution_count": 15,
   "metadata": {
    "colab": {
     "base_uri": "https://localhost:8080/",
     "height": 34
    },
    "colab_type": "code",
    "executionInfo": {
     "elapsed": 395,
     "status": "ok",
     "timestamp": 1565313468900,
     "user": {
      "displayName": "Victor Aranda",
      "photoUrl": "https://lh6.googleusercontent.com/-3IsrT71qswc/AAAAAAAAAAI/AAAAAAAAB4U/5w_yClK4eWI/s64/photo.jpg",
      "userId": "00841928612155834879"
     },
     "user_tz": 420
    },
    "id": "_5L48ZTD89xy",
    "outputId": "9efe621a-e9aa-4c88-ebd7-d01edbc01e09"
   },
   "outputs": [
    {
     "data": {
      "text/plain": [
       "[2, 3, 4, 5]"
      ]
     },
     "execution_count": 15,
     "metadata": {
      "tags": []
     },
     "output_type": "execute_result"
    }
   ],
   "source": [
    "# 3rd element through 5th element\n",
    "my_number_list[1:5]"
   ]
  },
  {
   "cell_type": "markdown",
   "metadata": {
    "colab_type": "text",
    "id": "I3ckEEvHb7ny"
   },
   "source": [
    "<br>Nested lists (and nested arrays and other data structures) can be very useful for organizing information. This is not a great example of a *useful* nested list, but it illustrates the syntax:"
   ]
  },
  {
   "cell_type": "code",
   "execution_count": 0,
   "metadata": {
    "colab": {},
    "colab_type": "code",
    "id": "wIvaNuAub62Z"
   },
   "outputs": [],
   "source": [
    "# a list of lists\n",
    "data_center_racks = [\n",
    "    ['wan router 1', 'wan router 2', 'dmz switch', 'patch panel'],\n",
    "    ['domain controller', 'sql server', 'esxi server'],\n",
    "    ['access switch 1', 'access switch 2', 'access switch 3']]"
   ]
  },
  {
   "cell_type": "markdown",
   "metadata": {
    "colab_type": "text",
    "id": "MWUhB6F3dw5p"
   },
   "source": [
    "<br>Layers of a nested list can be accessed using a pair of brackets and an index for each layer:"
   ]
  },
  {
   "cell_type": "code",
   "execution_count": 0,
   "metadata": {
    "colab": {
     "base_uri": "https://localhost:8080/",
     "height": 34
    },
    "colab_type": "code",
    "executionInfo": {
     "elapsed": 281,
     "status": "ok",
     "timestamp": 1565300272658,
     "user": {
      "displayName": "Victor Aranda",
      "photoUrl": "https://lh6.googleusercontent.com/-3IsrT71qswc/AAAAAAAAAAI/AAAAAAAAB4U/5w_yClK4eWI/s64/photo.jpg",
      "userId": "00841928612155834879"
     },
     "user_tz": 420
    },
    "id": "P-LR-P3ecgf5",
    "outputId": "4e9e2636-980e-4a74-af1f-dce18b0c960d"
   },
   "outputs": [
    {
     "name": "stdout",
     "output_type": "stream",
     "text": [
      "['access switch 1', 'access switch 2', 'access switch 3']\n"
     ]
    }
   ],
   "source": [
    "# print 3rd element of list, which is a list itself\n",
    "print(data_center_racks[2])"
   ]
  },
  {
   "cell_type": "code",
   "execution_count": 0,
   "metadata": {
    "colab": {
     "base_uri": "https://localhost:8080/",
     "height": 34
    },
    "colab_type": "code",
    "executionInfo": {
     "elapsed": 309,
     "status": "ok",
     "timestamp": 1565300273211,
     "user": {
      "displayName": "Victor Aranda",
      "photoUrl": "https://lh6.googleusercontent.com/-3IsrT71qswc/AAAAAAAAAAI/AAAAAAAAB4U/5w_yClK4eWI/s64/photo.jpg",
      "userId": "00841928612155834879"
     },
     "user_tz": 420
    },
    "id": "UcJr2OMwd1Yp",
    "outputId": "3223cad3-7106-4223-c229-42af4905cba7"
   },
   "outputs": [
    {
     "name": "stdout",
     "output_type": "stream",
     "text": [
      "access switch 1\n"
     ]
    }
   ],
   "source": [
    "# print first element of 3rd element\n",
    "print(data_center_racks[2][0])"
   ]
  },
  {
   "cell_type": "markdown",
   "metadata": {
    "colab_type": "text",
    "id": "w0zSMiLycw22"
   },
   "source": [
    "<br>You can reference or alter elements of a list based on this index and using the same syntax."
   ]
  },
  {
   "cell_type": "code",
   "execution_count": 0,
   "metadata": {
    "colab": {
     "base_uri": "https://localhost:8080/",
     "height": 51
    },
    "colab_type": "code",
    "executionInfo": {
     "elapsed": 277,
     "status": "ok",
     "timestamp": 1565300274200,
     "user": {
      "displayName": "Victor Aranda",
      "photoUrl": "https://lh6.googleusercontent.com/-3IsrT71qswc/AAAAAAAAAAI/AAAAAAAAB4U/5w_yClK4eWI/s64/photo.jpg",
      "userId": "00841928612155834879"
     },
     "user_tz": 420
    },
    "id": "nqA6kMnVcybl",
    "outputId": "6b8645dd-27a8-4633-d8f0-bd9b91f37cfc"
   },
   "outputs": [
    {
     "name": "stdout",
     "output_type": "stream",
     "text": [
      "['Victor', 'Kevin']\n",
      "['Vic', 'Kevin']\n"
     ]
    }
   ],
   "source": [
    "presenters = ['Victor', 'Kevin']\n",
    "\n",
    "print(presenters)\n",
    "\n",
    "# overwrite the element in the first position\n",
    "presenters[0] = 'Vic'\n",
    "\n",
    "print(presenters)"
   ]
  },
  {
   "cell_type": "markdown",
   "metadata": {
    "colab_type": "text",
    "id": "O2Zd6XELfGEo"
   },
   "source": [
    "<br>Guess what? Remember `Strings`? Under the covers, the `String` object (or rather, the `String` class) is actually just a `List` of characters under the covers with a layer of built-in functionality and convenience."
   ]
  },
  {
   "cell_type": "code",
   "execution_count": 0,
   "metadata": {
    "colab": {
     "base_uri": "https://localhost:8080/",
     "height": 102
    },
    "colab_type": "code",
    "executionInfo": {
     "elapsed": 278,
     "status": "ok",
     "timestamp": 1565300275122,
     "user": {
      "displayName": "Victor Aranda",
      "photoUrl": "https://lh6.googleusercontent.com/-3IsrT71qswc/AAAAAAAAAAI/AAAAAAAAB4U/5w_yClK4eWI/s64/photo.jpg",
      "userId": "00841928612155834879"
     },
     "user_tz": 420
    },
    "id": "pqiURkjkfPSO",
    "outputId": "72484e24-6325-416a-d1cb-47e13cc7b148"
   },
   "outputs": [
    {
     "name": "stdout",
     "output_type": "stream",
     "text": [
      "K\n",
      "e\n",
      "v\n",
      "i\n",
      "n\n"
     ]
    }
   ],
   "source": [
    "# iterate through the string like it's a list\n",
    "for character in presenters[1]:\n",
    "  print(character)"
   ]
  },
  {
   "cell_type": "markdown",
   "metadata": {
    "colab_type": "text",
    "id": "xY_2hOMl9BJf"
   },
   "source": [
    "###  <font color=\"#D21087\">List Comprehensions"
   ]
  },
  {
   "cell_type": "markdown",
   "metadata": {
    "colab_type": "text",
    "id": "rTPn7r6G8sR1"
   },
   "source": [
    "<br>A notable intermediate topic is List Comprehensions, a novel and clean/neat way of creating lists in a single line. It's not always appropriate but cah be very convenient.\n",
    "\n",
    "> List comprehensions provide a concise way to create lists. Common applications are to make new lists where each element is the result of some operations applied to each member of another sequence or iterable, or to create a subsequence of those elements that satisfy a certain condition.\n",
    "\n",
    "<br>Read more [here](https://docs.python.org/3/tutorial/datastructures.html#list-comprehensions)."
   ]
  },
  {
   "cell_type": "code",
   "execution_count": 19,
   "metadata": {
    "colab": {
     "base_uri": "https://localhost:8080/",
     "height": 34
    },
    "colab_type": "code",
    "executionInfo": {
     "elapsed": 363,
     "status": "ok",
     "timestamp": 1565313709940,
     "user": {
      "displayName": "Victor Aranda",
      "photoUrl": "https://lh6.googleusercontent.com/-3IsrT71qswc/AAAAAAAAAAI/AAAAAAAAB4U/5w_yClK4eWI/s64/photo.jpg",
      "userId": "00841928612155834879"
     },
     "user_tz": 420
    },
    "id": "3I8Q0gCU9EOQ",
    "outputId": "327d6518-0761-45d2-8791-92ed162bb5e0"
   },
   "outputs": [
    {
     "name": "stdout",
     "output_type": "stream",
     "text": [
      "[0, 1, 2, 3, 4, 5, 6, 7, 8, 9, 10, 11, 12, 13, 14, 15, 16, 17, 18, 19, 20]\n"
     ]
    }
   ],
   "source": [
    "x = [i for i in range(21)]\n",
    "print(x)"
   ]
  },
  {
   "cell_type": "code",
   "execution_count": 20,
   "metadata": {
    "colab": {
     "base_uri": "https://localhost:8080/",
     "height": 34
    },
    "colab_type": "code",
    "executionInfo": {
     "elapsed": 391,
     "status": "ok",
     "timestamp": 1565313710852,
     "user": {
      "displayName": "Victor Aranda",
      "photoUrl": "https://lh6.googleusercontent.com/-3IsrT71qswc/AAAAAAAAAAI/AAAAAAAAB4U/5w_yClK4eWI/s64/photo.jpg",
      "userId": "00841928612155834879"
     },
     "user_tz": 420
    },
    "id": "medMbXlx9G8g",
    "outputId": "01b943d9-0892-4de9-a0a4-83fc2ce0aee1"
   },
   "outputs": [
    {
     "name": "stdout",
     "output_type": "stream",
     "text": [
      "['Bob', 'John', 'Sue', 'Jenny', 'Alan', 'Charles']\n"
     ]
    }
   ],
   "source": [
    "names = ['bob', 'john', 'sue', 'jenny', 'alan', 'charles']\n",
    "\n",
    "y = [j.capitalize() for j in names]\n",
    "print(y)"
   ]
  },
  {
   "cell_type": "code",
   "execution_count": 22,
   "metadata": {
    "colab": {
     "base_uri": "https://localhost:8080/",
     "height": 34
    },
    "colab_type": "code",
    "executionInfo": {
     "elapsed": 327,
     "status": "ok",
     "timestamp": 1565313723170,
     "user": {
      "displayName": "Victor Aranda",
      "photoUrl": "https://lh6.googleusercontent.com/-3IsrT71qswc/AAAAAAAAAAI/AAAAAAAAB4U/5w_yClK4eWI/s64/photo.jpg",
      "userId": "00841928612155834879"
     },
     "user_tz": 420
    },
    "id": "QahIit-296Pc",
    "outputId": "ab240f1b-ddc9-4ea1-9253-6c8fa370cb58"
   },
   "outputs": [
    {
     "name": "stdout",
     "output_type": "stream",
     "text": [
      "[2, 8, 32, 128, 512, 2048, 8192, 32768, 131072, 524288]\n"
     ]
    }
   ],
   "source": [
    "# 2 to the power of i for all of the numbers 1 through 9, but only the odd ones\n",
    "\n",
    "print([2**i for i in range(21) if i % 2 == 1 ])"
   ]
  },
  {
   "cell_type": "markdown",
   "metadata": {
    "colab_type": "text",
    "id": "BS3RR_Fa1stq"
   },
   "source": [
    "##  <font color=\"#D21087\">Dictionaries\n",
    "\n",
    "<br>A dictionary is a list of keys-value pairs. Think of it like a real dictionary - a word and it's associated entry - in the case of a dictionary, the entry is the word's meaning. In Python dictionaries are an extremely flexible and useful data structure."
   ]
  },
  {
   "cell_type": "code",
   "execution_count": 27,
   "metadata": {
    "colab": {
     "base_uri": "https://localhost:8080/",
     "height": 34
    },
    "colab_type": "code",
    "executionInfo": {
     "elapsed": 367,
     "status": "ok",
     "timestamp": 1565313879166,
     "user": {
      "displayName": "Victor Aranda",
      "photoUrl": "https://lh6.googleusercontent.com/-3IsrT71qswc/AAAAAAAAAAI/AAAAAAAAB4U/5w_yClK4eWI/s64/photo.jpg",
      "userId": "00841928612155834879"
     },
     "user_tz": 420
    },
    "id": "-ihA1my2hX1r",
    "outputId": "436c4a49-700d-4571-c842-630eeae983ce"
   },
   "outputs": [
    {
     "name": "stdout",
     "output_type": "stream",
     "text": [
      "The songbird says chirp\n"
     ]
    }
   ],
   "source": [
    "animal_sound_dictionary = {\n",
    "    'songbird': 'chirp',\n",
    "    'pig': 'oink',\n",
    "    'cow': 'moo',\n",
    "    'horse': 'neigh',\n",
    "    'sheep': 'baaa',\n",
    "}\n",
    "\n",
    "# print the value associated with a specific animal\n",
    "\n",
    "key = 'songbird'\n",
    "\n",
    "print('The', key, 'says', animal_sound_dictionary[key])"
   ]
  },
  {
   "cell_type": "markdown",
   "metadata": {
    "colab_type": "text",
    "id": "fmHWseE7efin"
   },
   "source": [
    "<br>This example is a list (see above) of dictionaries with information about us."
   ]
  },
  {
   "cell_type": "code",
   "execution_count": 0,
   "metadata": {
    "colab": {},
    "colab_type": "code",
    "id": "DE5r0XxPXjMi"
   },
   "outputs": [],
   "source": [
    "# make a list of presenters (each is a dictionary)\n",
    "presenters = [{'name': 'Victor Aranda', 'title': 'Architect II', 'city':'Stockton', 'state':'California'}, \n",
    "              {'name': 'Kevin Breit', 'title': 'Sales Engineer', 'city':'Chicago', 'state':'Illinois'}]\n"
   ]
  },
  {
   "cell_type": "code",
   "execution_count": 29,
   "metadata": {
    "colab": {
     "base_uri": "https://localhost:8080/",
     "height": 51
    },
    "colab_type": "code",
    "executionInfo": {
     "elapsed": 474,
     "status": "ok",
     "timestamp": 1565313883144,
     "user": {
      "displayName": "Victor Aranda",
      "photoUrl": "https://lh6.googleusercontent.com/-3IsrT71qswc/AAAAAAAAAAI/AAAAAAAAB4U/5w_yClK4eWI/s64/photo.jpg",
      "userId": "00841928612155834879"
     },
     "user_tz": 420
    },
    "id": "DJP6gEin2JiP",
    "outputId": "6929bb7e-800b-4eba-b5b7-f0fa24477879"
   },
   "outputs": [
    {
     "name": "stdout",
     "output_type": "stream",
     "text": [
      "{'name': 'Victor Aranda', 'title': 'Architect II', 'city': 'Stockton', 'state': 'California'}\n",
      "{'name': 'Kevin Breit', 'title': 'Sales Engineer', 'city': 'Chicago', 'state': 'Illinois'}\n"
     ]
    }
   ],
   "source": [
    "# iterate through the presenters\n",
    "for p in presenters:\n",
    "  print(p)\n"
   ]
  },
  {
   "cell_type": "markdown",
   "metadata": {
    "colab_type": "text",
    "id": "K5b7nkOliasf"
   },
   "source": [
    "<br>You can very easily access all of the keys or values of a dictionary (for example, to iterate through them) via some access methods `.keys()` and  `.values()`"
   ]
  },
  {
   "cell_type": "code",
   "execution_count": 30,
   "metadata": {
    "colab": {
     "base_uri": "https://localhost:8080/",
     "height": 102
    },
    "colab_type": "code",
    "executionInfo": {
     "elapsed": 397,
     "status": "ok",
     "timestamp": 1565313885447,
     "user": {
      "displayName": "Victor Aranda",
      "photoUrl": "https://lh6.googleusercontent.com/-3IsrT71qswc/AAAAAAAAAAI/AAAAAAAAB4U/5w_yClK4eWI/s64/photo.jpg",
      "userId": "00841928612155834879"
     },
     "user_tz": 420
    },
    "id": "jcldpSlaIEA_",
    "outputId": "5a5dd8bf-061c-4614-8d67-5f5ea5351f6a"
   },
   "outputs": [
    {
     "name": "stdout",
     "output_type": "stream",
     "text": [
      "songbird\n",
      "pig\n",
      "cow\n",
      "horse\n",
      "sheep\n"
     ]
    }
   ],
   "source": [
    "for k in animal_sound_dictionary.keys():\n",
    "    print(k)\n",
    "\n",
    "   "
   ]
  },
  {
   "cell_type": "code",
   "execution_count": 31,
   "metadata": {
    "colab": {
     "base_uri": "https://localhost:8080/",
     "height": 102
    },
    "colab_type": "code",
    "executionInfo": {
     "elapsed": 297,
     "status": "ok",
     "timestamp": 1565313886243,
     "user": {
      "displayName": "Victor Aranda",
      "photoUrl": "https://lh6.googleusercontent.com/-3IsrT71qswc/AAAAAAAAAAI/AAAAAAAAB4U/5w_yClK4eWI/s64/photo.jpg",
      "userId": "00841928612155834879"
     },
     "user_tz": 420
    },
    "id": "mm3rj-PAIlzL",
    "outputId": "fb5c5c85-4f23-4d13-9622-21ce60b53be3"
   },
   "outputs": [
    {
     "name": "stdout",
     "output_type": "stream",
     "text": [
      "chirp\n",
      "oink\n",
      "moo\n",
      "neigh\n",
      "baaa\n"
     ]
    }
   ],
   "source": [
    "for v in animal_sound_dictionary.values():\n",
    "    print(v)"
   ]
  },
  {
   "cell_type": "markdown",
   "metadata": {
    "colab_type": "text",
    "id": "ofS0ENJZ25rH"
   },
   "source": [
    "<br>Notice how it goes through each item of the list. With each iteration through the list, the focus item is referred to as `presenter`. Then the dictionary key (ex. name) is used to get the value (ex. Victor Aranda). \n",
    "\n"
   ]
  },
  {
   "cell_type": "markdown",
   "metadata": {
    "colab_type": "text",
    "id": "1Xl_wW0t4mSe"
   },
   "source": [
    "## <font color=\"#D21087\">Copies vs References</font>"
   ]
  },
  {
   "cell_type": "markdown",
   "metadata": {
    "colab_type": "text",
    "id": "f5oShbHgno5s"
   },
   "source": [
    "<br>Variable assignment behavior can be tricky at first, if you don't understand what's going on. See below!"
   ]
  },
  {
   "cell_type": "code",
   "execution_count": 0,
   "metadata": {
    "colab": {
     "base_uri": "https://localhost:8080/",
     "height": 51
    },
    "colab_type": "code",
    "executionInfo": {
     "elapsed": 258,
     "status": "ok",
     "timestamp": 1565300279046,
     "user": {
      "displayName": "Victor Aranda",
      "photoUrl": "https://lh6.googleusercontent.com/-3IsrT71qswc/AAAAAAAAAAI/AAAAAAAAB4U/5w_yClK4eWI/s64/photo.jpg",
      "userId": "00841928612155834879"
     },
     "user_tz": 420
    },
    "id": "Wi3sS01qstp-",
    "outputId": "fdbfc06d-39bc-4806-d53b-4365ccb63cac"
   },
   "outputs": [
    {
     "name": "stdout",
     "output_type": "stream",
     "text": [
      "4\n",
      "hi\n"
     ]
    }
   ],
   "source": [
    "# assign a, assign b = a, then change a\n",
    "# what are the values of a and b?\n",
    "\n",
    "a = 'hi'\n",
    "b = a\n",
    "a = 4\n",
    "\n",
    "print(a)\n",
    "print(b)"
   ]
  },
  {
   "cell_type": "markdown",
   "metadata": {
    "colab_type": "text",
    "id": "cegFuoyrsx1X"
   },
   "source": [
    "<br>It doesn't always work out that way!\n",
    "\n",
    "<br>In this example, `a` was assigned two different objects: 'hi' in the first assignment and '4' in the second one. Before `a` was modified, we set `b` to equal `a`. What happens to `a` when we change `b`?\n",
    "\n",
    "<br>Handy reference: https://docs.python.org/3/library/copy.html"
   ]
  },
  {
   "cell_type": "code",
   "execution_count": 0,
   "metadata": {
    "colab": {
     "base_uri": "https://localhost:8080/",
     "height": 34
    },
    "colab_type": "code",
    "executionInfo": {
     "elapsed": 225,
     "status": "ok",
     "timestamp": 1565300279460,
     "user": {
      "displayName": "Victor Aranda",
      "photoUrl": "https://lh6.googleusercontent.com/-3IsrT71qswc/AAAAAAAAAAI/AAAAAAAAB4U/5w_yClK4eWI/s64/photo.jpg",
      "userId": "00841928612155834879"
     },
     "user_tz": 420
    },
    "id": "e9Fjh1nFs9AL",
    "outputId": "43c0c3b9-8406-4086-f28b-d0b79aff523c"
   },
   "outputs": [
    {
     "name": "stdout",
     "output_type": "stream",
     "text": [
      "[1, 2, 3, 4, 5, 6]\n"
     ]
    }
   ],
   "source": [
    "a = [1, 2, 3, 4, 5]\n",
    "\n",
    "# creates a new variable that is a *reference to* a\n",
    "b = a\n",
    "\n",
    "# modify a\n",
    "a.append(6)\n",
    "\n",
    "# what's b look like now?\n",
    "print(b)"
   ]
  },
  {
   "cell_type": "code",
   "execution_count": 0,
   "metadata": {
    "colab": {
     "base_uri": "https://localhost:8080/",
     "height": 34
    },
    "colab_type": "code",
    "executionInfo": {
     "elapsed": 234,
     "status": "ok",
     "timestamp": 1565300279658,
     "user": {
      "displayName": "Victor Aranda",
      "photoUrl": "https://lh6.googleusercontent.com/-3IsrT71qswc/AAAAAAAAAAI/AAAAAAAAB4U/5w_yClK4eWI/s64/photo.jpg",
      "userId": "00841928612155834879"
     },
     "user_tz": 420
    },
    "id": "tt3bzRoZtAC9",
    "outputId": "80ccb5bb-81b3-4e1b-947d-a07fe24327d8"
   },
   "outputs": [
    {
     "name": "stdout",
     "output_type": "stream",
     "text": [
      "[1, 2, 3, 4, 5]\n"
     ]
    }
   ],
   "source": [
    "a = [1, 2, 3, 4, 5]\n",
    "\n",
    "# creates a new variable that is a *copy of* a\n",
    "b = a.copy()\n",
    "\n",
    "# modify a\n",
    "a.append(6)\n",
    "\n",
    "# what's b look like now?\n",
    "print(b)"
   ]
  },
  {
   "cell_type": "markdown",
   "metadata": {
    "colab_type": "text",
    "id": "u7cCz43gtCLr"
   },
   "source": [
    "<br>The difference between the two is that `python` variable names are pointers to the object. When we did `b=a`, we were copying the _reference_ not the _value_ of the data. Both `a` and `b` point to the same place in memory. Modifying content by using either `a` or `b` will modify the **same** memory locations.\n",
    "    \n",
    "<br>If you want a completely different copy that is independent, you have to use the `.copy()` method. With that `a` points to one set of memory and `b` then points to it's own set of memory (a full copy of the original). This is called a **deep copy**.</font>"
   ]
  },
  {
   "cell_type": "markdown",
   "metadata": {
    "colab_type": "text",
    "id": "j0M1wYzCx5jx"
   },
   "source": [
    "<br><br><hr width='80%'><br><br>\n",
    "\n",
    "#  <font color=\"#D21087\">Program Flow\n",
    "\n"
   ]
  },
  {
   "cell_type": "markdown",
   "metadata": {
    "colab_type": "text",
    "id": "CN-NuOcZ7P-2"
   },
   "source": [
    "##  <font color=\"#D21087\">Conditional Behavior: if/elif/else"
   ]
  },
  {
   "cell_type": "markdown",
   "metadata": {
    "colab_type": "text",
    "id": "A51PcNCa_WGt"
   },
   "source": [
    "<br>`if` statements allow you to take action if something is `True` or `False`. Start with `if`. If desired, you can add an `else` statement to catch the case when your `if` yields `False`. For more than one case, use `elif` (similar to `else if` from other languages) and then end with an `else` if needed.\n"
   ]
  },
  {
   "cell_type": "code",
   "execution_count": 35,
   "metadata": {
    "colab": {
     "base_uri": "https://localhost:8080/",
     "height": 34
    },
    "colab_type": "code",
    "executionInfo": {
     "elapsed": 409,
     "status": "ok",
     "timestamp": 1565314152991,
     "user": {
      "displayName": "Victor Aranda",
      "photoUrl": "https://lh6.googleusercontent.com/-3IsrT71qswc/AAAAAAAAAAI/AAAAAAAAB4U/5w_yClK4eWI/s64/photo.jpg",
      "userId": "00841928612155834879"
     },
     "user_tz": 420
    },
    "id": "YH6GUEkdy2XC",
    "outputId": "da576b13-dbce-4663-f678-58698a84a743"
   },
   "outputs": [
    {
     "name": "stdout",
     "output_type": "stream",
     "text": [
      "my_number is 42.\n"
     ]
    }
   ],
   "source": [
    "my_number = 42\n",
    "\n",
    "if my_number == 42:  # == is a comparison\n",
    "  print(\"my_number is 42.\")\n",
    "elif my_number == 43:\n",
    "  print(\"my_number is 43.\")\n",
    "else:\n",
    "  print(\"my_number isn't 42 or 43.\")"
   ]
  },
  {
   "cell_type": "code",
   "execution_count": 36,
   "metadata": {
    "colab": {
     "base_uri": "https://localhost:8080/",
     "height": 34
    },
    "colab_type": "code",
    "executionInfo": {
     "elapsed": 445,
     "status": "ok",
     "timestamp": 1565314153264,
     "user": {
      "displayName": "Victor Aranda",
      "photoUrl": "https://lh6.googleusercontent.com/-3IsrT71qswc/AAAAAAAAAAI/AAAAAAAAB4U/5w_yClK4eWI/s64/photo.jpg",
      "userId": "00841928612155834879"
     },
     "user_tz": 420
    },
    "id": "6PNbr_p5-7J9",
    "outputId": "5fd81fc9-148b-4377-a354-7f1307580b77"
   },
   "outputs": [
    {
     "name": "stdout",
     "output_type": "stream",
     "text": [
      "x is greater than 2\n"
     ]
    }
   ],
   "source": [
    "x = 5\n",
    "\n",
    "if x > 2:\n",
    "    print('x is greater than 2')\n",
    "else:\n",
    "    print('x is less than or equal to 2')"
   ]
  },
  {
   "cell_type": "code",
   "execution_count": 37,
   "metadata": {
    "colab": {
     "base_uri": "https://localhost:8080/",
     "height": 34
    },
    "colab_type": "code",
    "executionInfo": {
     "elapsed": 440,
     "status": "ok",
     "timestamp": 1565314153697,
     "user": {
      "displayName": "Victor Aranda",
      "photoUrl": "https://lh6.googleusercontent.com/-3IsrT71qswc/AAAAAAAAAAI/AAAAAAAAB4U/5w_yClK4eWI/s64/photo.jpg",
      "userId": "00841928612155834879"
     },
     "user_tz": 420
    },
    "id": "dDU2q9bX-9xR",
    "outputId": "3f80ad4f-42d3-4372-c83a-2dd36d421032"
   },
   "outputs": [
    {
     "name": "stdout",
     "output_type": "stream",
     "text": [
      "go to bed\n"
     ]
    }
   ],
   "source": [
    "x = -1\n",
    "i_am_tired = True\n",
    "\n",
    "if x == 1:\n",
    "    print('one')\n",
    "elif x > 2:\n",
    "    x = 20\n",
    "elif i_am_tired:\n",
    "    x = 'go to bed'\n",
    "else:\n",
    "    x = 0\n",
    "\n",
    "print(x)\n",
    "\n",
    "# what is the output?"
   ]
  },
  {
   "cell_type": "markdown",
   "metadata": {
    "colab_type": "text",
    "id": "mn1XJBakzRvu"
   },
   "source": [
    "##  <font color=\"#D21087\">Looping Behavior"
   ]
  },
  {
   "cell_type": "markdown",
   "metadata": {
    "colab_type": "text",
    "id": "WHIO3mVx_Lr_"
   },
   "source": [
    "###  <font color=\"#D21087\">For Loops"
   ]
  },
  {
   "cell_type": "markdown",
   "metadata": {
    "colab_type": "text",
    "id": "s_7MFbY3_zmo"
   },
   "source": [
    "<br>Sometimes you need to take an action against each item within a list or some other iterable object. Python like other languages has a `for` statement which will step through every item until the loop finishes or is ended early.\n",
    "\n",
    ">The for statement in Python differs a bit from what you may be used to in C or Pascal. Rather than always iterating over an arithmetic progression of numbers (like in Pascal), or giving the user the ability to define both the iteration step and halting condition (as C), Python’s for statement iterates over the items of any sequence (a list or a string), in the order that they appear in the sequence.\n",
    "\n",
    "From https://docs.python.org/3/reference/compound_stmts.html#for\n",
    "\n",
    "<br>It's essential to know the `range()` function to use `for` loops effectively:\n",
    "\n",
    "https://docs.python.org/3/library/stdtypes.html?highlight=range#range</font>"
   ]
  },
  {
   "cell_type": "code",
   "execution_count": 43,
   "metadata": {
    "colab": {
     "base_uri": "https://localhost:8080/",
     "height": 51
    },
    "colab_type": "code",
    "executionInfo": {
     "elapsed": 404,
     "status": "ok",
     "timestamp": 1565314422466,
     "user": {
      "displayName": "Victor Aranda",
      "photoUrl": "https://lh6.googleusercontent.com/-3IsrT71qswc/AAAAAAAAAAI/AAAAAAAAB4U/5w_yClK4eWI/s64/photo.jpg",
      "userId": "00841928612155834879"
     },
     "user_tz": 420
    },
    "id": "O7-C90XK0NY2",
    "outputId": "9760f5d4-53ae-4edb-8ae7-a842b336e4d8"
   },
   "outputs": [
    {
     "name": "stdout",
     "output_type": "stream",
     "text": [
      "Victor Aranda is a presenter.\n",
      "Kevin Breit is a presenter.\n"
     ]
    }
   ],
   "source": [
    "# p is how we will refer to each item in a given iteration \n",
    "# (it's replaced on each iteration with the next item)\n",
    "\n",
    "for p in presenters:\n",
    "  print(p['name'] + ' is a presenter.')\n",
    "\n",
    "# p is a dictionary, so we need to access the 'name' key\n"
   ]
  },
  {
   "cell_type": "markdown",
   "metadata": {
    "colab_type": "text",
    "id": "ieXOaLoIAxZV"
   },
   "source": [
    "###  <font color=\"#D21087\">While Loops"
   ]
  },
  {
   "cell_type": "markdown",
   "metadata": {
    "colab_type": "text",
    "id": "0Dh188QJAx1T"
   },
   "source": [
    "`while` loops are different than `for` loops. Rather than iterating through a list, a `while` loop will simply do someting until a condition is met.\n",
    "\n",
    "https://docs.python.org/3/reference/compound_stmts.html#while</font>"
   ]
  },
  {
   "cell_type": "code",
   "execution_count": 44,
   "metadata": {
    "colab": {
     "base_uri": "https://localhost:8080/",
     "height": 187
    },
    "colab_type": "code",
    "executionInfo": {
     "elapsed": 355,
     "status": "ok",
     "timestamp": 1565314529438,
     "user": {
      "displayName": "Victor Aranda",
      "photoUrl": "https://lh6.googleusercontent.com/-3IsrT71qswc/AAAAAAAAAAI/AAAAAAAAB4U/5w_yClK4eWI/s64/photo.jpg",
      "userId": "00841928612155834879"
     },
     "user_tz": 420
    },
    "id": "wuwzoiKcAv_h",
    "outputId": "65cd6d9c-34f0-4ff5-c48c-fd38612254d0"
   },
   "outputs": [
    {
     "name": "stdout",
     "output_type": "stream",
     "text": [
      "2\n",
      "4\n",
      "8\n",
      "16\n",
      "32\n",
      "64\n",
      "128\n",
      "256\n",
      "512\n",
      "1024\n"
     ]
    }
   ],
   "source": [
    "x = 1\n",
    "\n",
    "while x < 1024:\n",
    "    x = x + x\n",
    "    print(x)"
   ]
  },
  {
   "cell_type": "markdown",
   "metadata": {
    "colab_type": "text",
    "id": "kpud2lRDBMzE"
   },
   "source": [
    "<br><br><hr width='80%'><br><br>\n",
    "\n",
    "#  <font color=\"#D21087\">Functions"
   ]
  },
  {
   "cell_type": "markdown",
   "metadata": {
    "colab_type": "text",
    "id": "ZbT_bDrz6ENN"
   },
   "source": [
    "Defining your own functions can be extremely useful. Functions are customized, packaged operations that may or may take arguments, and 'do something' useful. If you find yourself writing the same code over and over again, you should probably find a way to package it into a function so it can be re-used."
   ]
  },
  {
   "cell_type": "code",
   "execution_count": 45,
   "metadata": {
    "colab": {
     "base_uri": "https://localhost:8080/",
     "height": 34
    },
    "colab_type": "code",
    "executionInfo": {
     "elapsed": 328,
     "status": "ok",
     "timestamp": 1565314656229,
     "user": {
      "displayName": "Victor Aranda",
      "photoUrl": "https://lh6.googleusercontent.com/-3IsrT71qswc/AAAAAAAAAAI/AAAAAAAAB4U/5w_yClK4eWI/s64/photo.jpg",
      "userId": "00841928612155834879"
     },
     "user_tz": 420
    },
    "id": "TKTfYlpMBfsS",
    "outputId": "513665fe-65fa-4331-a23f-799114f99af3"
   },
   "outputs": [
    {
     "name": "stdout",
     "output_type": "stream",
     "text": [
      "hello - this is not a very useful function\n"
     ]
    }
   ],
   "source": [
    "def say_hello():\n",
    "    print('hello - this is not a very useful function')\n",
    "\n",
    "say_hello()"
   ]
  },
  {
   "cell_type": "code",
   "execution_count": 47,
   "metadata": {
    "colab": {
     "base_uri": "https://localhost:8080/",
     "height": 85
    },
    "colab_type": "code",
    "executionInfo": {
     "elapsed": 383,
     "status": "ok",
     "timestamp": 1565314830829,
     "user": {
      "displayName": "Victor Aranda",
      "photoUrl": "https://lh6.googleusercontent.com/-3IsrT71qswc/AAAAAAAAAAI/AAAAAAAAB4U/5w_yClK4eWI/s64/photo.jpg",
      "userId": "00841928612155834879"
     },
     "user_tz": 420
    },
    "id": "jMBzNnQxBlVr",
    "outputId": "e40dea47-ea2b-45b7-9375-5983e9649f56"
   },
   "outputs": [
    {
     "name": "stdout",
     "output_type": "stream",
     "text": [
      "False\n",
      "False\n",
      "False\n",
      "True\n"
     ]
    }
   ],
   "source": [
    "def logical_AND_operator(a, b):\n",
    "    if a == 1 and b == 1:\n",
    "        return True\n",
    "    else:\n",
    "        return False\n",
    "\n",
    "\n",
    "print(logical_AND_operator(0, 0))\n",
    "print(logical_AND_operator(0, 1))\n",
    "print(logical_AND_operator(1, 0))\n",
    "print(logical_AND_operator(1, 1))"
   ]
  },
  {
   "cell_type": "markdown",
   "metadata": {
    "colab_type": "text",
    "id": "nOuRJsQACVxK"
   },
   "source": [
    "<br>Here we've made `z` an implicit, but overridable, argument. When you tell a function what a parameter (a passed value) should be with an `=` sign, it no longer has to be specified when the function is called. If it is specified, it will override the 'default' value in the function definition."
   ]
  },
  {
   "cell_type": "code",
   "execution_count": 48,
   "metadata": {
    "colab": {
     "base_uri": "https://localhost:8080/",
     "height": 51
    },
    "colab_type": "code",
    "executionInfo": {
     "elapsed": 426,
     "status": "ok",
     "timestamp": 1565314916461,
     "user": {
      "displayName": "Victor Aranda",
      "photoUrl": "https://lh6.googleusercontent.com/-3IsrT71qswc/AAAAAAAAAAI/AAAAAAAAB4U/5w_yClK4eWI/s64/photo.jpg",
      "userId": "00841928612155834879"
     },
     "user_tz": 420
    },
    "id": "V77qwkuRCQfZ",
    "outputId": "53436af3-4f14-41f1-9c98-ed4bcefc9295"
   },
   "outputs": [
    {
     "name": "stdout",
     "output_type": "stream",
     "text": [
      "330\n",
      "33000\n"
     ]
    }
   ],
   "source": [
    "def multiply(w, x, y, z=1):\n",
    "    return (w * x * y * z)\n",
    "\n",
    "\n",
    "print(multiply(5, 6, 11))\n",
    "\n",
    "print(multiply(5, 6, 11, 100))"
   ]
  },
  {
   "cell_type": "markdown",
   "metadata": {
    "colab_type": "text",
    "id": "dNWun3F3_d3H"
   },
   "source": [
    "<br><br><hr width='80%'><br><br>\n",
    "\n",
    "#  <font color=\"#D21087\">Classes"
   ]
  },
  {
   "cell_type": "markdown",
   "metadata": {
    "colab_type": "text",
    "id": "LtRovbcaBR91"
   },
   "source": [
    "<br>Object is a generic term. Integers, Strings, Dictionaries, and Lists are objects. (we've been referring to them interchangeably as variables). In Python, objects may be instances of a class;  for example, HTTP requests, opened files, SSH sessions, predictive models, plots, and so on. Objects have built-in **attributes** and **methods**\n",
    "\n",
    "<br>Defining your own classes can be extremely useful. Classes are custom objects that can have attributes, or their own functions (in thise context, functions are called 'methods').\n",
    "\n",
    "https://docs.python.org/3/tutorial/classes.html\n",
    "\n",
    "<br>And remember, lists and dictionaries can store objects of all types, including objects of user-defined or imported module classes"
   ]
  },
  {
   "cell_type": "code",
   "execution_count": 0,
   "metadata": {
    "colab": {},
    "colab_type": "code",
    "id": "LthAZtZNCzgK"
   },
   "outputs": [],
   "source": [
    "class Rectangle(object):\n",
    "    \"\"\"\n",
    "    This is a rectangle object. It has a height and width\n",
    "    \n",
    "    Attributes\n",
    "    ----------\n",
    "    height : int (not strict)\n",
    "        height of rectangle\n",
    "    width : int (not strict)\n",
    "        width of rectangle\n",
    "    \"\"\"\n",
    "\n",
    "    def __init__(self, h, w):\n",
    "        self._width = w\n",
    "        self._height = h\n",
    "\n",
    "    def width(self):\n",
    "        return self._width\n",
    "\n",
    "    def height(self):\n",
    "        return self._height\n",
    "\n",
    "    def area(self):\n",
    "        return self._width * self._height\n",
    "    \n",
    "    def __str__(self):\n",
    "        return \"Width {}, height {}, area {}\".format(self.width(),self.height(),self.area())"
   ]
  },
  {
   "cell_type": "code",
   "execution_count": 50,
   "metadata": {
    "colab": {
     "base_uri": "https://localhost:8080/",
     "height": 34
    },
    "colab_type": "code",
    "executionInfo": {
     "elapsed": 383,
     "status": "ok",
     "timestamp": 1565315001844,
     "user": {
      "displayName": "Victor Aranda",
      "photoUrl": "https://lh6.googleusercontent.com/-3IsrT71qswc/AAAAAAAAAAI/AAAAAAAAB4U/5w_yClK4eWI/s64/photo.jpg",
      "userId": "00841928612155834879"
     },
     "user_tz": 420
    },
    "id": "ibazudbEC1u7",
    "outputId": "29294297-74f4-45b3-a7bb-06000797c3bf"
   },
   "outputs": [
    {
     "name": "stdout",
     "output_type": "stream",
     "text": [
      "Rectangle of width 16 and height 5 has area 80\n"
     ]
    }
   ],
   "source": [
    "my_rect = Rectangle(5, 16)\n",
    "\n",
    "print('Rectangle of width', my_rect.width(), 'and height', my_rect.height(),\n",
    "      'has area of', my_rect.area())"
   ]
  },
  {
   "cell_type": "markdown",
   "metadata": {
    "colab_type": "text",
    "id": "xhy17CwgmH0v"
   },
   "source": [
    "<br><br><hr width='80%'><br><br>\n",
    "\n",
    "#  <font color=\"#D21087\">Git\n"
   ]
  },
  {
   "cell_type": "markdown",
   "metadata": {
    "colab_type": "text",
    "id": "kSvZ1wWV8YxQ"
   },
   "source": [
    "Git is a version control system which is largely considered the de facto standard for development."
   ]
  },
  {
   "cell_type": "markdown",
   "metadata": {
    "colab_type": "text",
    "id": "HiNzHcIoB-rb"
   },
   "source": [
    "\n",
    "\n",
    "##  <font color=\"#D21087\">Why Use Version Control?\n",
    "\n",
    "> `File listing:`<br>\n",
    "`main-v1.py`<br>\n",
    "`main-v2.py`<br>\n",
    "`main-final.py`<br>\n",
    "`main-really-final.py`<br>\n",
    "\n",
    "\n",
    "\n",
    "We've seen this before. Version control systems will keep detailed records of each change to any file it tracks. It will also synchronize your list of changes with changes other people make.\n",
    "\n",
    "Are you editing a file and someone else is editing the same file on their system? Who merges the changes into a master version? Git will do this for you and leave you to only clean up the lines where there is a merge conflict.\n",
    "\n",
    "Have you ever worked on something in a file, but it's not done, and you need to pause your work and work on the same file without the other changes you're working on?  Git has branches which allow you to separate tasks and publish/merge them only when you're absolutely ready to.\n"
   ]
  },
  {
   "cell_type": "markdown",
   "metadata": {
    "colab_type": "text",
    "id": "bnhGi3oTCAjI"
   },
   "source": [
    "##  <font color=\"#D21087\">What is Github?\n",
    "\n",
    "Github (and Bitbucket, and GitLab) is a development collaboration platform built-on top of git. It allows for projects to be privately or publically hosted with one or more contributors. Requests for changes, also called Pull Requests, can be submitted. Github and the like also include bug tracking and documentation tools. Adding your work to Github/Bitbucket/Gitlab is best practice, almost no matter the size.\n"
   ]
  },
  {
   "cell_type": "markdown",
   "metadata": {
    "colab_type": "text",
    "id": "bxrORETg9eul"
   },
   "source": [
    "<br><br><hr width='80%'><br><br>\n",
    "\n",
    "#  <font color=\"#D21087\">Hands-On Labs!\n"
   ]
  },
  {
   "cell_type": "markdown",
   "metadata": {
    "colab_type": "text",
    "id": "DlPV-ekjADCy"
   },
   "source": [
    "See if you can tackle these hands-on exercises. If you need assistance, searching online will reveal some hints.\n",
    "\n",
    "##  <font color=\"#D21087\">Easy</font>\n",
    "\n",
    "1. Create a `list` of 5 fruits and print the 4th item in the list.\n",
    "1. Use a `for` loop to print each fruit on its own line.\n",
    "1. Create a sentence as a `string` and then replace one of the words. There is more than one way!\n"
   ]
  },
  {
   "cell_type": "code",
   "execution_count": 0,
   "metadata": {
    "colab": {
     "base_uri": "https://localhost:8080/",
     "height": 34
    },
    "colab_type": "code",
    "executionInfo": {
     "elapsed": 282,
     "status": "ok",
     "timestamp": 1565300283869,
     "user": {
      "displayName": "Victor Aranda",
      "photoUrl": "https://lh6.googleusercontent.com/-3IsrT71qswc/AAAAAAAAAAI/AAAAAAAAB4U/5w_yClK4eWI/s64/photo.jpg",
      "userId": "00841928612155834879"
     },
     "user_tz": 420
    },
    "id": "c7FxLz2PA5Lu",
    "outputId": "84571e9a-df76-47db-8f09-895e5b6d6b56"
   },
   "outputs": [
    {
     "name": "stdout",
     "output_type": "stream",
     "text": [
      "strawberry\n"
     ]
    }
   ],
   "source": [
    "# solution to Easy problem 1\n",
    "\n",
    "fruits = [\"apple\", \"banana\", \"grapes\", \"strawberry\", \"raspberry\"]\n",
    "print(fruits[3])"
   ]
  },
  {
   "cell_type": "code",
   "execution_count": 0,
   "metadata": {
    "colab": {
     "base_uri": "https://localhost:8080/",
     "height": 102
    },
    "colab_type": "code",
    "executionInfo": {
     "elapsed": 310,
     "status": "ok",
     "timestamp": 1565300284798,
     "user": {
      "displayName": "Victor Aranda",
      "photoUrl": "https://lh6.googleusercontent.com/-3IsrT71qswc/AAAAAAAAAAI/AAAAAAAAB4U/5w_yClK4eWI/s64/photo.jpg",
      "userId": "00841928612155834879"
     },
     "user_tz": 420
    },
    "id": "iODibzPPA5tY",
    "outputId": "7f0a90ee-5d60-46f6-f163-965f4beb2a89"
   },
   "outputs": [
    {
     "name": "stdout",
     "output_type": "stream",
     "text": [
      "apple\n",
      "banana\n",
      "grapes\n",
      "strawberry\n",
      "raspberry\n"
     ]
    }
   ],
   "source": [
    "# solution to Easy problem 2\n",
    "\n",
    "for fruit in fruits:\n",
    "    print(fruit)"
   ]
  },
  {
   "cell_type": "code",
   "execution_count": 53,
   "metadata": {
    "colab": {
     "base_uri": "https://localhost:8080/",
     "height": 34
    },
    "colab_type": "code",
    "executionInfo": {
     "elapsed": 390,
     "status": "ok",
     "timestamp": 1565315218067,
     "user": {
      "displayName": "Victor Aranda",
      "photoUrl": "https://lh6.googleusercontent.com/-3IsrT71qswc/AAAAAAAAAAI/AAAAAAAAB4U/5w_yClK4eWI/s64/photo.jpg",
      "userId": "00841928612155834879"
     },
     "user_tz": 420
    },
    "id": "w860qoHYA554",
    "outputId": "e0800608-26ee-450b-8f1b-8cd61fc58595"
   },
   "outputs": [
    {
     "data": {
      "text/plain": [
       "'ay caramba, this is a sentence'"
      ]
     },
     "execution_count": 53,
     "metadata": {
      "tags": []
     },
     "output_type": "execute_result"
    }
   ],
   "source": [
    "# solution to Easy problem 3\n",
    "\n",
    "my_sentence = 'whoa, this is a sentence'\n",
    "\n",
    "my_sentence.replace('whoa', 'ay caramba')"
   ]
  },
  {
   "cell_type": "markdown",
   "metadata": {
    "colab_type": "text",
    "id": "1oyHDPFkAz8R"
   },
   "source": [
    "##  <font color=\"#D21087\">Moderate</font>\n",
    "\n",
    "1. Determine whether a given fruit is present in the list of fruits regardless of upper or lower case. **Bonus**: can you do this in one line of code?\n",
    "1. Write a `function` that takes a number $X$ and returns `True` if $X$ is even and `False` if $X$ is odd.\n",
    "1. Create a dictionary with at least five key-value pairs and iterate through the keys. If a specific value $X$ is found in the values, return `True`, otherwise return `False`.\n",
    "\n",
    "\n"
   ]
  },
  {
   "cell_type": "code",
   "execution_count": 58,
   "metadata": {
    "colab": {
     "base_uri": "https://localhost:8080/",
     "height": 51
    },
    "colab_type": "code",
    "executionInfo": {
     "elapsed": 351,
     "status": "ok",
     "timestamp": 1565315279831,
     "user": {
      "displayName": "Victor Aranda",
      "photoUrl": "https://lh6.googleusercontent.com/-3IsrT71qswc/AAAAAAAAAAI/AAAAAAAAB4U/5w_yClK4eWI/s64/photo.jpg",
      "userId": "00841928612155834879"
     },
     "user_tz": 420
    },
    "id": "4JW1WnvHA-mG",
    "outputId": "7bcdc73a-145a-4b34-fc79-bcfa508be217"
   },
   "outputs": [
    {
     "name": "stdout",
     "output_type": "stream",
     "text": [
      "searching for BaNaNa : True\n",
      "searching for Kiwi : False\n"
     ]
    }
   ],
   "source": [
    "# solution to Moderate problem 1\n",
    "\n",
    "# lets make things more interesting\n",
    "fruits = ['apple', 'banana', 'PEAR', 'Grapes', 'strawberry', 'raspberry']\n",
    "\n",
    "# look for this\n",
    "search_for_fruit_name = 'BaNaNa'\n",
    "\n",
    "\n",
    "\n",
    "# search for something that does exist\n",
    "search_for_fruit_name.lower() in [f.lower() for f in fruits] # one line!\n",
    "found = search_for_fruit_name.lower() in [f.lower() for f in fruits]\n",
    "print('searching for', search_for_fruit_name ,':', found)    \n",
    "\n",
    "# let's try something that should not exist\n",
    "search_for_fruit_name = 'Kiwi'\n",
    "found = search_for_fruit_name.lower() in [f.lower() for f in fruits]\n",
    "print('searching for', search_for_fruit_name ,':', found)"
   ]
  },
  {
   "cell_type": "code",
   "execution_count": 55,
   "metadata": {
    "colab": {
     "base_uri": "https://localhost:8080/",
     "height": 34
    },
    "colab_type": "code",
    "executionInfo": {
     "elapsed": 333,
     "status": "ok",
     "timestamp": 1565315229131,
     "user": {
      "displayName": "Victor Aranda",
      "photoUrl": "https://lh6.googleusercontent.com/-3IsrT71qswc/AAAAAAAAAAI/AAAAAAAAB4U/5w_yClK4eWI/s64/photo.jpg",
      "userId": "00841928612155834879"
     },
     "user_tz": 420
    },
    "id": "Bj7uvU6tBAY3",
    "outputId": "d6d4cfda-06a5-409e-f2ab-c1180053ba3f"
   },
   "outputs": [
    {
     "name": "stdout",
     "output_type": "stream",
     "text": [
      "True\n"
     ]
    }
   ],
   "source": [
    "def is_even(number):\n",
    "    if number % 2 == 0:\n",
    "        return True\n",
    "    else:\n",
    "        return False\n",
    "\n",
    "print(is_even(4))"
   ]
  },
  {
   "cell_type": "code",
   "execution_count": 0,
   "metadata": {
    "colab": {
     "base_uri": "https://localhost:8080/",
     "height": 34
    },
    "colab_type": "code",
    "executionInfo": {
     "elapsed": 269,
     "status": "ok",
     "timestamp": 1565300286360,
     "user": {
      "displayName": "Victor Aranda",
      "photoUrl": "https://lh6.googleusercontent.com/-3IsrT71qswc/AAAAAAAAAAI/AAAAAAAAB4U/5w_yClK4eWI/s64/photo.jpg",
      "userId": "00841928612155834879"
     },
     "user_tz": 420
    },
    "id": "ZkJYrHbSBAkO",
    "outputId": "e84f349a-d307-4538-8382-11418be9c34e"
   },
   "outputs": [
    {
     "name": "stdout",
     "output_type": "stream",
     "text": [
      "True\n"
     ]
    }
   ],
   "source": [
    "person = {'name': 'Kevin',\n",
    "          'age': 36,\n",
    "          'city': 'Elgin',\n",
    "          'state': 'IL',\n",
    "          'zip': 60124}\n",
    "\n",
    "present = False\n",
    "for n in person:\n",
    "    if person[n] == 'Elgin':\n",
    "        present = True\n",
    "\n",
    "print(present)"
   ]
  },
  {
   "cell_type": "markdown",
   "metadata": {
    "colab_type": "text",
    "id": "D6-gHVlxA12Y"
   },
   "source": [
    "##  <font color=\"#D21087\">Tough</font>\n",
    "1. Write a function that takes a number $X$ and returns all of the prime numbers between 1 and $X$.\n",
    "1. Write a function that takes a string $S$ and a number $X$ and removes the $X$ rightmost words from the string (space delimited). **Bonus:** Gracefully handle (one way or another) the case where the number of words to remove ( $X$ ) is greater than the number of words in $S$.\n",
    "1. Write a function that takes a string OR a list of strings and returns `True` if all of the characters in the string, or the list of strings, are lower case letters and `False` otherwise. **Bonus:** Gracefully handle the case where something other than a string or a list containing only strings was passed to it. If it is a list, report to the user via `print()` the problematic item encountered."
   ]
  },
  {
   "cell_type": "code",
   "execution_count": 0,
   "metadata": {
    "colab": {},
    "colab_type": "code",
    "id": "iZf-XM7-BEHt"
   },
   "outputs": [],
   "source": [
    "# solution to Tough problem 1\n"
   ]
  },
  {
   "cell_type": "code",
   "execution_count": 0,
   "metadata": {
    "colab": {},
    "colab_type": "code",
    "id": "lnB_4lqhBHvE"
   },
   "outputs": [],
   "source": [
    "# solution to Tough problem 2"
   ]
  },
  {
   "cell_type": "code",
   "execution_count": 0,
   "metadata": {
    "colab": {},
    "colab_type": "code",
    "id": "d-1veN16BH9l"
   },
   "outputs": [],
   "source": [
    "# solution to Tough problem 3"
   ]
  },
  {
   "cell_type": "markdown",
   "metadata": {
    "colab_type": "text",
    "id": "2lemh9WAaXwa"
   },
   "source": [
    "<br><br><hr width='80%'><br><br>\n",
    "#  <font color=\"#D21087\">References</font>\n",
    "\n",
    "The Internet has a ton of great references for Python. Here are a few sites to get you started.\n",
    "\n",
    "[python.org](www.python.org)\n",
    "\n",
    "[Real Python](https://realpython.com/)\n",
    "\n",
    "[Youtube Python Videos](https://www.youtube.com/results?search_query=python)\n",
    "\n",
    "[Automate the Boring Stuff with Python](https://automatetheboringstuff.com/)"
   ]
  },
  {
   "cell_type": "code",
   "execution_count": 0,
   "metadata": {
    "colab": {},
    "colab_type": "code",
    "id": "0XvFh0HKKuZs"
   },
   "outputs": [],
   "source": [
    " "
   ]
  }
 ],
 "metadata": {
  "colab": {
   "collapsed_sections": [],
   "name": "Copy of Mastery - Programming with Python.ipynb",
   "provenance": [
    {
     "file_id": "https://github.com/kbreit/mastery19/blob/master/Mastery_Programming_with_Python.ipynb",
     "timestamp": 1564619742232
    }
   ],
   "toc_visible": true,
   "version": "0.3.2"
  },
  "kernelspec": {
   "display_name": "Python 3",
   "language": "python",
   "name": "python3"
  },
  "language_info": {
   "codemirror_mode": {
    "name": "ipython",
    "version": 3
   },
   "file_extension": ".py",
   "mimetype": "text/x-python",
   "name": "python",
   "nbconvert_exporter": "python",
   "pygments_lexer": "ipython3",
   "version": "3.7.3"
  }
 },
 "nbformat": 4,
 "nbformat_minor": 1
}
