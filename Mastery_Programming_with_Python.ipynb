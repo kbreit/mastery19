{
  "nbformat": 4,
  "nbformat_minor": 0,
  "metadata": {
    "colab": {
      "name": "Mastery - Programming with Python.ipynb",
      "version": "0.3.2",
      "provenance": [],
      "collapsed_sections": []
    },
    "kernelspec": {
      "name": "python3",
      "display_name": "Python 3"
    }
  },
  "cells": [
    {
      "cell_type": "markdown",
      "metadata": {
        "id": "2vNON_eif3wx",
        "colab_type": "text"
      },
      "source": [
        "# Objective of Course\n",
        "\n",
        "* Introduce programming concepts\n",
        "* Provide resources for self-learning\n",
        "\n"
      ]
    },
    {
      "cell_type": "markdown",
      "metadata": {
        "id": "1Thyqr35Eqee",
        "colab_type": "text"
      },
      "source": [
        "# Why Program?\n",
        "\n",
        "* New skillsets for personal improvement\n",
        "* Exercise mental muscles you don't normally use\n",
        "* Automate aspects of your job you don't like\n",
        "* Solve problems\n"
      ]
    },
    {
      "cell_type": "markdown",
      "metadata": {
        "id": "oMrs26WjEryp",
        "colab_type": "text"
      },
      "source": [
        "\n",
        "# Python 2 vs. Python 3\n",
        "\n",
        "There are 2 major Pythons of version out today - 2 and 3. 2 is very common and default on macOS (up until 10.13 at least). There are differences between the versions. For example, Python 2 prints like this:\n",
        "\n",
        "`print \"Hello World\"`\n",
        "\n",
        "and Python 3 prints like this:\n",
        "\n",
        "`print(\"Hello World\")`\n",
        "\n",
        "Python 2 is going end of support in January of 2020 so use Python 3. Many of the examples you'll find online will work with both but there will be some variation."
      ]
    },
    {
      "cell_type": "markdown",
      "metadata": {
        "id": "hWRuuVNjEtJj",
        "colab_type": "text"
      },
      "source": [
        "\n",
        " # Basic Concepts\n",
        " \n",
        " ## Nearly Universal\n",
        " \n",
        "What you learn in this class is quite transferable to other programming languages. Each programming language looks a little different and may have different rules, but languages tend to have a lot in common.\n",
        " \n",
        " ## Variables\n",
        " Variables reference information, just like in algebra:\n",
        "\n",
        "\n",
        "> let *n* equal 4\n",
        "\n",
        "> 4 + *n*\n",
        "\n",
        "\n",
        "Programming is all about using variables to accomplish a task. A variable can be:\n",
        "\n",
        "* integer\n",
        "* decimal (aka. floating point value)\n",
        "* text (aka. string)\n",
        "* boolean (true/false)\n",
        "* data structures...don't worry, more on that later\n",
        "* objects"
      ]
    },
    {
      "cell_type": "code",
      "metadata": {
        "id": "VJTjLC60gBWR",
        "colab_type": "code",
        "outputId": "0db69fbe-af04-43a0-bd02-f51b677f7f18",
        "colab": {
          "base_uri": "https://localhost:8080/",
          "height": 51
        }
      },
      "source": [
        "my_string = \"Thanks for attending today's session.\"\n",
        "my_number = 42\n",
        "\n",
        "print(my_string)\n",
        "print(my_number)\n"
      ],
      "execution_count": 0,
      "outputs": [
        {
          "output_type": "stream",
          "text": [
            "Thanks for attending today's session.\n",
            "42\n"
          ],
          "name": "stdout"
        }
      ]
    },
    {
      "cell_type": "markdown",
      "metadata": {
        "id": "mSIDr5zHeF3m",
        "colab_type": "text"
      },
      "source": [
        "Python has a `type()` function which shows the object's type."
      ]
    },
    {
      "cell_type": "code",
      "metadata": {
        "id": "3nzB0PtzGSxo",
        "colab_type": "code",
        "outputId": "280cbbff-7183-487d-a181-5c6268441204",
        "colab": {
          "base_uri": "https://localhost:8080/",
          "height": 51
        }
      },
      "source": [
        "print(type(my_string))\n",
        "print(type(my_number))"
      ],
      "execution_count": 0,
      "outputs": [
        {
          "output_type": "stream",
          "text": [
            "<class 'str'>\n",
            "<class 'int'>\n"
          ],
          "name": "stdout"
        }
      ]
    },
    {
      "cell_type": "markdown",
      "metadata": {
        "id": "KBAGeQ66eMoK",
        "colab_type": "text"
      },
      "source": [
        "But not all types can have all operations done with other types. This is logical. Can you, without some mental gymnastics, add 5 and Chevrolet? Of course not. See below for an example.\n",
        "\n",
        "You can create custom classes to make this work but that is well beyond the scope of this presentation."
      ]
    },
    {
      "cell_type": "code",
      "metadata": {
        "id": "LMQyk3L5Wo88",
        "colab_type": "code",
        "outputId": "9bb08ed9-9ba9-4f86-e5db-8f214382b8f7",
        "colab": {
          "base_uri": "https://localhost:8080/",
          "height": 180
        }
      },
      "source": [
        "my_string = my_string + 1\n",
        "print(my_string)\n"
      ],
      "execution_count": 0,
      "outputs": [
        {
          "output_type": "error",
          "ename": "TypeError",
          "evalue": "ignored",
          "traceback": [
            "\u001b[0;31m---------------------------------------------------------------------------\u001b[0m",
            "\u001b[0;31mTypeError\u001b[0m                                 Traceback (most recent call last)",
            "\u001b[0;32m<ipython-input-3-cffb7555b052>\u001b[0m in \u001b[0;36m<module>\u001b[0;34m()\u001b[0m\n\u001b[0;32m----> 1\u001b[0;31m \u001b[0mmy_string\u001b[0m \u001b[0;34m=\u001b[0m \u001b[0mmy_string\u001b[0m \u001b[0;34m+\u001b[0m \u001b[0;36m1\u001b[0m\u001b[0;34m\u001b[0m\u001b[0;34m\u001b[0m\u001b[0m\n\u001b[0m\u001b[1;32m      2\u001b[0m \u001b[0mprint\u001b[0m\u001b[0;34m(\u001b[0m\u001b[0mmy_string\u001b[0m\u001b[0;34m)\u001b[0m\u001b[0;34m\u001b[0m\u001b[0;34m\u001b[0m\u001b[0m\n",
            "\u001b[0;31mTypeError\u001b[0m: must be str, not int"
          ]
        }
      ]
    },
    {
      "cell_type": "code",
      "metadata": {
        "id": "k0LUx0jeGusI",
        "colab_type": "code",
        "outputId": "2ab61d37-77a0-4af9-ab61-f6755e9154f8",
        "colab": {
          "base_uri": "https://localhost:8080/",
          "height": 34
        }
      },
      "source": [
        "my_number = my_number + 1\n",
        "print(my_number)"
      ],
      "execution_count": 0,
      "outputs": [
        {
          "output_type": "stream",
          "text": [
            "43\n"
          ],
          "name": "stdout"
        }
      ]
    },
    {
      "cell_type": "markdown",
      "metadata": {
        "id": "A5S7Ifw_zkRF",
        "colab_type": "text"
      },
      "source": [
        "Lists are a...list...of \"things\". The items within a list are defined within square brackets (`[]`)."
      ]
    },
    {
      "cell_type": "code",
      "metadata": {
        "id": "Y5MkFE6QzsMp",
        "colab_type": "code",
        "outputId": "d292d4f6-7f78-4c0e-ea32-b38b48e287dc",
        "colab": {
          "base_uri": "https://localhost:8080/",
          "height": 34
        }
      },
      "source": [
        "presenters = [\"Victor\", \"Kevin\"]\n",
        "print(presenters)"
      ],
      "execution_count": 0,
      "outputs": [
        {
          "output_type": "stream",
          "text": [
            "['Victor', 'Kevin']\n"
          ],
          "name": "stdout"
        }
      ]
    },
    {
      "cell_type": "markdown",
      "metadata": {
        "id": "R1nnpNtX7rcN",
        "colab_type": "text"
      },
      "source": [
        "**Note:** You refer to list items by starting at 0, not 1."
      ]
    },
    {
      "cell_type": "code",
      "metadata": {
        "id": "fP_UuPCU7yYG",
        "colab_type": "code",
        "outputId": "7da8a0ee-3541-40dc-c8ba-53b80b3ea51d",
        "colab": {
          "base_uri": "https://localhost:8080/",
          "height": 34
        }
      },
      "source": [
        "print(presenters[0])"
      ],
      "execution_count": 0,
      "outputs": [
        {
          "output_type": "stream",
          "text": [
            "Victor\n"
          ],
          "name": "stdout"
        }
      ]
    },
    {
      "cell_type": "markdown",
      "metadata": {
        "id": "j0M1wYzCx5jx",
        "colab_type": "text"
      },
      "source": [
        "## What Can You Do With Variables?\n",
        "\n",
        "Short answer: lots\n"
      ]
    },
    {
      "cell_type": "markdown",
      "metadata": {
        "id": "MSuRwT9MlFyZ",
        "colab_type": "text"
      },
      "source": [
        "### Compare\n",
        "\n",
        "`if` statements allow you to take action if something is true or false."
      ]
    },
    {
      "cell_type": "code",
      "metadata": {
        "id": "YH6GUEkdy2XC",
        "colab_type": "code",
        "outputId": "3c54ff97-c7cf-4705-c440-dabb54bc3d59",
        "colab": {
          "base_uri": "https://localhost:8080/",
          "height": 34
        }
      },
      "source": [
        "my_number = 42\n",
        "\n",
        "if my_number == 42:  # == is a comparison\n",
        "  print(\"my_number is 42.\")\n",
        "elif my_number == 43:\n",
        "  print(\"my_number is 43.\")\n",
        "else:\n",
        "  print(\"my_number isn't 42 or 43.\")"
      ],
      "execution_count": 0,
      "outputs": [
        {
          "output_type": "stream",
          "text": [
            "my_number is 42.\n"
          ],
          "name": "stdout"
        }
      ]
    },
    {
      "cell_type": "markdown",
      "metadata": {
        "id": "mn1XJBakzRvu",
        "colab_type": "text"
      },
      "source": [
        "### Iterate Over Their Contents\n",
        "\n",
        "Sometimes you need to take an action against each item within a variable. It could be every letter in a string or every item in a list.\n",
        "\n",
        "Python has a `for` loop which will step through every item in a variable."
      ]
    },
    {
      "cell_type": "code",
      "metadata": {
        "id": "O7-C90XK0NY2",
        "colab_type": "code",
        "outputId": "6bfc09b6-7da9-4b3d-c409-1410f6a4a713",
        "colab": {
          "base_uri": "https://localhost:8080/",
          "height": 51
        }
      },
      "source": [
        "# Presenter is how I refer to each item as I iterate.\n",
        "for presenter in presenters:\n",
        "  print(presenter + \" is a presenter.\")"
      ],
      "execution_count": 0,
      "outputs": [
        {
          "output_type": "stream",
          "text": [
            "Victor is a presenter.\n",
            "Kevin is a presenter.\n"
          ],
          "name": "stdout"
        }
      ]
    },
    {
      "cell_type": "markdown",
      "metadata": {
        "id": "BS3RR_Fa1stq",
        "colab_type": "text"
      },
      "source": [
        "## What Other Variable Types Are There?\n",
        "\n"
      ]
    },
    {
      "cell_type": "markdown",
      "metadata": {
        "id": "8HHs_ZCJlOsd",
        "colab_type": "text"
      },
      "source": [
        "### Dictionaries\n",
        "A dictionary is a multi-dimensional list of keys and values. Think of it like a real dictionary - a word and a meaning. This example is a list (see above) of dictionaries with information about us."
      ]
    },
    {
      "cell_type": "code",
      "metadata": {
        "id": "DE5r0XxPXjMi",
        "colab_type": "code",
        "outputId": "fc554a0b-eb82-4c85-dbe1-5e25c2db9368",
        "colab": {
          "base_uri": "https://localhost:8080/",
          "height": 51
        }
      },
      "source": [
        "presenter_1 = {\"name\": \"Victor Aranda\",\n",
        "               \"title\": \"Architect II\"}\n",
        "presenter_2 = {\"name\": \"Kevin Breit\",\n",
        "               \"title\": \"Sales Engineer\"}\n",
        "print(presenter_1)\n",
        "print(presenter_1['name'])"
      ],
      "execution_count": 0,
      "outputs": [
        {
          "output_type": "stream",
          "text": [
            "{'name': 'Victor Aranda', 'title': 'Architect II'}\n",
            "Victor Aranda\n"
          ],
          "name": "stdout"
        }
      ]
    },
    {
      "cell_type": "code",
      "metadata": {
        "id": "DJP6gEin2JiP",
        "colab_type": "code",
        "outputId": "88e6f6eb-c8f5-40f6-b235-97cf5ea4aca5",
        "colab": {
          "base_uri": "https://localhost:8080/",
          "height": 51
        }
      },
      "source": [
        "presenters = [presenter_1, presenter_2]\n",
        "                        \n",
        "for presenter in presenters:\n",
        "  print(presenter[\"name\"] + \" is a \" + presenter[\"title\"] + \".\")\n",
        "\n"
      ],
      "execution_count": 0,
      "outputs": [
        {
          "output_type": "stream",
          "text": [
            "Victor Aranda is a Architect II.\n",
            "Kevin Breit is a Sales Engineer.\n"
          ],
          "name": "stdout"
        }
      ]
    },
    {
      "cell_type": "code",
      "metadata": {
        "id": "jcldpSlaIEA_",
        "colab_type": "code",
        "outputId": "f0fdaca6-1fb5-4c48-d064-c8f3b6d7f4d8",
        "colab": {
          "base_uri": "https://localhost:8080/",
          "height": 85
        }
      },
      "source": [
        "for key in presenter_1.keys():\n",
        "    print(key)\n"
      ],
      "execution_count": 0,
      "outputs": [
        {
          "output_type": "stream",
          "text": [
            "name\n",
            "title\n",
            "{'name': 'Victor Aranda', 'title': 'Architect II'}\n",
            "{'name': 'Kevin Breit', 'title': 'Sales Engineer'}\n"
          ],
          "name": "stdout"
        }
      ]
    },
    {
      "cell_type": "code",
      "metadata": {
        "id": "mm3rj-PAIlzL",
        "colab_type": "code",
        "outputId": "3dfa8059-a362-4291-c1dc-e35de97fcde5",
        "colab": {
          "base_uri": "https://localhost:8080/",
          "height": 51
        }
      },
      "source": [
        "for value in presenters:\n",
        "    print(value)"
      ],
      "execution_count": 0,
      "outputs": [
        {
          "output_type": "stream",
          "text": [
            "{'name': 'Victor Aranda', 'title': 'Architect II'}\n",
            "{'name': 'Kevin Breit', 'title': 'Sales Engineer'}\n"
          ],
          "name": "stdout"
        }
      ]
    },
    {
      "cell_type": "markdown",
      "metadata": {
        "id": "ofS0ENJZ25rH",
        "colab_type": "text"
      },
      "source": [
        "Notice how it goes through each item of the list. With each iteration through the list, the focus item is referred to as `presenter`. Then the dictionary key (ex. name) is used to get the value (ex. Victor Aranda). \n",
        "\n",
        "### General Objects\n",
        "\n",
        "Object is a generic term. Integers are objects. Strings are objects. Dictionaries are objects. Other objects may be HTTP requests, opened files, or a custom object you create. Lists and dictionaries can store objects of all types.\n",
        "\n",
        "TODO: Add reference back to operators earlier in presentation"
      ]
    },
    {
      "cell_type": "markdown",
      "metadata": {
        "id": "xhy17CwgmH0v",
        "colab_type": "text"
      },
      "source": [
        "# Git\n",
        "\n",
        "Git is a version control system which is largely considered the de facto standard for development.\n",
        "\n",
        "## Why Use Version Control?\n",
        "\n",
        "* main-v1.py\n",
        "* main-v2.py\n",
        "* main-final.py\n",
        "* main-really-final.py\n",
        "\n",
        "We've seen this before. Version control systems will keep detailed records of each change to any file it tracks. It will also synchronize your list of changes with changes other people make.\n",
        "\n",
        "Are you editing a file and someone else is editing the same file on their system? Who merges the changes into a master version? Git will do this for you and leave you to only clean up the lines where there is a merge conflict.\n",
        "\n",
        "Have you ever worked on something in a file, but it's not done, and you need to pause your work and work on the same file without the other changes you're working on?  Git has branches which allow you to separate tasks and publish/merge them only when you're absolutely ready to.\n",
        "\n",
        "## What is Github?\n",
        "\n",
        "Github (and Bitbucket, and GitLab) is a development collaboration platform built-on top of git. It allows for projects to be privately or publically hosted with one or more contributors. Requests for changes, also called Pull Requests, can be submitted. Github and the like also include bug tracking and documentation tools. Adding your work to Github/Bitbucket/Gitlab is best practice, almost no matter the size."
      ]
    },
    {
      "cell_type": "markdown",
      "metadata": {
        "id": "bxrORETg9eul",
        "colab_type": "text"
      },
      "source": [
        "# Hands-On Lab\n",
        "\n",
        "Create a list of 5 fruits and print the 4th item in the list.\n",
        "\n",
        "Then use a `for` loop to print each fruit on its own line."
      ]
    },
    {
      "cell_type": "markdown",
      "metadata": {
        "id": "2lemh9WAaXwa",
        "colab_type": "text"
      },
      "source": [
        "# References\n",
        "\n",
        "The Internet has a ton of great references for Python. Here are a few sites to get you started.\n",
        "\n",
        "[python.org](www.python.org)\n",
        "\n",
        "[Real Python](https://realpython.com/)\n",
        "\n",
        "[Youtube Python Videos](https://www.youtube.com/results?search_query=python)"
      ]
    }
  ]
}